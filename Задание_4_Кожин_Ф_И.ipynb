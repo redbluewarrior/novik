{
  "nbformat": 4,
  "nbformat_minor": 0,
  "metadata": {
    "colab": {
      "provenance": [],
      "toc_visible": true
    },
    "kernelspec": {
      "name": "python3",
      "display_name": "Python 3"
    },
    "language_info": {
      "name": "python"
    }
  },
  "cells": [
    {
      "cell_type": "markdown",
      "source": [
        "# ТЕХНОЛОГИИ ПОСТРОЕНИЯ МОДЕЛЕЙ ДЕРЕВЬЕВ РЕШЕНИЙ"
      ],
      "metadata": {
        "id": "LGH-Pxn6jdtA"
      }
    },
    {
      "cell_type": "markdown",
      "source": [
        "# **1. Подготовка исходных данных**"
      ],
      "metadata": {
        "id": "kchFOGGrHxNK"
      }
    },
    {
      "cell_type": "markdown",
      "source": [
        "Сгенерировать исходные данные для обучения модели дерева решений.\n",
        "\n",
        "Значения параметров выбираются из таблицы \"Варианты\".docx в соответствие с номером студента в списке группы в СДО."
      ],
      "metadata": {
        "id": "aqfjhvV4-F7z"
      }
    },
    {
      "cell_type": "markdown",
      "source": [
        "Для задачи классификации."
      ],
      "metadata": {
        "id": "7kUMR16pFNcm"
      }
    },
    {
      "cell_type": "code",
      "source": [
        "from sklearn.tree import DecisionTreeClassifier # Библиотека для работы с деревьями решений\n",
        "from sklearn.datasets import make_classification # Библиотека для создания синтетических наборов данных\n",
        "from sklearn.model_selection import train_test_split, validation_curve, GridSearchCV # Библиотека для разделения данных на обучающую и тестовую выборки и для построения валидационных кривых, и для поиска гиперпараметров с использованием сетки\n",
        "from sklearn.metrics import confusion_matrix, ConfusionMatrixDisplay# Библиотека для построения матрицы ошибок (confusion matrix) и для визуализации матрицы ошибок\n",
        "import matplotlib.pyplot as plt # Библиотека для построения графиков\n",
        "from sklearn.metrics import accuracy_score # Библиотека для вычисления точности модели\n",
        "from sklearn.preprocessing import StandardScaler # Библиотека для стандартизации данных\n",
        "from sklearn.inspection import permutation_importance # Библиотека для оценки важности признаков методом перестановки"
      ],
      "metadata": {
        "id": "Sgi7GXPXIZV_"
      },
      "execution_count": 88,
      "outputs": []
    },
    {
      "cell_type": "code",
      "source": [
        "from sklearn.datasets import make_classification\n",
        "X, y = make_classification(n_samples = 184,\n",
        "                           n_features = 3,\n",
        "                           n_classes = 2,\n",
        "                           n_informative = 2,\n",
        "                           n_redundant = 0,\n",
        "                           class_sep = 0.71,\n",
        "                           n_clusters_per_class = 1,\n",
        "                           random_state = 1)"
      ],
      "metadata": {
        "id": "dFksLAezwMrI"
      },
      "execution_count": 1,
      "outputs": []
    },
    {
      "cell_type": "markdown",
      "source": [
        "Разделить выборку на обучающую и тестовую.\n",
        "\n",
        "Доля объектов в тестовой выборке - 0,3.\n",
        "\n",
        "Использовать параметр `random_state` в соответствие со своим вариантом."
      ],
      "metadata": {
        "id": "V82CplRh13J3"
      }
    },
    {
      "cell_type": "code",
      "source": [
        "from sklearn.model_selection import train_test_split\n",
        "# код# Разделение на обучающую и тестовую выборки\n",
        "X_train, X_test, y_train, y_test = train_test_split(X, y, test_size=0.3, random_state=1)  # Укажите ваш random_state\n",
        "\n",
        "# Вывод размеров выборок\n",
        "print(\"Размер обучающей выборки:\", X_train.shape)\n",
        "print(\"Размер тестовой выборки:\", X_test.shape)"
      ],
      "metadata": {
        "id": "p_9oZOiB19XC",
        "colab": {
          "base_uri": "https://localhost:8080/"
        },
        "outputId": "85d6c1dc-7578-449e-e9b2-7d3de079dc24"
      },
      "execution_count": 2,
      "outputs": [
        {
          "output_type": "stream",
          "name": "stdout",
          "text": [
            "Размер обучающей выборки: (128, 3)\n",
            "Размер тестовой выборки: (56, 3)\n"
          ]
        }
      ]
    },
    {
      "cell_type": "code",
      "source": [
        "import pandas as pd\n",
        "import numpy as np"
      ],
      "metadata": {
        "id": "eS3HEhfKBq1S"
      },
      "execution_count": 7,
      "outputs": []
    },
    {
      "cell_type": "code",
      "source": [
        "# Преобразование данных в DataFrame\n",
        "columns = [f\"Feature_{i+1}\" for i in range(X.shape[1])] + [\"Target\"]\n",
        "\n",
        "# Объединение признаков и целевой переменной для обучающей выборки\n",
        "train_data = pd.DataFrame(np.column_stack((X_train, y_train)), columns=columns)\n",
        "\n",
        "# Объединение признаков и целевой переменной для тестовой выборки\n",
        "test_data = pd.DataFrame(np.column_stack((X_test, y_test)), columns=columns)"
      ],
      "metadata": {
        "id": "FAIwpsqAB7kD"
      },
      "execution_count": 8,
      "outputs": []
    },
    {
      "cell_type": "code",
      "source": [
        "print(\"Обучающая выборка:\")\n",
        "train_data\n"
      ],
      "metadata": {
        "colab": {
          "base_uri": "https://localhost:8080/",
          "height": 441
        },
        "id": "zSfkfnrmCc8V",
        "outputId": "596d6f3b-4f41-4960-ed6f-5398fef6fdde"
      },
      "execution_count": 10,
      "outputs": [
        {
          "output_type": "stream",
          "name": "stdout",
          "text": [
            "Обучающая выборка:\n"
          ]
        },
        {
          "output_type": "execute_result",
          "data": {
            "text/plain": [
              "     Feature_1  Feature_2  Feature_3  Target\n",
              "0     0.883653   2.110605   0.254254     0.0\n",
              "1     0.612343   0.556074  -0.350532     1.0\n",
              "2     0.467258  -0.115985   1.130893     0.0\n",
              "3     1.091223  -1.160170   0.267815     0.0\n",
              "4     0.209147  -0.102887   0.129344     0.0\n",
              "..         ...        ...        ...     ...\n",
              "123   0.227267  -0.777859   1.268018     0.0\n",
              "124   1.681330   1.350107   1.051576     0.0\n",
              "125   1.352166  -0.175459   1.484492     0.0\n",
              "126   0.655452  -1.565738  -0.255287     1.0\n",
              "127   0.481105  -2.094248   0.804310     0.0\n",
              "\n",
              "[128 rows x 4 columns]"
            ],
            "text/html": [
              "\n",
              "  <div id=\"df-958b4ae7-234f-4e96-a7a3-3ca853319d77\" class=\"colab-df-container\">\n",
              "    <div>\n",
              "<style scoped>\n",
              "    .dataframe tbody tr th:only-of-type {\n",
              "        vertical-align: middle;\n",
              "    }\n",
              "\n",
              "    .dataframe tbody tr th {\n",
              "        vertical-align: top;\n",
              "    }\n",
              "\n",
              "    .dataframe thead th {\n",
              "        text-align: right;\n",
              "    }\n",
              "</style>\n",
              "<table border=\"1\" class=\"dataframe\">\n",
              "  <thead>\n",
              "    <tr style=\"text-align: right;\">\n",
              "      <th></th>\n",
              "      <th>Feature_1</th>\n",
              "      <th>Feature_2</th>\n",
              "      <th>Feature_3</th>\n",
              "      <th>Target</th>\n",
              "    </tr>\n",
              "  </thead>\n",
              "  <tbody>\n",
              "    <tr>\n",
              "      <th>0</th>\n",
              "      <td>0.883653</td>\n",
              "      <td>2.110605</td>\n",
              "      <td>0.254254</td>\n",
              "      <td>0.0</td>\n",
              "    </tr>\n",
              "    <tr>\n",
              "      <th>1</th>\n",
              "      <td>0.612343</td>\n",
              "      <td>0.556074</td>\n",
              "      <td>-0.350532</td>\n",
              "      <td>1.0</td>\n",
              "    </tr>\n",
              "    <tr>\n",
              "      <th>2</th>\n",
              "      <td>0.467258</td>\n",
              "      <td>-0.115985</td>\n",
              "      <td>1.130893</td>\n",
              "      <td>0.0</td>\n",
              "    </tr>\n",
              "    <tr>\n",
              "      <th>3</th>\n",
              "      <td>1.091223</td>\n",
              "      <td>-1.160170</td>\n",
              "      <td>0.267815</td>\n",
              "      <td>0.0</td>\n",
              "    </tr>\n",
              "    <tr>\n",
              "      <th>4</th>\n",
              "      <td>0.209147</td>\n",
              "      <td>-0.102887</td>\n",
              "      <td>0.129344</td>\n",
              "      <td>0.0</td>\n",
              "    </tr>\n",
              "    <tr>\n",
              "      <th>...</th>\n",
              "      <td>...</td>\n",
              "      <td>...</td>\n",
              "      <td>...</td>\n",
              "      <td>...</td>\n",
              "    </tr>\n",
              "    <tr>\n",
              "      <th>123</th>\n",
              "      <td>0.227267</td>\n",
              "      <td>-0.777859</td>\n",
              "      <td>1.268018</td>\n",
              "      <td>0.0</td>\n",
              "    </tr>\n",
              "    <tr>\n",
              "      <th>124</th>\n",
              "      <td>1.681330</td>\n",
              "      <td>1.350107</td>\n",
              "      <td>1.051576</td>\n",
              "      <td>0.0</td>\n",
              "    </tr>\n",
              "    <tr>\n",
              "      <th>125</th>\n",
              "      <td>1.352166</td>\n",
              "      <td>-0.175459</td>\n",
              "      <td>1.484492</td>\n",
              "      <td>0.0</td>\n",
              "    </tr>\n",
              "    <tr>\n",
              "      <th>126</th>\n",
              "      <td>0.655452</td>\n",
              "      <td>-1.565738</td>\n",
              "      <td>-0.255287</td>\n",
              "      <td>1.0</td>\n",
              "    </tr>\n",
              "    <tr>\n",
              "      <th>127</th>\n",
              "      <td>0.481105</td>\n",
              "      <td>-2.094248</td>\n",
              "      <td>0.804310</td>\n",
              "      <td>0.0</td>\n",
              "    </tr>\n",
              "  </tbody>\n",
              "</table>\n",
              "<p>128 rows × 4 columns</p>\n",
              "</div>\n",
              "    <div class=\"colab-df-buttons\">\n",
              "\n",
              "  <div class=\"colab-df-container\">\n",
              "    <button class=\"colab-df-convert\" onclick=\"convertToInteractive('df-958b4ae7-234f-4e96-a7a3-3ca853319d77')\"\n",
              "            title=\"Convert this dataframe to an interactive table.\"\n",
              "            style=\"display:none;\">\n",
              "\n",
              "  <svg xmlns=\"http://www.w3.org/2000/svg\" height=\"24px\" viewBox=\"0 -960 960 960\">\n",
              "    <path d=\"M120-120v-720h720v720H120Zm60-500h600v-160H180v160Zm220 220h160v-160H400v160Zm0 220h160v-160H400v160ZM180-400h160v-160H180v160Zm440 0h160v-160H620v160ZM180-180h160v-160H180v160Zm440 0h160v-160H620v160Z\"/>\n",
              "  </svg>\n",
              "    </button>\n",
              "\n",
              "  <style>\n",
              "    .colab-df-container {\n",
              "      display:flex;\n",
              "      gap: 12px;\n",
              "    }\n",
              "\n",
              "    .colab-df-convert {\n",
              "      background-color: #E8F0FE;\n",
              "      border: none;\n",
              "      border-radius: 50%;\n",
              "      cursor: pointer;\n",
              "      display: none;\n",
              "      fill: #1967D2;\n",
              "      height: 32px;\n",
              "      padding: 0 0 0 0;\n",
              "      width: 32px;\n",
              "    }\n",
              "\n",
              "    .colab-df-convert:hover {\n",
              "      background-color: #E2EBFA;\n",
              "      box-shadow: 0px 1px 2px rgba(60, 64, 67, 0.3), 0px 1px 3px 1px rgba(60, 64, 67, 0.15);\n",
              "      fill: #174EA6;\n",
              "    }\n",
              "\n",
              "    .colab-df-buttons div {\n",
              "      margin-bottom: 4px;\n",
              "    }\n",
              "\n",
              "    [theme=dark] .colab-df-convert {\n",
              "      background-color: #3B4455;\n",
              "      fill: #D2E3FC;\n",
              "    }\n",
              "\n",
              "    [theme=dark] .colab-df-convert:hover {\n",
              "      background-color: #434B5C;\n",
              "      box-shadow: 0px 1px 3px 1px rgba(0, 0, 0, 0.15);\n",
              "      filter: drop-shadow(0px 1px 2px rgba(0, 0, 0, 0.3));\n",
              "      fill: #FFFFFF;\n",
              "    }\n",
              "  </style>\n",
              "\n",
              "    <script>\n",
              "      const buttonEl =\n",
              "        document.querySelector('#df-958b4ae7-234f-4e96-a7a3-3ca853319d77 button.colab-df-convert');\n",
              "      buttonEl.style.display =\n",
              "        google.colab.kernel.accessAllowed ? 'block' : 'none';\n",
              "\n",
              "      async function convertToInteractive(key) {\n",
              "        const element = document.querySelector('#df-958b4ae7-234f-4e96-a7a3-3ca853319d77');\n",
              "        const dataTable =\n",
              "          await google.colab.kernel.invokeFunction('convertToInteractive',\n",
              "                                                    [key], {});\n",
              "        if (!dataTable) return;\n",
              "\n",
              "        const docLinkHtml = 'Like what you see? Visit the ' +\n",
              "          '<a target=\"_blank\" href=https://colab.research.google.com/notebooks/data_table.ipynb>data table notebook</a>'\n",
              "          + ' to learn more about interactive tables.';\n",
              "        element.innerHTML = '';\n",
              "        dataTable['output_type'] = 'display_data';\n",
              "        await google.colab.output.renderOutput(dataTable, element);\n",
              "        const docLink = document.createElement('div');\n",
              "        docLink.innerHTML = docLinkHtml;\n",
              "        element.appendChild(docLink);\n",
              "      }\n",
              "    </script>\n",
              "  </div>\n",
              "\n",
              "\n",
              "<div id=\"df-a17f45b5-0490-4424-aebe-a78bafd2c307\">\n",
              "  <button class=\"colab-df-quickchart\" onclick=\"quickchart('df-a17f45b5-0490-4424-aebe-a78bafd2c307')\"\n",
              "            title=\"Suggest charts\"\n",
              "            style=\"display:none;\">\n",
              "\n",
              "<svg xmlns=\"http://www.w3.org/2000/svg\" height=\"24px\"viewBox=\"0 0 24 24\"\n",
              "     width=\"24px\">\n",
              "    <g>\n",
              "        <path d=\"M19 3H5c-1.1 0-2 .9-2 2v14c0 1.1.9 2 2 2h14c1.1 0 2-.9 2-2V5c0-1.1-.9-2-2-2zM9 17H7v-7h2v7zm4 0h-2V7h2v10zm4 0h-2v-4h2v4z\"/>\n",
              "    </g>\n",
              "</svg>\n",
              "  </button>\n",
              "\n",
              "<style>\n",
              "  .colab-df-quickchart {\n",
              "      --bg-color: #E8F0FE;\n",
              "      --fill-color: #1967D2;\n",
              "      --hover-bg-color: #E2EBFA;\n",
              "      --hover-fill-color: #174EA6;\n",
              "      --disabled-fill-color: #AAA;\n",
              "      --disabled-bg-color: #DDD;\n",
              "  }\n",
              "\n",
              "  [theme=dark] .colab-df-quickchart {\n",
              "      --bg-color: #3B4455;\n",
              "      --fill-color: #D2E3FC;\n",
              "      --hover-bg-color: #434B5C;\n",
              "      --hover-fill-color: #FFFFFF;\n",
              "      --disabled-bg-color: #3B4455;\n",
              "      --disabled-fill-color: #666;\n",
              "  }\n",
              "\n",
              "  .colab-df-quickchart {\n",
              "    background-color: var(--bg-color);\n",
              "    border: none;\n",
              "    border-radius: 50%;\n",
              "    cursor: pointer;\n",
              "    display: none;\n",
              "    fill: var(--fill-color);\n",
              "    height: 32px;\n",
              "    padding: 0;\n",
              "    width: 32px;\n",
              "  }\n",
              "\n",
              "  .colab-df-quickchart:hover {\n",
              "    background-color: var(--hover-bg-color);\n",
              "    box-shadow: 0 1px 2px rgba(60, 64, 67, 0.3), 0 1px 3px 1px rgba(60, 64, 67, 0.15);\n",
              "    fill: var(--button-hover-fill-color);\n",
              "  }\n",
              "\n",
              "  .colab-df-quickchart-complete:disabled,\n",
              "  .colab-df-quickchart-complete:disabled:hover {\n",
              "    background-color: var(--disabled-bg-color);\n",
              "    fill: var(--disabled-fill-color);\n",
              "    box-shadow: none;\n",
              "  }\n",
              "\n",
              "  .colab-df-spinner {\n",
              "    border: 2px solid var(--fill-color);\n",
              "    border-color: transparent;\n",
              "    border-bottom-color: var(--fill-color);\n",
              "    animation:\n",
              "      spin 1s steps(1) infinite;\n",
              "  }\n",
              "\n",
              "  @keyframes spin {\n",
              "    0% {\n",
              "      border-color: transparent;\n",
              "      border-bottom-color: var(--fill-color);\n",
              "      border-left-color: var(--fill-color);\n",
              "    }\n",
              "    20% {\n",
              "      border-color: transparent;\n",
              "      border-left-color: var(--fill-color);\n",
              "      border-top-color: var(--fill-color);\n",
              "    }\n",
              "    30% {\n",
              "      border-color: transparent;\n",
              "      border-left-color: var(--fill-color);\n",
              "      border-top-color: var(--fill-color);\n",
              "      border-right-color: var(--fill-color);\n",
              "    }\n",
              "    40% {\n",
              "      border-color: transparent;\n",
              "      border-right-color: var(--fill-color);\n",
              "      border-top-color: var(--fill-color);\n",
              "    }\n",
              "    60% {\n",
              "      border-color: transparent;\n",
              "      border-right-color: var(--fill-color);\n",
              "    }\n",
              "    80% {\n",
              "      border-color: transparent;\n",
              "      border-right-color: var(--fill-color);\n",
              "      border-bottom-color: var(--fill-color);\n",
              "    }\n",
              "    90% {\n",
              "      border-color: transparent;\n",
              "      border-bottom-color: var(--fill-color);\n",
              "    }\n",
              "  }\n",
              "</style>\n",
              "\n",
              "  <script>\n",
              "    async function quickchart(key) {\n",
              "      const quickchartButtonEl =\n",
              "        document.querySelector('#' + key + ' button');\n",
              "      quickchartButtonEl.disabled = true;  // To prevent multiple clicks.\n",
              "      quickchartButtonEl.classList.add('colab-df-spinner');\n",
              "      try {\n",
              "        const charts = await google.colab.kernel.invokeFunction(\n",
              "            'suggestCharts', [key], {});\n",
              "      } catch (error) {\n",
              "        console.error('Error during call to suggestCharts:', error);\n",
              "      }\n",
              "      quickchartButtonEl.classList.remove('colab-df-spinner');\n",
              "      quickchartButtonEl.classList.add('colab-df-quickchart-complete');\n",
              "    }\n",
              "    (() => {\n",
              "      let quickchartButtonEl =\n",
              "        document.querySelector('#df-a17f45b5-0490-4424-aebe-a78bafd2c307 button');\n",
              "      quickchartButtonEl.style.display =\n",
              "        google.colab.kernel.accessAllowed ? 'block' : 'none';\n",
              "    })();\n",
              "  </script>\n",
              "</div>\n",
              "    </div>\n",
              "  </div>\n"
            ],
            "application/vnd.google.colaboratory.intrinsic+json": {
              "type": "dataframe",
              "variable_name": "train_data",
              "summary": "{\n  \"name\": \"train_data\",\n  \"rows\": 128,\n  \"fields\": [\n    {\n      \"column\": \"Feature_1\",\n      \"properties\": {\n        \"dtype\": \"number\",\n        \"std\": 0.6077276886851904,\n        \"min\": -1.593813760491651,\n        \"max\": 2.2508664925765673,\n        \"num_unique_values\": 128,\n        \"samples\": [\n          0.7033371222641971,\n          0.12195127032764708,\n          0.449329082812931\n        ],\n        \"semantic_type\": \"\",\n        \"description\": \"\"\n      }\n    },\n    {\n      \"column\": \"Feature_2\",\n      \"properties\": {\n        \"dtype\": \"number\",\n        \"std\": 1.0388187451927364,\n        \"min\": -2.2370865111124707,\n        \"max\": 2.1106050536007097,\n        \"num_unique_values\": 128,\n        \"samples\": [\n          -0.4228569613907754,\n          0.017164726374088564,\n          -0.870008223190852\n        ],\n        \"semantic_type\": \"\",\n        \"description\": \"\"\n      }\n    },\n    {\n      \"column\": \"Feature_3\",\n      \"properties\": {\n        \"dtype\": \"number\",\n        \"std\": 0.8945046312766572,\n        \"min\": -1.983568388708879,\n        \"max\": 2.328206412370455,\n        \"num_unique_values\": 128,\n        \"samples\": [\n          1.1225567884246401,\n          1.154565268312682,\n          -1.3588921119742596\n        ],\n        \"semantic_type\": \"\",\n        \"description\": \"\"\n      }\n    },\n    {\n      \"column\": \"Target\",\n      \"properties\": {\n        \"dtype\": \"number\",\n        \"std\": 0.5019646441105269,\n        \"min\": 0.0,\n        \"max\": 1.0,\n        \"num_unique_values\": 2,\n        \"samples\": [\n          1.0,\n          0.0\n        ],\n        \"semantic_type\": \"\",\n        \"description\": \"\"\n      }\n    }\n  ]\n}"
            }
          },
          "metadata": {},
          "execution_count": 10
        }
      ]
    },
    {
      "cell_type": "code",
      "source": [
        "print(\"\\nТестовая выборка:\")\n",
        "test_data.head()\n"
      ],
      "metadata": {
        "colab": {
          "base_uri": "https://localhost:8080/",
          "height": 241
        },
        "id": "1_JlgBJYC2om",
        "outputId": "fc73e44c-12b9-42ba-cf53-306a810b9e0a"
      },
      "execution_count": 12,
      "outputs": [
        {
          "output_type": "stream",
          "name": "stdout",
          "text": [
            "\n",
            "Тестовая выборка:\n"
          ]
        },
        {
          "output_type": "execute_result",
          "data": {
            "text/plain": [
              "   Feature_1  Feature_2  Feature_3  Target\n",
              "0   0.662312   0.169869   0.004117     1.0\n",
              "1   0.706425  -1.952105  -0.133446     1.0\n",
              "2   1.653819   0.477610   0.072009     0.0\n",
              "3   0.940587  -0.418938  -0.876891     1.0\n",
              "4   0.020890   0.617986  -0.030796     0.0"
            ],
            "text/html": [
              "\n",
              "  <div id=\"df-1c523871-1316-459b-8547-175782dcb7b4\" class=\"colab-df-container\">\n",
              "    <div>\n",
              "<style scoped>\n",
              "    .dataframe tbody tr th:only-of-type {\n",
              "        vertical-align: middle;\n",
              "    }\n",
              "\n",
              "    .dataframe tbody tr th {\n",
              "        vertical-align: top;\n",
              "    }\n",
              "\n",
              "    .dataframe thead th {\n",
              "        text-align: right;\n",
              "    }\n",
              "</style>\n",
              "<table border=\"1\" class=\"dataframe\">\n",
              "  <thead>\n",
              "    <tr style=\"text-align: right;\">\n",
              "      <th></th>\n",
              "      <th>Feature_1</th>\n",
              "      <th>Feature_2</th>\n",
              "      <th>Feature_3</th>\n",
              "      <th>Target</th>\n",
              "    </tr>\n",
              "  </thead>\n",
              "  <tbody>\n",
              "    <tr>\n",
              "      <th>0</th>\n",
              "      <td>0.662312</td>\n",
              "      <td>0.169869</td>\n",
              "      <td>0.004117</td>\n",
              "      <td>1.0</td>\n",
              "    </tr>\n",
              "    <tr>\n",
              "      <th>1</th>\n",
              "      <td>0.706425</td>\n",
              "      <td>-1.952105</td>\n",
              "      <td>-0.133446</td>\n",
              "      <td>1.0</td>\n",
              "    </tr>\n",
              "    <tr>\n",
              "      <th>2</th>\n",
              "      <td>1.653819</td>\n",
              "      <td>0.477610</td>\n",
              "      <td>0.072009</td>\n",
              "      <td>0.0</td>\n",
              "    </tr>\n",
              "    <tr>\n",
              "      <th>3</th>\n",
              "      <td>0.940587</td>\n",
              "      <td>-0.418938</td>\n",
              "      <td>-0.876891</td>\n",
              "      <td>1.0</td>\n",
              "    </tr>\n",
              "    <tr>\n",
              "      <th>4</th>\n",
              "      <td>0.020890</td>\n",
              "      <td>0.617986</td>\n",
              "      <td>-0.030796</td>\n",
              "      <td>0.0</td>\n",
              "    </tr>\n",
              "  </tbody>\n",
              "</table>\n",
              "</div>\n",
              "    <div class=\"colab-df-buttons\">\n",
              "\n",
              "  <div class=\"colab-df-container\">\n",
              "    <button class=\"colab-df-convert\" onclick=\"convertToInteractive('df-1c523871-1316-459b-8547-175782dcb7b4')\"\n",
              "            title=\"Convert this dataframe to an interactive table.\"\n",
              "            style=\"display:none;\">\n",
              "\n",
              "  <svg xmlns=\"http://www.w3.org/2000/svg\" height=\"24px\" viewBox=\"0 -960 960 960\">\n",
              "    <path d=\"M120-120v-720h720v720H120Zm60-500h600v-160H180v160Zm220 220h160v-160H400v160Zm0 220h160v-160H400v160ZM180-400h160v-160H180v160Zm440 0h160v-160H620v160ZM180-180h160v-160H180v160Zm440 0h160v-160H620v160Z\"/>\n",
              "  </svg>\n",
              "    </button>\n",
              "\n",
              "  <style>\n",
              "    .colab-df-container {\n",
              "      display:flex;\n",
              "      gap: 12px;\n",
              "    }\n",
              "\n",
              "    .colab-df-convert {\n",
              "      background-color: #E8F0FE;\n",
              "      border: none;\n",
              "      border-radius: 50%;\n",
              "      cursor: pointer;\n",
              "      display: none;\n",
              "      fill: #1967D2;\n",
              "      height: 32px;\n",
              "      padding: 0 0 0 0;\n",
              "      width: 32px;\n",
              "    }\n",
              "\n",
              "    .colab-df-convert:hover {\n",
              "      background-color: #E2EBFA;\n",
              "      box-shadow: 0px 1px 2px rgba(60, 64, 67, 0.3), 0px 1px 3px 1px rgba(60, 64, 67, 0.15);\n",
              "      fill: #174EA6;\n",
              "    }\n",
              "\n",
              "    .colab-df-buttons div {\n",
              "      margin-bottom: 4px;\n",
              "    }\n",
              "\n",
              "    [theme=dark] .colab-df-convert {\n",
              "      background-color: #3B4455;\n",
              "      fill: #D2E3FC;\n",
              "    }\n",
              "\n",
              "    [theme=dark] .colab-df-convert:hover {\n",
              "      background-color: #434B5C;\n",
              "      box-shadow: 0px 1px 3px 1px rgba(0, 0, 0, 0.15);\n",
              "      filter: drop-shadow(0px 1px 2px rgba(0, 0, 0, 0.3));\n",
              "      fill: #FFFFFF;\n",
              "    }\n",
              "  </style>\n",
              "\n",
              "    <script>\n",
              "      const buttonEl =\n",
              "        document.querySelector('#df-1c523871-1316-459b-8547-175782dcb7b4 button.colab-df-convert');\n",
              "      buttonEl.style.display =\n",
              "        google.colab.kernel.accessAllowed ? 'block' : 'none';\n",
              "\n",
              "      async function convertToInteractive(key) {\n",
              "        const element = document.querySelector('#df-1c523871-1316-459b-8547-175782dcb7b4');\n",
              "        const dataTable =\n",
              "          await google.colab.kernel.invokeFunction('convertToInteractive',\n",
              "                                                    [key], {});\n",
              "        if (!dataTable) return;\n",
              "\n",
              "        const docLinkHtml = 'Like what you see? Visit the ' +\n",
              "          '<a target=\"_blank\" href=https://colab.research.google.com/notebooks/data_table.ipynb>data table notebook</a>'\n",
              "          + ' to learn more about interactive tables.';\n",
              "        element.innerHTML = '';\n",
              "        dataTable['output_type'] = 'display_data';\n",
              "        await google.colab.output.renderOutput(dataTable, element);\n",
              "        const docLink = document.createElement('div');\n",
              "        docLink.innerHTML = docLinkHtml;\n",
              "        element.appendChild(docLink);\n",
              "      }\n",
              "    </script>\n",
              "  </div>\n",
              "\n",
              "\n",
              "<div id=\"df-d804be03-908f-4036-99d2-8894616b5aea\">\n",
              "  <button class=\"colab-df-quickchart\" onclick=\"quickchart('df-d804be03-908f-4036-99d2-8894616b5aea')\"\n",
              "            title=\"Suggest charts\"\n",
              "            style=\"display:none;\">\n",
              "\n",
              "<svg xmlns=\"http://www.w3.org/2000/svg\" height=\"24px\"viewBox=\"0 0 24 24\"\n",
              "     width=\"24px\">\n",
              "    <g>\n",
              "        <path d=\"M19 3H5c-1.1 0-2 .9-2 2v14c0 1.1.9 2 2 2h14c1.1 0 2-.9 2-2V5c0-1.1-.9-2-2-2zM9 17H7v-7h2v7zm4 0h-2V7h2v10zm4 0h-2v-4h2v4z\"/>\n",
              "    </g>\n",
              "</svg>\n",
              "  </button>\n",
              "\n",
              "<style>\n",
              "  .colab-df-quickchart {\n",
              "      --bg-color: #E8F0FE;\n",
              "      --fill-color: #1967D2;\n",
              "      --hover-bg-color: #E2EBFA;\n",
              "      --hover-fill-color: #174EA6;\n",
              "      --disabled-fill-color: #AAA;\n",
              "      --disabled-bg-color: #DDD;\n",
              "  }\n",
              "\n",
              "  [theme=dark] .colab-df-quickchart {\n",
              "      --bg-color: #3B4455;\n",
              "      --fill-color: #D2E3FC;\n",
              "      --hover-bg-color: #434B5C;\n",
              "      --hover-fill-color: #FFFFFF;\n",
              "      --disabled-bg-color: #3B4455;\n",
              "      --disabled-fill-color: #666;\n",
              "  }\n",
              "\n",
              "  .colab-df-quickchart {\n",
              "    background-color: var(--bg-color);\n",
              "    border: none;\n",
              "    border-radius: 50%;\n",
              "    cursor: pointer;\n",
              "    display: none;\n",
              "    fill: var(--fill-color);\n",
              "    height: 32px;\n",
              "    padding: 0;\n",
              "    width: 32px;\n",
              "  }\n",
              "\n",
              "  .colab-df-quickchart:hover {\n",
              "    background-color: var(--hover-bg-color);\n",
              "    box-shadow: 0 1px 2px rgba(60, 64, 67, 0.3), 0 1px 3px 1px rgba(60, 64, 67, 0.15);\n",
              "    fill: var(--button-hover-fill-color);\n",
              "  }\n",
              "\n",
              "  .colab-df-quickchart-complete:disabled,\n",
              "  .colab-df-quickchart-complete:disabled:hover {\n",
              "    background-color: var(--disabled-bg-color);\n",
              "    fill: var(--disabled-fill-color);\n",
              "    box-shadow: none;\n",
              "  }\n",
              "\n",
              "  .colab-df-spinner {\n",
              "    border: 2px solid var(--fill-color);\n",
              "    border-color: transparent;\n",
              "    border-bottom-color: var(--fill-color);\n",
              "    animation:\n",
              "      spin 1s steps(1) infinite;\n",
              "  }\n",
              "\n",
              "  @keyframes spin {\n",
              "    0% {\n",
              "      border-color: transparent;\n",
              "      border-bottom-color: var(--fill-color);\n",
              "      border-left-color: var(--fill-color);\n",
              "    }\n",
              "    20% {\n",
              "      border-color: transparent;\n",
              "      border-left-color: var(--fill-color);\n",
              "      border-top-color: var(--fill-color);\n",
              "    }\n",
              "    30% {\n",
              "      border-color: transparent;\n",
              "      border-left-color: var(--fill-color);\n",
              "      border-top-color: var(--fill-color);\n",
              "      border-right-color: var(--fill-color);\n",
              "    }\n",
              "    40% {\n",
              "      border-color: transparent;\n",
              "      border-right-color: var(--fill-color);\n",
              "      border-top-color: var(--fill-color);\n",
              "    }\n",
              "    60% {\n",
              "      border-color: transparent;\n",
              "      border-right-color: var(--fill-color);\n",
              "    }\n",
              "    80% {\n",
              "      border-color: transparent;\n",
              "      border-right-color: var(--fill-color);\n",
              "      border-bottom-color: var(--fill-color);\n",
              "    }\n",
              "    90% {\n",
              "      border-color: transparent;\n",
              "      border-bottom-color: var(--fill-color);\n",
              "    }\n",
              "  }\n",
              "</style>\n",
              "\n",
              "  <script>\n",
              "    async function quickchart(key) {\n",
              "      const quickchartButtonEl =\n",
              "        document.querySelector('#' + key + ' button');\n",
              "      quickchartButtonEl.disabled = true;  // To prevent multiple clicks.\n",
              "      quickchartButtonEl.classList.add('colab-df-spinner');\n",
              "      try {\n",
              "        const charts = await google.colab.kernel.invokeFunction(\n",
              "            'suggestCharts', [key], {});\n",
              "      } catch (error) {\n",
              "        console.error('Error during call to suggestCharts:', error);\n",
              "      }\n",
              "      quickchartButtonEl.classList.remove('colab-df-spinner');\n",
              "      quickchartButtonEl.classList.add('colab-df-quickchart-complete');\n",
              "    }\n",
              "    (() => {\n",
              "      let quickchartButtonEl =\n",
              "        document.querySelector('#df-d804be03-908f-4036-99d2-8894616b5aea button');\n",
              "      quickchartButtonEl.style.display =\n",
              "        google.colab.kernel.accessAllowed ? 'block' : 'none';\n",
              "    })();\n",
              "  </script>\n",
              "</div>\n",
              "    </div>\n",
              "  </div>\n"
            ],
            "application/vnd.google.colaboratory.intrinsic+json": {
              "type": "dataframe",
              "variable_name": "test_data",
              "summary": "{\n  \"name\": \"test_data\",\n  \"rows\": 56,\n  \"fields\": [\n    {\n      \"column\": \"Feature_1\",\n      \"properties\": {\n        \"dtype\": \"number\",\n        \"std\": 0.5656163391580122,\n        \"min\": -1.1788328959235468,\n        \"max\": 1.9117442849054018,\n        \"num_unique_values\": 56,\n        \"samples\": [\n          0.6623122646878038,\n          0.45986033270722254,\n          -0.4488045861105614\n        ],\n        \"semantic_type\": \"\",\n        \"description\": \"\"\n      }\n    },\n    {\n      \"column\": \"Feature_2\",\n      \"properties\": {\n        \"dtype\": \"number\",\n        \"std\": 0.9845554425213284,\n        \"min\": -2.4135030011737877,\n        \"max\": 1.7045941713724069,\n        \"num_unique_values\": 56,\n        \"samples\": [\n          0.1698692553475717,\n          0.4511229387345986,\n          -0.10839206717353982\n        ],\n        \"semantic_type\": \"\",\n        \"description\": \"\"\n      }\n    },\n    {\n      \"column\": \"Feature_3\",\n      \"properties\": {\n        \"dtype\": \"number\",\n        \"std\": 0.9506158268041078,\n        \"min\": -2.206122400037078,\n        \"max\": 2.180479957736747,\n        \"num_unique_values\": 56,\n        \"samples\": [\n          0.004116635218235909,\n          -0.42227527824616773,\n          0.5621523625508931\n        ],\n        \"semantic_type\": \"\",\n        \"description\": \"\"\n      }\n    },\n    {\n      \"column\": \"Target\",\n      \"properties\": {\n        \"dtype\": \"number\",\n        \"std\": 0.504524979109513,\n        \"min\": 0.0,\n        \"max\": 1.0,\n        \"num_unique_values\": 2,\n        \"samples\": [\n          0.0,\n          1.0\n        ],\n        \"semantic_type\": \"\",\n        \"description\": \"\"\n      }\n    }\n  ]\n}"
            }
          },
          "metadata": {},
          "execution_count": 12
        }
      ]
    },
    {
      "cell_type": "markdown",
      "source": [
        "# **2. Обучение модели**"
      ],
      "metadata": {
        "id": "UbR4vr5J2SXQ"
      }
    },
    {
      "cell_type": "markdown",
      "metadata": {
        "id": "IjDfPqP9vmJl"
      },
      "source": [
        "Вычислить количество вопросов, которое необходимо проанализировать в корневом узле дерева решений для его разделения."
      ]
    },
    {
      "cell_type": "code",
      "source": [
        "from sklearn.tree import DecisionTreeClassifier\n",
        "# Создание и обучение дерева решений\n",
        "tree = DecisionTreeClassifier(random_state=1)\n",
        "tree.fit(X_train, y_train)\n",
        "\n",
        "# Вывод информации о дереве\n",
        "print(\"Количество признаков, используемых для разделения:\", tree.n_features_in_)\n",
        "print(\"Количество признаков, анализируемых в корневом узле:\", X.shape[1])"
      ],
      "metadata": {
        "id": "SuJQq2_bNiZh",
        "colab": {
          "base_uri": "https://localhost:8080/"
        },
        "outputId": "2f2d5698-62f4-4118-bd3f-547dbfa29c00"
      },
      "execution_count": 17,
      "outputs": [
        {
          "output_type": "stream",
          "name": "stdout",
          "text": [
            "Количество признаков, используемых для разделения: 3\n",
            "Количество признаков, анализируемых в корневом узле: 3\n"
          ]
        }
      ]
    },
    {
      "cell_type": "markdown",
      "source": [
        "Обучить модель дерева решений на тренировочной выборке с гиперпараметрами по умолчанию."
      ],
      "metadata": {
        "id": "2pPZicIkT4zS"
      }
    },
    {
      "cell_type": "code",
      "source": [
        "# Создание и обучение модели дерева решений с гиперпараметрами по умолчанию\n",
        "tree = DecisionTreeClassifier(random_state=1)  # Устанавливаем random_state для воспроизводимости\n",
        "tree.fit(X_train, y_train)\n",
        "\n",
        "# Вывод информации о модели\n",
        "print(\"Модель обучена на тренировочной выборке.\")\n",
        "print(\"Количество признаков, используемых для разделения:\", tree.n_features_in_)\n",
        "print(\"Важность признаков:\", tree.feature_importances_)"
      ],
      "metadata": {
        "id": "NmugPXD1QLab",
        "colab": {
          "base_uri": "https://localhost:8080/"
        },
        "outputId": "8517475a-e0f4-4d4d-9935-0ab1396630d7"
      },
      "execution_count": 18,
      "outputs": [
        {
          "output_type": "stream",
          "name": "stdout",
          "text": [
            "Модель обучена на тренировочной выборке.\n",
            "Количество признаков, используемых для разделения: 3\n",
            "Важность признаков: [0.14111076 0.08179825 0.77709099]\n"
          ]
        }
      ]
    },
    {
      "cell_type": "markdown",
      "source": [
        "Визуализировать полученное дерево."
      ],
      "metadata": {
        "id": "ZlrJjwJNVqpC"
      }
    },
    {
      "cell_type": "code",
      "source": [
        "import graphviz\n",
        "from sklearn.tree import export_graphviz\n",
        "# Экспорт дерева в формате .dot\n",
        "dot_data = export_graphviz(tree,\n",
        "                           out_file=None,\n",
        "                           feature_names=[f\"Feature_{i+1}\" for i in range(X.shape[1])],  # Имена признаков\n",
        "                           class_names=[\"Class 0\", \"Class 1\"],  # Имена классов\n",
        "                           filled=True,  # Заливка узлов\n",
        "                           rounded=True,  # Закругленные углы\n",
        "                           special_characters=True)  # Специальные символы\n",
        "\n",
        "# Визуализация дерева в блокноте\n",
        "graph = graphviz.Source(dot_data)\n",
        "graph"
      ],
      "metadata": {
        "id": "MqY5SBg3RkmB",
        "colab": {
          "base_uri": "https://localhost:8080/",
          "height": 1000
        },
        "outputId": "b97c67f3-a5fe-4da7-93c5-600613f82758"
      },
      "execution_count": 20,
      "outputs": [
        {
          "output_type": "execute_result",
          "data": {
            "image/svg+xml": "<?xml version=\"1.0\" encoding=\"UTF-8\" standalone=\"no\"?>\n<!DOCTYPE svg PUBLIC \"-//W3C//DTD SVG 1.1//EN\"\n \"http://www.w3.org/Graphics/SVG/1.1/DTD/svg11.dtd\">\n<!-- Generated by graphviz version 2.43.0 (0)\n -->\n<!-- Title: Tree Pages: 1 -->\n<svg width=\"786pt\" height=\"909pt\"\n viewBox=\"0.00 0.00 785.50 909.00\" xmlns=\"http://www.w3.org/2000/svg\" xmlns:xlink=\"http://www.w3.org/1999/xlink\">\n<g id=\"graph0\" class=\"graph\" transform=\"scale(1 1) rotate(0) translate(4 905)\">\n<title>Tree</title>\n<polygon fill=\"white\" stroke=\"transparent\" points=\"-4,4 -4,-905 781.5,-905 781.5,4 -4,4\"/>\n<!-- 0 -->\n<g id=\"node1\" class=\"node\">\n<title>0</title>\n<path fill=\"#ffffff\" stroke=\"black\" d=\"M325,-901C325,-901 218,-901 218,-901 212,-901 206,-895 206,-889 206,-889 206,-830 206,-830 206,-824 212,-818 218,-818 218,-818 325,-818 325,-818 331,-818 337,-824 337,-830 337,-830 337,-889 337,-889 337,-895 331,-901 325,-901\"/>\n<text text-anchor=\"start\" x=\"214\" y=\"-885.8\" font-family=\"Helvetica,sans-Serif\" font-size=\"14.00\">Feature_3 ≤ &#45;0.059</text>\n<text text-anchor=\"start\" x=\"243.5\" y=\"-870.8\" font-family=\"Helvetica,sans-Serif\" font-size=\"14.00\">gini = 0.5</text>\n<text text-anchor=\"start\" x=\"226.5\" y=\"-855.8\" font-family=\"Helvetica,sans-Serif\" font-size=\"14.00\">samples = 128</text>\n<text text-anchor=\"start\" x=\"224.5\" y=\"-840.8\" font-family=\"Helvetica,sans-Serif\" font-size=\"14.00\">value = [64, 64]</text>\n<text text-anchor=\"start\" x=\"225.5\" y=\"-825.8\" font-family=\"Helvetica,sans-Serif\" font-size=\"14.00\">class = Class 0</text>\n</g>\n<!-- 1 -->\n<g id=\"node2\" class=\"node\">\n<title>1</title>\n<path fill=\"#4ca6e8\" stroke=\"black\" d=\"M247,-782C247,-782 152,-782 152,-782 146,-782 140,-776 140,-770 140,-770 140,-711 140,-711 140,-705 146,-699 152,-699 152,-699 247,-699 247,-699 253,-699 259,-705 259,-711 259,-711 259,-770 259,-770 259,-776 253,-782 247,-782\"/>\n<text text-anchor=\"start\" x=\"148\" y=\"-766.8\" font-family=\"Helvetica,sans-Serif\" font-size=\"14.00\">Feature_1 ≤ 0.19</text>\n<text text-anchor=\"start\" x=\"164\" y=\"-751.8\" font-family=\"Helvetica,sans-Serif\" font-size=\"14.00\">gini = 0.161</text>\n<text text-anchor=\"start\" x=\"158.5\" y=\"-736.8\" font-family=\"Helvetica,sans-Serif\" font-size=\"14.00\">samples = 68</text>\n<text text-anchor=\"start\" x=\"156.5\" y=\"-721.8\" font-family=\"Helvetica,sans-Serif\" font-size=\"14.00\">value = [6, 62]</text>\n<text text-anchor=\"start\" x=\"153.5\" y=\"-706.8\" font-family=\"Helvetica,sans-Serif\" font-size=\"14.00\">class = Class 1</text>\n</g>\n<!-- 0&#45;&gt;1 -->\n<g id=\"edge1\" class=\"edge\">\n<title>0&#45;&gt;1</title>\n<path fill=\"none\" stroke=\"black\" d=\"M246.52,-817.91C241.1,-809.1 235.32,-799.7 229.72,-790.61\"/>\n<polygon fill=\"black\" stroke=\"black\" points=\"232.66,-788.7 224.44,-782.02 226.7,-792.37 232.66,-788.7\"/>\n<text text-anchor=\"middle\" x=\"218.65\" y=\"-802.64\" font-family=\"Helvetica,sans-Serif\" font-size=\"14.00\">True</text>\n</g>\n<!-- 14 -->\n<g id=\"node15\" class=\"node\">\n<title>14</title>\n<path fill=\"#e68540\" stroke=\"black\" d=\"M450,-782C450,-782 347,-782 347,-782 341,-782 335,-776 335,-770 335,-770 335,-711 335,-711 335,-705 341,-699 347,-699 347,-699 450,-699 450,-699 456,-699 462,-705 462,-711 462,-711 462,-770 462,-770 462,-776 456,-782 450,-782\"/>\n<text text-anchor=\"start\" x=\"343\" y=\"-766.8\" font-family=\"Helvetica,sans-Serif\" font-size=\"14.00\">Feature_2 ≤ 1.828</text>\n<text text-anchor=\"start\" x=\"363\" y=\"-751.8\" font-family=\"Helvetica,sans-Serif\" font-size=\"14.00\">gini = 0.064</text>\n<text text-anchor=\"start\" x=\"357.5\" y=\"-736.8\" font-family=\"Helvetica,sans-Serif\" font-size=\"14.00\">samples = 60</text>\n<text text-anchor=\"start\" x=\"355.5\" y=\"-721.8\" font-family=\"Helvetica,sans-Serif\" font-size=\"14.00\">value = [58, 2]</text>\n<text text-anchor=\"start\" x=\"352.5\" y=\"-706.8\" font-family=\"Helvetica,sans-Serif\" font-size=\"14.00\">class = Class 0</text>\n</g>\n<!-- 0&#45;&gt;14 -->\n<g id=\"edge14\" class=\"edge\">\n<title>0&#45;&gt;14</title>\n<path fill=\"none\" stroke=\"black\" d=\"M315.56,-817.91C325.71,-808.56 336.59,-798.54 347.02,-788.93\"/>\n<polygon fill=\"black\" stroke=\"black\" points=\"349.53,-791.37 354.52,-782.02 344.79,-786.22 349.53,-791.37\"/>\n<text text-anchor=\"middle\" x=\"353.49\" y=\"-803.3\" font-family=\"Helvetica,sans-Serif\" font-size=\"14.00\">False</text>\n</g>\n<!-- 2 -->\n<g id=\"node3\" class=\"node\">\n<title>2</title>\n<path fill=\"#e58139\" stroke=\"black\" d=\"M105.5,-655.5C105.5,-655.5 21.5,-655.5 21.5,-655.5 15.5,-655.5 9.5,-649.5 9.5,-643.5 9.5,-643.5 9.5,-599.5 9.5,-599.5 9.5,-593.5 15.5,-587.5 21.5,-587.5 21.5,-587.5 105.5,-587.5 105.5,-587.5 111.5,-587.5 117.5,-593.5 117.5,-599.5 117.5,-599.5 117.5,-643.5 117.5,-643.5 117.5,-649.5 111.5,-655.5 105.5,-655.5\"/>\n<text text-anchor=\"start\" x=\"35.5\" y=\"-640.3\" font-family=\"Helvetica,sans-Serif\" font-size=\"14.00\">gini = 0.0</text>\n<text text-anchor=\"start\" x=\"26\" y=\"-625.3\" font-family=\"Helvetica,sans-Serif\" font-size=\"14.00\">samples = 3</text>\n<text text-anchor=\"start\" x=\"24\" y=\"-610.3\" font-family=\"Helvetica,sans-Serif\" font-size=\"14.00\">value = [3, 0]</text>\n<text text-anchor=\"start\" x=\"17.5\" y=\"-595.3\" font-family=\"Helvetica,sans-Serif\" font-size=\"14.00\">class = Class 0</text>\n</g>\n<!-- 1&#45;&gt;2 -->\n<g id=\"edge2\" class=\"edge\">\n<title>1&#45;&gt;2</title>\n<path fill=\"none\" stroke=\"black\" d=\"M152.32,-698.91C138.59,-687.1 123.61,-674.22 109.94,-662.45\"/>\n<polygon fill=\"black\" stroke=\"black\" points=\"111.92,-659.54 102.05,-655.67 107.35,-664.84 111.92,-659.54\"/>\n</g>\n<!-- 3 -->\n<g id=\"node4\" class=\"node\">\n<title>3</title>\n<path fill=\"#43a2e6\" stroke=\"black\" d=\"M251,-663C251,-663 148,-663 148,-663 142,-663 136,-657 136,-651 136,-651 136,-592 136,-592 136,-586 142,-580 148,-580 148,-580 251,-580 251,-580 257,-580 263,-586 263,-592 263,-592 263,-651 263,-651 263,-657 257,-663 251,-663\"/>\n<text text-anchor=\"start\" x=\"144\" y=\"-647.8\" font-family=\"Helvetica,sans-Serif\" font-size=\"14.00\">Feature_1 ≤ 1.471</text>\n<text text-anchor=\"start\" x=\"164\" y=\"-632.8\" font-family=\"Helvetica,sans-Serif\" font-size=\"14.00\">gini = 0.088</text>\n<text text-anchor=\"start\" x=\"158.5\" y=\"-617.8\" font-family=\"Helvetica,sans-Serif\" font-size=\"14.00\">samples = 65</text>\n<text text-anchor=\"start\" x=\"156.5\" y=\"-602.8\" font-family=\"Helvetica,sans-Serif\" font-size=\"14.00\">value = [3, 62]</text>\n<text text-anchor=\"start\" x=\"153.5\" y=\"-587.8\" font-family=\"Helvetica,sans-Serif\" font-size=\"14.00\">class = Class 1</text>\n</g>\n<!-- 1&#45;&gt;3 -->\n<g id=\"edge3\" class=\"edge\">\n<title>1&#45;&gt;3</title>\n<path fill=\"none\" stroke=\"black\" d=\"M199.5,-698.91C199.5,-690.65 199.5,-681.86 199.5,-673.3\"/>\n<polygon fill=\"black\" stroke=\"black\" points=\"203,-673.02 199.5,-663.02 196,-673.02 203,-673.02\"/>\n</g>\n<!-- 4 -->\n<g id=\"node5\" class=\"node\">\n<title>4</title>\n<path fill=\"#3fa0e6\" stroke=\"black\" d=\"M115,-544C115,-544 12,-544 12,-544 6,-544 0,-538 0,-532 0,-532 0,-473 0,-473 0,-467 6,-461 12,-461 12,-461 115,-461 115,-461 121,-461 127,-467 127,-473 127,-473 127,-532 127,-532 127,-538 121,-544 115,-544\"/>\n<text text-anchor=\"start\" x=\"8\" y=\"-528.8\" font-family=\"Helvetica,sans-Serif\" font-size=\"14.00\">Feature_2 ≤ 0.714</text>\n<text text-anchor=\"start\" x=\"28\" y=\"-513.8\" font-family=\"Helvetica,sans-Serif\" font-size=\"14.00\">gini = 0.061</text>\n<text text-anchor=\"start\" x=\"22.5\" y=\"-498.8\" font-family=\"Helvetica,sans-Serif\" font-size=\"14.00\">samples = 64</text>\n<text text-anchor=\"start\" x=\"20.5\" y=\"-483.8\" font-family=\"Helvetica,sans-Serif\" font-size=\"14.00\">value = [2, 62]</text>\n<text text-anchor=\"start\" x=\"17.5\" y=\"-468.8\" font-family=\"Helvetica,sans-Serif\" font-size=\"14.00\">class = Class 1</text>\n</g>\n<!-- 3&#45;&gt;4 -->\n<g id=\"edge4\" class=\"edge\">\n<title>3&#45;&gt;4</title>\n<path fill=\"none\" stroke=\"black\" d=\"M152.32,-579.91C141.34,-570.47 129.57,-560.34 118.31,-550.65\"/>\n<polygon fill=\"black\" stroke=\"black\" points=\"120.46,-547.89 110.6,-544.02 115.9,-553.2 120.46,-547.89\"/>\n</g>\n<!-- 13 -->\n<g id=\"node14\" class=\"node\">\n<title>13</title>\n<path fill=\"#e58139\" stroke=\"black\" d=\"M241.5,-536.5C241.5,-536.5 157.5,-536.5 157.5,-536.5 151.5,-536.5 145.5,-530.5 145.5,-524.5 145.5,-524.5 145.5,-480.5 145.5,-480.5 145.5,-474.5 151.5,-468.5 157.5,-468.5 157.5,-468.5 241.5,-468.5 241.5,-468.5 247.5,-468.5 253.5,-474.5 253.5,-480.5 253.5,-480.5 253.5,-524.5 253.5,-524.5 253.5,-530.5 247.5,-536.5 241.5,-536.5\"/>\n<text text-anchor=\"start\" x=\"171.5\" y=\"-521.3\" font-family=\"Helvetica,sans-Serif\" font-size=\"14.00\">gini = 0.0</text>\n<text text-anchor=\"start\" x=\"162\" y=\"-506.3\" font-family=\"Helvetica,sans-Serif\" font-size=\"14.00\">samples = 1</text>\n<text text-anchor=\"start\" x=\"160\" y=\"-491.3\" font-family=\"Helvetica,sans-Serif\" font-size=\"14.00\">value = [1, 0]</text>\n<text text-anchor=\"start\" x=\"153.5\" y=\"-476.3\" font-family=\"Helvetica,sans-Serif\" font-size=\"14.00\">class = Class 0</text>\n</g>\n<!-- 3&#45;&gt;13 -->\n<g id=\"edge13\" class=\"edge\">\n<title>3&#45;&gt;13</title>\n<path fill=\"none\" stroke=\"black\" d=\"M199.5,-579.91C199.5,-569.2 199.5,-557.62 199.5,-546.78\"/>\n<polygon fill=\"black\" stroke=\"black\" points=\"203,-546.67 199.5,-536.67 196,-546.67 203,-546.67\"/>\n</g>\n<!-- 5 -->\n<g id=\"node6\" class=\"node\">\n<title>5</title>\n<path fill=\"#399de5\" stroke=\"black\" d=\"M105.5,-417.5C105.5,-417.5 21.5,-417.5 21.5,-417.5 15.5,-417.5 9.5,-411.5 9.5,-405.5 9.5,-405.5 9.5,-361.5 9.5,-361.5 9.5,-355.5 15.5,-349.5 21.5,-349.5 21.5,-349.5 105.5,-349.5 105.5,-349.5 111.5,-349.5 117.5,-355.5 117.5,-361.5 117.5,-361.5 117.5,-405.5 117.5,-405.5 117.5,-411.5 111.5,-417.5 105.5,-417.5\"/>\n<text text-anchor=\"start\" x=\"35.5\" y=\"-402.3\" font-family=\"Helvetica,sans-Serif\" font-size=\"14.00\">gini = 0.0</text>\n<text text-anchor=\"start\" x=\"22.5\" y=\"-387.3\" font-family=\"Helvetica,sans-Serif\" font-size=\"14.00\">samples = 47</text>\n<text text-anchor=\"start\" x=\"20.5\" y=\"-372.3\" font-family=\"Helvetica,sans-Serif\" font-size=\"14.00\">value = [0, 47]</text>\n<text text-anchor=\"start\" x=\"17.5\" y=\"-357.3\" font-family=\"Helvetica,sans-Serif\" font-size=\"14.00\">class = Class 1</text>\n</g>\n<!-- 4&#45;&gt;5 -->\n<g id=\"edge5\" class=\"edge\">\n<title>4&#45;&gt;5</title>\n<path fill=\"none\" stroke=\"black\" d=\"M63.5,-460.91C63.5,-450.2 63.5,-438.62 63.5,-427.78\"/>\n<polygon fill=\"black\" stroke=\"black\" points=\"67,-427.67 63.5,-417.67 60,-427.67 67,-427.67\"/>\n</g>\n<!-- 6 -->\n<g id=\"node7\" class=\"node\">\n<title>6</title>\n<path fill=\"#53aae8\" stroke=\"black\" d=\"M251,-425C251,-425 148,-425 148,-425 142,-425 136,-419 136,-413 136,-413 136,-354 136,-354 136,-348 142,-342 148,-342 148,-342 251,-342 251,-342 257,-342 263,-348 263,-354 263,-354 263,-413 263,-413 263,-419 257,-425 251,-425\"/>\n<text text-anchor=\"start\" x=\"144\" y=\"-409.8\" font-family=\"Helvetica,sans-Serif\" font-size=\"14.00\">Feature_2 ≤ 0.746</text>\n<text text-anchor=\"start\" x=\"164\" y=\"-394.8\" font-family=\"Helvetica,sans-Serif\" font-size=\"14.00\">gini = 0.208</text>\n<text text-anchor=\"start\" x=\"158.5\" y=\"-379.8\" font-family=\"Helvetica,sans-Serif\" font-size=\"14.00\">samples = 17</text>\n<text text-anchor=\"start\" x=\"156.5\" y=\"-364.8\" font-family=\"Helvetica,sans-Serif\" font-size=\"14.00\">value = [2, 15]</text>\n<text text-anchor=\"start\" x=\"153.5\" y=\"-349.8\" font-family=\"Helvetica,sans-Serif\" font-size=\"14.00\">class = Class 1</text>\n</g>\n<!-- 4&#45;&gt;6 -->\n<g id=\"edge6\" class=\"edge\">\n<title>4&#45;&gt;6</title>\n<path fill=\"none\" stroke=\"black\" d=\"M110.68,-460.91C121.66,-451.47 133.43,-441.34 144.69,-431.65\"/>\n<polygon fill=\"black\" stroke=\"black\" points=\"147.1,-434.2 152.4,-425.02 142.54,-428.89 147.1,-434.2\"/>\n</g>\n<!-- 7 -->\n<g id=\"node8\" class=\"node\">\n<title>7</title>\n<path fill=\"#e58139\" stroke=\"black\" d=\"M172.5,-298.5C172.5,-298.5 88.5,-298.5 88.5,-298.5 82.5,-298.5 76.5,-292.5 76.5,-286.5 76.5,-286.5 76.5,-242.5 76.5,-242.5 76.5,-236.5 82.5,-230.5 88.5,-230.5 88.5,-230.5 172.5,-230.5 172.5,-230.5 178.5,-230.5 184.5,-236.5 184.5,-242.5 184.5,-242.5 184.5,-286.5 184.5,-286.5 184.5,-292.5 178.5,-298.5 172.5,-298.5\"/>\n<text text-anchor=\"start\" x=\"102.5\" y=\"-283.3\" font-family=\"Helvetica,sans-Serif\" font-size=\"14.00\">gini = 0.0</text>\n<text text-anchor=\"start\" x=\"93\" y=\"-268.3\" font-family=\"Helvetica,sans-Serif\" font-size=\"14.00\">samples = 1</text>\n<text text-anchor=\"start\" x=\"91\" y=\"-253.3\" font-family=\"Helvetica,sans-Serif\" font-size=\"14.00\">value = [1, 0]</text>\n<text text-anchor=\"start\" x=\"84.5\" y=\"-238.3\" font-family=\"Helvetica,sans-Serif\" font-size=\"14.00\">class = Class 0</text>\n</g>\n<!-- 6&#45;&gt;7 -->\n<g id=\"edge7\" class=\"edge\">\n<title>6&#45;&gt;7</title>\n<path fill=\"none\" stroke=\"black\" d=\"M175.56,-341.91C168.99,-330.76 161.85,-318.66 155.23,-307.44\"/>\n<polygon fill=\"black\" stroke=\"black\" points=\"158.15,-305.5 150.06,-298.67 152.13,-309.06 158.15,-305.5\"/>\n</g>\n<!-- 8 -->\n<g id=\"node9\" class=\"node\">\n<title>8</title>\n<path fill=\"#46a4e7\" stroke=\"black\" d=\"M322,-306C322,-306 215,-306 215,-306 209,-306 203,-300 203,-294 203,-294 203,-235 203,-235 203,-229 209,-223 215,-223 215,-223 322,-223 322,-223 328,-223 334,-229 334,-235 334,-235 334,-294 334,-294 334,-300 328,-306 322,-306\"/>\n<text text-anchor=\"start\" x=\"211\" y=\"-290.8\" font-family=\"Helvetica,sans-Serif\" font-size=\"14.00\">Feature_3 ≤ &#45;0.309</text>\n<text text-anchor=\"start\" x=\"233\" y=\"-275.8\" font-family=\"Helvetica,sans-Serif\" font-size=\"14.00\">gini = 0.117</text>\n<text text-anchor=\"start\" x=\"227.5\" y=\"-260.8\" font-family=\"Helvetica,sans-Serif\" font-size=\"14.00\">samples = 16</text>\n<text text-anchor=\"start\" x=\"225.5\" y=\"-245.8\" font-family=\"Helvetica,sans-Serif\" font-size=\"14.00\">value = [1, 15]</text>\n<text text-anchor=\"start\" x=\"222.5\" y=\"-230.8\" font-family=\"Helvetica,sans-Serif\" font-size=\"14.00\">class = Class 1</text>\n</g>\n<!-- 6&#45;&gt;8 -->\n<g id=\"edge8\" class=\"edge\">\n<title>6&#45;&gt;8</title>\n<path fill=\"none\" stroke=\"black\" d=\"M223.44,-341.91C228.58,-333.2 234.06,-323.9 239.37,-314.89\"/>\n<polygon fill=\"black\" stroke=\"black\" points=\"242.54,-316.41 244.6,-306.02 236.51,-312.86 242.54,-316.41\"/>\n</g>\n<!-- 9 -->\n<g id=\"node10\" class=\"node\">\n<title>9</title>\n<path fill=\"#399de5\" stroke=\"black\" d=\"M242.5,-179.5C242.5,-179.5 158.5,-179.5 158.5,-179.5 152.5,-179.5 146.5,-173.5 146.5,-167.5 146.5,-167.5 146.5,-123.5 146.5,-123.5 146.5,-117.5 152.5,-111.5 158.5,-111.5 158.5,-111.5 242.5,-111.5 242.5,-111.5 248.5,-111.5 254.5,-117.5 254.5,-123.5 254.5,-123.5 254.5,-167.5 254.5,-167.5 254.5,-173.5 248.5,-179.5 242.5,-179.5\"/>\n<text text-anchor=\"start\" x=\"172.5\" y=\"-164.3\" font-family=\"Helvetica,sans-Serif\" font-size=\"14.00\">gini = 0.0</text>\n<text text-anchor=\"start\" x=\"159.5\" y=\"-149.3\" font-family=\"Helvetica,sans-Serif\" font-size=\"14.00\">samples = 13</text>\n<text text-anchor=\"start\" x=\"157.5\" y=\"-134.3\" font-family=\"Helvetica,sans-Serif\" font-size=\"14.00\">value = [0, 13]</text>\n<text text-anchor=\"start\" x=\"154.5\" y=\"-119.3\" font-family=\"Helvetica,sans-Serif\" font-size=\"14.00\">class = Class 1</text>\n</g>\n<!-- 8&#45;&gt;9 -->\n<g id=\"edge9\" class=\"edge\">\n<title>8&#45;&gt;9</title>\n<path fill=\"none\" stroke=\"black\" d=\"M244.91,-222.91C238.43,-211.76 231.4,-199.66 224.87,-188.44\"/>\n<polygon fill=\"black\" stroke=\"black\" points=\"227.83,-186.55 219.78,-179.67 221.78,-190.07 227.83,-186.55\"/>\n</g>\n<!-- 10 -->\n<g id=\"node11\" class=\"node\">\n<title>10</title>\n<path fill=\"#9ccef2\" stroke=\"black\" d=\"M388,-187C388,-187 285,-187 285,-187 279,-187 273,-181 273,-175 273,-175 273,-116 273,-116 273,-110 279,-104 285,-104 285,-104 388,-104 388,-104 394,-104 400,-110 400,-116 400,-116 400,-175 400,-175 400,-181 394,-187 388,-187\"/>\n<text text-anchor=\"start\" x=\"281\" y=\"-171.8\" font-family=\"Helvetica,sans-Serif\" font-size=\"14.00\">Feature_2 ≤ 1.093</text>\n<text text-anchor=\"start\" x=\"301\" y=\"-156.8\" font-family=\"Helvetica,sans-Serif\" font-size=\"14.00\">gini = 0.444</text>\n<text text-anchor=\"start\" x=\"299\" y=\"-141.8\" font-family=\"Helvetica,sans-Serif\" font-size=\"14.00\">samples = 3</text>\n<text text-anchor=\"start\" x=\"297\" y=\"-126.8\" font-family=\"Helvetica,sans-Serif\" font-size=\"14.00\">value = [1, 2]</text>\n<text text-anchor=\"start\" x=\"290.5\" y=\"-111.8\" font-family=\"Helvetica,sans-Serif\" font-size=\"14.00\">class = Class 1</text>\n</g>\n<!-- 8&#45;&gt;10 -->\n<g id=\"edge10\" class=\"edge\">\n<title>8&#45;&gt;10</title>\n<path fill=\"none\" stroke=\"black\" d=\"M292.09,-222.91C297.16,-214.2 302.56,-204.9 307.79,-195.89\"/>\n<polygon fill=\"black\" stroke=\"black\" points=\"310.95,-197.43 312.95,-187.02 304.9,-193.91 310.95,-197.43\"/>\n</g>\n<!-- 11 -->\n<g id=\"node12\" class=\"node\">\n<title>11</title>\n<path fill=\"#399de5\" stroke=\"black\" d=\"M315.5,-68C315.5,-68 231.5,-68 231.5,-68 225.5,-68 219.5,-62 219.5,-56 219.5,-56 219.5,-12 219.5,-12 219.5,-6 225.5,0 231.5,0 231.5,0 315.5,0 315.5,0 321.5,0 327.5,-6 327.5,-12 327.5,-12 327.5,-56 327.5,-56 327.5,-62 321.5,-68 315.5,-68\"/>\n<text text-anchor=\"start\" x=\"245.5\" y=\"-52.8\" font-family=\"Helvetica,sans-Serif\" font-size=\"14.00\">gini = 0.0</text>\n<text text-anchor=\"start\" x=\"236\" y=\"-37.8\" font-family=\"Helvetica,sans-Serif\" font-size=\"14.00\">samples = 2</text>\n<text text-anchor=\"start\" x=\"234\" y=\"-22.8\" font-family=\"Helvetica,sans-Serif\" font-size=\"14.00\">value = [0, 2]</text>\n<text text-anchor=\"start\" x=\"227.5\" y=\"-7.8\" font-family=\"Helvetica,sans-Serif\" font-size=\"14.00\">class = Class 1</text>\n</g>\n<!-- 10&#45;&gt;11 -->\n<g id=\"edge11\" class=\"edge\">\n<title>10&#45;&gt;11</title>\n<path fill=\"none\" stroke=\"black\" d=\"M313.04,-103.73C308.06,-95.06 302.78,-85.9 297.77,-77.18\"/>\n<polygon fill=\"black\" stroke=\"black\" points=\"300.68,-75.22 292.66,-68.3 294.61,-78.71 300.68,-75.22\"/>\n</g>\n<!-- 12 -->\n<g id=\"node13\" class=\"node\">\n<title>12</title>\n<path fill=\"#e58139\" stroke=\"black\" d=\"M441.5,-68C441.5,-68 357.5,-68 357.5,-68 351.5,-68 345.5,-62 345.5,-56 345.5,-56 345.5,-12 345.5,-12 345.5,-6 351.5,0 357.5,0 357.5,0 441.5,0 441.5,0 447.5,0 453.5,-6 453.5,-12 453.5,-12 453.5,-56 453.5,-56 453.5,-62 447.5,-68 441.5,-68\"/>\n<text text-anchor=\"start\" x=\"371.5\" y=\"-52.8\" font-family=\"Helvetica,sans-Serif\" font-size=\"14.00\">gini = 0.0</text>\n<text text-anchor=\"start\" x=\"362\" y=\"-37.8\" font-family=\"Helvetica,sans-Serif\" font-size=\"14.00\">samples = 1</text>\n<text text-anchor=\"start\" x=\"360\" y=\"-22.8\" font-family=\"Helvetica,sans-Serif\" font-size=\"14.00\">value = [1, 0]</text>\n<text text-anchor=\"start\" x=\"353.5\" y=\"-7.8\" font-family=\"Helvetica,sans-Serif\" font-size=\"14.00\">class = Class 0</text>\n</g>\n<!-- 10&#45;&gt;12 -->\n<g id=\"edge12\" class=\"edge\">\n<title>10&#45;&gt;12</title>\n<path fill=\"none\" stroke=\"black\" d=\"M359.96,-103.73C364.94,-95.06 370.22,-85.9 375.23,-77.18\"/>\n<polygon fill=\"black\" stroke=\"black\" points=\"378.39,-78.71 380.34,-68.3 372.32,-75.22 378.39,-78.71\"/>\n</g>\n<!-- 15 -->\n<g id=\"node16\" class=\"node\">\n<title>15</title>\n<path fill=\"#e5833d\" stroke=\"black\" d=\"M450,-663C450,-663 347,-663 347,-663 341,-663 335,-657 335,-651 335,-651 335,-592 335,-592 335,-586 341,-580 347,-580 347,-580 450,-580 450,-580 456,-580 462,-586 462,-592 462,-592 462,-651 462,-651 462,-657 456,-663 450,-663\"/>\n<text text-anchor=\"start\" x=\"343\" y=\"-647.8\" font-family=\"Helvetica,sans-Serif\" font-size=\"14.00\">Feature_1 ≤ 0.969</text>\n<text text-anchor=\"start\" x=\"363\" y=\"-632.8\" font-family=\"Helvetica,sans-Serif\" font-size=\"14.00\">gini = 0.034</text>\n<text text-anchor=\"start\" x=\"357.5\" y=\"-617.8\" font-family=\"Helvetica,sans-Serif\" font-size=\"14.00\">samples = 57</text>\n<text text-anchor=\"start\" x=\"355.5\" y=\"-602.8\" font-family=\"Helvetica,sans-Serif\" font-size=\"14.00\">value = [56, 1]</text>\n<text text-anchor=\"start\" x=\"352.5\" y=\"-587.8\" font-family=\"Helvetica,sans-Serif\" font-size=\"14.00\">class = Class 0</text>\n</g>\n<!-- 14&#45;&gt;15 -->\n<g id=\"edge15\" class=\"edge\">\n<title>14&#45;&gt;15</title>\n<path fill=\"none\" stroke=\"black\" d=\"M398.5,-698.91C398.5,-690.65 398.5,-681.86 398.5,-673.3\"/>\n<polygon fill=\"black\" stroke=\"black\" points=\"402,-673.02 398.5,-663.02 395,-673.02 402,-673.02\"/>\n</g>\n<!-- 20 -->\n<g id=\"node21\" class=\"node\">\n<title>20</title>\n<path fill=\"#f2c09c\" stroke=\"black\" d=\"M649,-663C649,-663 546,-663 546,-663 540,-663 534,-657 534,-651 534,-651 534,-592 534,-592 534,-586 540,-580 546,-580 546,-580 649,-580 649,-580 655,-580 661,-586 661,-592 661,-592 661,-651 661,-651 661,-657 655,-663 649,-663\"/>\n<text text-anchor=\"start\" x=\"542\" y=\"-647.8\" font-family=\"Helvetica,sans-Serif\" font-size=\"14.00\">Feature_2 ≤ 1.961</text>\n<text text-anchor=\"start\" x=\"562\" y=\"-632.8\" font-family=\"Helvetica,sans-Serif\" font-size=\"14.00\">gini = 0.444</text>\n<text text-anchor=\"start\" x=\"560\" y=\"-617.8\" font-family=\"Helvetica,sans-Serif\" font-size=\"14.00\">samples = 3</text>\n<text text-anchor=\"start\" x=\"558\" y=\"-602.8\" font-family=\"Helvetica,sans-Serif\" font-size=\"14.00\">value = [2, 1]</text>\n<text text-anchor=\"start\" x=\"551.5\" y=\"-587.8\" font-family=\"Helvetica,sans-Serif\" font-size=\"14.00\">class = Class 0</text>\n</g>\n<!-- 14&#45;&gt;20 -->\n<g id=\"edge20\" class=\"edge\">\n<title>14&#45;&gt;20</title>\n<path fill=\"none\" stroke=\"black\" d=\"M462.01,-702.16C482.12,-690.34 504.49,-677.19 525.16,-665.03\"/>\n<polygon fill=\"black\" stroke=\"black\" points=\"527.06,-667.97 533.91,-659.89 523.51,-661.94 527.06,-667.97\"/>\n</g>\n<!-- 16 -->\n<g id=\"node17\" class=\"node\">\n<title>16</title>\n<path fill=\"#e58139\" stroke=\"black\" d=\"M367.5,-536.5C367.5,-536.5 283.5,-536.5 283.5,-536.5 277.5,-536.5 271.5,-530.5 271.5,-524.5 271.5,-524.5 271.5,-480.5 271.5,-480.5 271.5,-474.5 277.5,-468.5 283.5,-468.5 283.5,-468.5 367.5,-468.5 367.5,-468.5 373.5,-468.5 379.5,-474.5 379.5,-480.5 379.5,-480.5 379.5,-524.5 379.5,-524.5 379.5,-530.5 373.5,-536.5 367.5,-536.5\"/>\n<text text-anchor=\"start\" x=\"297.5\" y=\"-521.3\" font-family=\"Helvetica,sans-Serif\" font-size=\"14.00\">gini = 0.0</text>\n<text text-anchor=\"start\" x=\"284.5\" y=\"-506.3\" font-family=\"Helvetica,sans-Serif\" font-size=\"14.00\">samples = 36</text>\n<text text-anchor=\"start\" x=\"282.5\" y=\"-491.3\" font-family=\"Helvetica,sans-Serif\" font-size=\"14.00\">value = [36, 0]</text>\n<text text-anchor=\"start\" x=\"279.5\" y=\"-476.3\" font-family=\"Helvetica,sans-Serif\" font-size=\"14.00\">class = Class 0</text>\n</g>\n<!-- 15&#45;&gt;16 -->\n<g id=\"edge16\" class=\"edge\">\n<title>15&#45;&gt;16</title>\n<path fill=\"none\" stroke=\"black\" d=\"M373.17,-579.91C366.22,-568.76 358.67,-556.66 351.67,-545.44\"/>\n<polygon fill=\"black\" stroke=\"black\" points=\"354.46,-543.3 346.19,-536.67 348.52,-547 354.46,-543.3\"/>\n</g>\n<!-- 17 -->\n<g id=\"node18\" class=\"node\">\n<title>17</title>\n<path fill=\"#e68743\" stroke=\"black\" d=\"M513,-544C513,-544 410,-544 410,-544 404,-544 398,-538 398,-532 398,-532 398,-473 398,-473 398,-467 404,-461 410,-461 410,-461 513,-461 513,-461 519,-461 525,-467 525,-473 525,-473 525,-532 525,-532 525,-538 519,-544 513,-544\"/>\n<text text-anchor=\"start\" x=\"406\" y=\"-528.8\" font-family=\"Helvetica,sans-Serif\" font-size=\"14.00\">Feature_1 ≤ 0.989</text>\n<text text-anchor=\"start\" x=\"426\" y=\"-513.8\" font-family=\"Helvetica,sans-Serif\" font-size=\"14.00\">gini = 0.091</text>\n<text text-anchor=\"start\" x=\"420.5\" y=\"-498.8\" font-family=\"Helvetica,sans-Serif\" font-size=\"14.00\">samples = 21</text>\n<text text-anchor=\"start\" x=\"418.5\" y=\"-483.8\" font-family=\"Helvetica,sans-Serif\" font-size=\"14.00\">value = [20, 1]</text>\n<text text-anchor=\"start\" x=\"415.5\" y=\"-468.8\" font-family=\"Helvetica,sans-Serif\" font-size=\"14.00\">class = Class 0</text>\n</g>\n<!-- 15&#45;&gt;17 -->\n<g id=\"edge17\" class=\"edge\">\n<title>15&#45;&gt;17</title>\n<path fill=\"none\" stroke=\"black\" d=\"M420.36,-579.91C425.05,-571.2 430.06,-561.9 434.9,-552.89\"/>\n<polygon fill=\"black\" stroke=\"black\" points=\"438.02,-554.48 439.68,-544.02 431.86,-551.17 438.02,-554.48\"/>\n</g>\n<!-- 18 -->\n<g id=\"node19\" class=\"node\">\n<title>18</title>\n<path fill=\"#399de5\" stroke=\"black\" d=\"M440.5,-417.5C440.5,-417.5 356.5,-417.5 356.5,-417.5 350.5,-417.5 344.5,-411.5 344.5,-405.5 344.5,-405.5 344.5,-361.5 344.5,-361.5 344.5,-355.5 350.5,-349.5 356.5,-349.5 356.5,-349.5 440.5,-349.5 440.5,-349.5 446.5,-349.5 452.5,-355.5 452.5,-361.5 452.5,-361.5 452.5,-405.5 452.5,-405.5 452.5,-411.5 446.5,-417.5 440.5,-417.5\"/>\n<text text-anchor=\"start\" x=\"370.5\" y=\"-402.3\" font-family=\"Helvetica,sans-Serif\" font-size=\"14.00\">gini = 0.0</text>\n<text text-anchor=\"start\" x=\"361\" y=\"-387.3\" font-family=\"Helvetica,sans-Serif\" font-size=\"14.00\">samples = 1</text>\n<text text-anchor=\"start\" x=\"359\" y=\"-372.3\" font-family=\"Helvetica,sans-Serif\" font-size=\"14.00\">value = [0, 1]</text>\n<text text-anchor=\"start\" x=\"352.5\" y=\"-357.3\" font-family=\"Helvetica,sans-Serif\" font-size=\"14.00\">class = Class 1</text>\n</g>\n<!-- 17&#45;&gt;18 -->\n<g id=\"edge18\" class=\"edge\">\n<title>17&#45;&gt;18</title>\n<path fill=\"none\" stroke=\"black\" d=\"M439.64,-460.91C433.7,-449.87 427.25,-437.9 421.26,-426.77\"/>\n<polygon fill=\"black\" stroke=\"black\" points=\"424.18,-424.81 416.36,-417.67 418.02,-428.13 424.18,-424.81\"/>\n</g>\n<!-- 19 -->\n<g id=\"node20\" class=\"node\">\n<title>19</title>\n<path fill=\"#e58139\" stroke=\"black\" d=\"M566.5,-417.5C566.5,-417.5 482.5,-417.5 482.5,-417.5 476.5,-417.5 470.5,-411.5 470.5,-405.5 470.5,-405.5 470.5,-361.5 470.5,-361.5 470.5,-355.5 476.5,-349.5 482.5,-349.5 482.5,-349.5 566.5,-349.5 566.5,-349.5 572.5,-349.5 578.5,-355.5 578.5,-361.5 578.5,-361.5 578.5,-405.5 578.5,-405.5 578.5,-411.5 572.5,-417.5 566.5,-417.5\"/>\n<text text-anchor=\"start\" x=\"496.5\" y=\"-402.3\" font-family=\"Helvetica,sans-Serif\" font-size=\"14.00\">gini = 0.0</text>\n<text text-anchor=\"start\" x=\"483.5\" y=\"-387.3\" font-family=\"Helvetica,sans-Serif\" font-size=\"14.00\">samples = 20</text>\n<text text-anchor=\"start\" x=\"481.5\" y=\"-372.3\" font-family=\"Helvetica,sans-Serif\" font-size=\"14.00\">value = [20, 0]</text>\n<text text-anchor=\"start\" x=\"478.5\" y=\"-357.3\" font-family=\"Helvetica,sans-Serif\" font-size=\"14.00\">class = Class 0</text>\n</g>\n<!-- 17&#45;&gt;19 -->\n<g id=\"edge19\" class=\"edge\">\n<title>17&#45;&gt;19</title>\n<path fill=\"none\" stroke=\"black\" d=\"M483.36,-460.91C489.3,-449.87 495.75,-437.9 501.74,-426.77\"/>\n<polygon fill=\"black\" stroke=\"black\" points=\"504.98,-428.13 506.64,-417.67 498.82,-424.81 504.98,-428.13\"/>\n</g>\n<!-- 21 -->\n<g id=\"node22\" class=\"node\">\n<title>21</title>\n<path fill=\"#399de5\" stroke=\"black\" d=\"M639.5,-536.5C639.5,-536.5 555.5,-536.5 555.5,-536.5 549.5,-536.5 543.5,-530.5 543.5,-524.5 543.5,-524.5 543.5,-480.5 543.5,-480.5 543.5,-474.5 549.5,-468.5 555.5,-468.5 555.5,-468.5 639.5,-468.5 639.5,-468.5 645.5,-468.5 651.5,-474.5 651.5,-480.5 651.5,-480.5 651.5,-524.5 651.5,-524.5 651.5,-530.5 645.5,-536.5 639.5,-536.5\"/>\n<text text-anchor=\"start\" x=\"569.5\" y=\"-521.3\" font-family=\"Helvetica,sans-Serif\" font-size=\"14.00\">gini = 0.0</text>\n<text text-anchor=\"start\" x=\"560\" y=\"-506.3\" font-family=\"Helvetica,sans-Serif\" font-size=\"14.00\">samples = 1</text>\n<text text-anchor=\"start\" x=\"558\" y=\"-491.3\" font-family=\"Helvetica,sans-Serif\" font-size=\"14.00\">value = [0, 1]</text>\n<text text-anchor=\"start\" x=\"551.5\" y=\"-476.3\" font-family=\"Helvetica,sans-Serif\" font-size=\"14.00\">class = Class 1</text>\n</g>\n<!-- 20&#45;&gt;21 -->\n<g id=\"edge21\" class=\"edge\">\n<title>20&#45;&gt;21</title>\n<path fill=\"none\" stroke=\"black\" d=\"M597.5,-579.91C597.5,-569.2 597.5,-557.62 597.5,-546.78\"/>\n<polygon fill=\"black\" stroke=\"black\" points=\"601,-546.67 597.5,-536.67 594,-546.67 601,-546.67\"/>\n</g>\n<!-- 22 -->\n<g id=\"node23\" class=\"node\">\n<title>22</title>\n<path fill=\"#e58139\" stroke=\"black\" d=\"M765.5,-536.5C765.5,-536.5 681.5,-536.5 681.5,-536.5 675.5,-536.5 669.5,-530.5 669.5,-524.5 669.5,-524.5 669.5,-480.5 669.5,-480.5 669.5,-474.5 675.5,-468.5 681.5,-468.5 681.5,-468.5 765.5,-468.5 765.5,-468.5 771.5,-468.5 777.5,-474.5 777.5,-480.5 777.5,-480.5 777.5,-524.5 777.5,-524.5 777.5,-530.5 771.5,-536.5 765.5,-536.5\"/>\n<text text-anchor=\"start\" x=\"695.5\" y=\"-521.3\" font-family=\"Helvetica,sans-Serif\" font-size=\"14.00\">gini = 0.0</text>\n<text text-anchor=\"start\" x=\"686\" y=\"-506.3\" font-family=\"Helvetica,sans-Serif\" font-size=\"14.00\">samples = 2</text>\n<text text-anchor=\"start\" x=\"684\" y=\"-491.3\" font-family=\"Helvetica,sans-Serif\" font-size=\"14.00\">value = [2, 0]</text>\n<text text-anchor=\"start\" x=\"677.5\" y=\"-476.3\" font-family=\"Helvetica,sans-Serif\" font-size=\"14.00\">class = Class 0</text>\n</g>\n<!-- 20&#45;&gt;22 -->\n<g id=\"edge22\" class=\"edge\">\n<title>20&#45;&gt;22</title>\n<path fill=\"none\" stroke=\"black\" d=\"M641.22,-579.91C653.81,-568.21 667.55,-555.46 680.12,-543.78\"/>\n<polygon fill=\"black\" stroke=\"black\" points=\"682.84,-546.04 687.78,-536.67 678.07,-540.91 682.84,-546.04\"/>\n</g>\n</g>\n</svg>\n",
            "text/plain": [
              "<graphviz.sources.Source at 0x7ed72ff25780>"
            ]
          },
          "metadata": {},
          "execution_count": 20
        }
      ]
    },
    {
      "cell_type": "markdown",
      "source": [
        "Вывести количество уровней (глубину) дерева."
      ],
      "metadata": {
        "id": "KB2bjiLrOyuy"
      }
    },
    {
      "cell_type": "code",
      "source": [
        "# Вывод глубины дерева\n",
        "depth = tree.get_depth()\n",
        "print(f\"Глубина дерева: {depth}\")"
      ],
      "metadata": {
        "id": "arD405MYOyuy",
        "colab": {
          "base_uri": "https://localhost:8080/"
        },
        "outputId": "91b7d8a2-875c-4468-cbc2-76b8ccecc73e"
      },
      "execution_count": 21,
      "outputs": [
        {
          "output_type": "stream",
          "name": "stdout",
          "text": [
            "Глубина дерева: 7\n"
          ]
        }
      ]
    },
    {
      "cell_type": "markdown",
      "source": [
        "Вывести количество листев дерева."
      ],
      "metadata": {
        "id": "gLliDIWuOyuy"
      }
    },
    {
      "cell_type": "code",
      "source": [
        "# Вывод количества листьев дерева\n",
        "n_leaves = tree.tree_.n_leaves\n",
        "print(f\"Количество листьев дерева: {n_leaves}\")"
      ],
      "metadata": {
        "id": "fwVZJnfEOyuz",
        "colab": {
          "base_uri": "https://localhost:8080/"
        },
        "outputId": "9b1ede74-1851-4342-b099-a0eeeffde8a5"
      },
      "execution_count": 22,
      "outputs": [
        {
          "output_type": "stream",
          "name": "stdout",
          "text": [
            "Количество листьев дерева: 12\n"
          ]
        }
      ]
    },
    {
      "cell_type": "markdown",
      "source": [
        "Визуализировать полученное дерево с отображением одного уровня."
      ],
      "metadata": {
        "id": "I4QgB-jXNql0"
      }
    },
    {
      "cell_type": "code",
      "source": [
        "# Экспорт дерева в формате .dot с ограничением глубины (один уровень)\n",
        "dot_data = export_graphviz(tree,\n",
        "                           out_file=None,\n",
        "                           feature_names=[f\"Feature_{i+1}\" for i in range(X.shape[1])],  # Имена признаков\n",
        "                           class_names=[\"Class 0\", \"Class 1\"],  # Имена классов\n",
        "                           filled=True,  # Заливка узлов\n",
        "                           rounded=True,  # Закругленные углы\n",
        "                           special_characters=True,  # Специальные символы\n",
        "                           max_depth=1)  # Ограничение глубины дерева\n",
        "\n",
        "# Визуализация дерева в блокноте\n",
        "graph = graphviz.Source(dot_data)\n",
        "graph"
      ],
      "metadata": {
        "id": "WDVQKr2MNqmI",
        "colab": {
          "base_uri": "https://localhost:8080/",
          "height": 397
        },
        "outputId": "5527f5ce-3863-4209-c778-0e1733a08e71"
      },
      "execution_count": 23,
      "outputs": [
        {
          "output_type": "execute_result",
          "data": {
            "image/svg+xml": "<?xml version=\"1.0\" encoding=\"UTF-8\" standalone=\"no\"?>\n<!DOCTYPE svg PUBLIC \"-//W3C//DTD SVG 1.1//EN\"\n \"http://www.w3.org/Graphics/SVG/1.1/DTD/svg11.dtd\">\n<!-- Generated by graphviz version 2.43.0 (0)\n -->\n<!-- Title: Tree Pages: 1 -->\n<svg width=\"312pt\" height=\"282pt\"\n viewBox=\"0.00 0.00 312.00 282.00\" xmlns=\"http://www.w3.org/2000/svg\" xmlns:xlink=\"http://www.w3.org/1999/xlink\">\n<g id=\"graph0\" class=\"graph\" transform=\"scale(1 1) rotate(0) translate(4 278)\">\n<title>Tree</title>\n<polygon fill=\"white\" stroke=\"transparent\" points=\"-4,4 -4,-278 308,-278 308,4 -4,4\"/>\n<!-- 0 -->\n<g id=\"node1\" class=\"node\">\n<title>0</title>\n<path fill=\"#ffffff\" stroke=\"black\" d=\"M204.5,-274C204.5,-274 97.5,-274 97.5,-274 91.5,-274 85.5,-268 85.5,-262 85.5,-262 85.5,-203 85.5,-203 85.5,-197 91.5,-191 97.5,-191 97.5,-191 204.5,-191 204.5,-191 210.5,-191 216.5,-197 216.5,-203 216.5,-203 216.5,-262 216.5,-262 216.5,-268 210.5,-274 204.5,-274\"/>\n<text text-anchor=\"start\" x=\"93.5\" y=\"-258.8\" font-family=\"Helvetica,sans-Serif\" font-size=\"14.00\">Feature_3 ≤ &#45;0.059</text>\n<text text-anchor=\"start\" x=\"123\" y=\"-243.8\" font-family=\"Helvetica,sans-Serif\" font-size=\"14.00\">gini = 0.5</text>\n<text text-anchor=\"start\" x=\"106\" y=\"-228.8\" font-family=\"Helvetica,sans-Serif\" font-size=\"14.00\">samples = 128</text>\n<text text-anchor=\"start\" x=\"104\" y=\"-213.8\" font-family=\"Helvetica,sans-Serif\" font-size=\"14.00\">value = [64, 64]</text>\n<text text-anchor=\"start\" x=\"105\" y=\"-198.8\" font-family=\"Helvetica,sans-Serif\" font-size=\"14.00\">class = Class 0</text>\n</g>\n<!-- 1 -->\n<g id=\"node2\" class=\"node\">\n<title>1</title>\n<path fill=\"#4ca6e8\" stroke=\"black\" d=\"M128.5,-155C128.5,-155 33.5,-155 33.5,-155 27.5,-155 21.5,-149 21.5,-143 21.5,-143 21.5,-84 21.5,-84 21.5,-78 27.5,-72 33.5,-72 33.5,-72 128.5,-72 128.5,-72 134.5,-72 140.5,-78 140.5,-84 140.5,-84 140.5,-143 140.5,-143 140.5,-149 134.5,-155 128.5,-155\"/>\n<text text-anchor=\"start\" x=\"29.5\" y=\"-139.8\" font-family=\"Helvetica,sans-Serif\" font-size=\"14.00\">Feature_1 ≤ 0.19</text>\n<text text-anchor=\"start\" x=\"45.5\" y=\"-124.8\" font-family=\"Helvetica,sans-Serif\" font-size=\"14.00\">gini = 0.161</text>\n<text text-anchor=\"start\" x=\"40\" y=\"-109.8\" font-family=\"Helvetica,sans-Serif\" font-size=\"14.00\">samples = 68</text>\n<text text-anchor=\"start\" x=\"38\" y=\"-94.8\" font-family=\"Helvetica,sans-Serif\" font-size=\"14.00\">value = [6, 62]</text>\n<text text-anchor=\"start\" x=\"35\" y=\"-79.8\" font-family=\"Helvetica,sans-Serif\" font-size=\"14.00\">class = Class 1</text>\n</g>\n<!-- 0&#45;&gt;1 -->\n<g id=\"edge1\" class=\"edge\">\n<title>0&#45;&gt;1</title>\n<path fill=\"none\" stroke=\"black\" d=\"M126.71,-190.91C121.45,-182.1 115.82,-172.7 110.38,-163.61\"/>\n<polygon fill=\"black\" stroke=\"black\" points=\"113.38,-161.81 105.24,-155.02 107.37,-165.4 113.38,-161.81\"/>\n<text text-anchor=\"middle\" x=\"99.15\" y=\"-175.57\" font-family=\"Helvetica,sans-Serif\" font-size=\"14.00\">True</text>\n</g>\n<!-- 14 -->\n<g id=\"node5\" class=\"node\">\n<title>14</title>\n<path fill=\"#e68540\" stroke=\"black\" d=\"M273.5,-155C273.5,-155 170.5,-155 170.5,-155 164.5,-155 158.5,-149 158.5,-143 158.5,-143 158.5,-84 158.5,-84 158.5,-78 164.5,-72 170.5,-72 170.5,-72 273.5,-72 273.5,-72 279.5,-72 285.5,-78 285.5,-84 285.5,-84 285.5,-143 285.5,-143 285.5,-149 279.5,-155 273.5,-155\"/>\n<text text-anchor=\"start\" x=\"166.5\" y=\"-139.8\" font-family=\"Helvetica,sans-Serif\" font-size=\"14.00\">Feature_2 ≤ 1.828</text>\n<text text-anchor=\"start\" x=\"186.5\" y=\"-124.8\" font-family=\"Helvetica,sans-Serif\" font-size=\"14.00\">gini = 0.064</text>\n<text text-anchor=\"start\" x=\"181\" y=\"-109.8\" font-family=\"Helvetica,sans-Serif\" font-size=\"14.00\">samples = 60</text>\n<text text-anchor=\"start\" x=\"179\" y=\"-94.8\" font-family=\"Helvetica,sans-Serif\" font-size=\"14.00\">value = [58, 2]</text>\n<text text-anchor=\"start\" x=\"176\" y=\"-79.8\" font-family=\"Helvetica,sans-Serif\" font-size=\"14.00\">class = Class 0</text>\n</g>\n<!-- 0&#45;&gt;14 -->\n<g id=\"edge4\" class=\"edge\">\n<title>0&#45;&gt;14</title>\n<path fill=\"none\" stroke=\"black\" d=\"M175.63,-190.91C180.97,-182.1 186.68,-172.7 192.2,-163.61\"/>\n<polygon fill=\"black\" stroke=\"black\" points=\"195.21,-165.39 197.41,-155.02 189.23,-161.75 195.21,-165.39\"/>\n<text text-anchor=\"middle\" x=\"203.35\" y=\"-175.6\" font-family=\"Helvetica,sans-Serif\" font-size=\"14.00\">False</text>\n</g>\n<!-- 2 -->\n<g id=\"node3\" class=\"node\">\n<title>2</title>\n<path fill=\"#c0c0c0\" stroke=\"black\" d=\"M42,-36C42,-36 12,-36 12,-36 6,-36 0,-30 0,-24 0,-24 0,-12 0,-12 0,-6 6,0 12,0 12,0 42,0 42,0 48,0 54,-6 54,-12 54,-12 54,-24 54,-24 54,-30 48,-36 42,-36\"/>\n<text text-anchor=\"middle\" x=\"27\" y=\"-14.3\" font-family=\"Helvetica,sans-Serif\" font-size=\"14.00\">(...)</text>\n</g>\n<!-- 1&#45;&gt;2 -->\n<g id=\"edge2\" class=\"edge\">\n<title>1&#45;&gt;2</title>\n<path fill=\"none\" stroke=\"black\" d=\"M57.47,-71.76C52.27,-62.75 46.89,-53.44 42.13,-45.19\"/>\n<polygon fill=\"black\" stroke=\"black\" points=\"45.08,-43.31 37.05,-36.41 39.02,-46.82 45.08,-43.31\"/>\n</g>\n<!-- 3 -->\n<g id=\"node4\" class=\"node\">\n<title>3</title>\n<path fill=\"#c0c0c0\" stroke=\"black\" d=\"M114,-36C114,-36 84,-36 84,-36 78,-36 72,-30 72,-24 72,-24 72,-12 72,-12 72,-6 78,0 84,0 84,0 114,0 114,0 120,0 126,-6 126,-12 126,-12 126,-24 126,-24 126,-30 120,-36 114,-36\"/>\n<text text-anchor=\"middle\" x=\"99\" y=\"-14.3\" font-family=\"Helvetica,sans-Serif\" font-size=\"14.00\">(...)</text>\n</g>\n<!-- 1&#45;&gt;3 -->\n<g id=\"edge3\" class=\"edge\">\n<title>1&#45;&gt;3</title>\n<path fill=\"none\" stroke=\"black\" d=\"M88.84,-71.76C90.5,-63.14 92.22,-54.24 93.75,-46.26\"/>\n<polygon fill=\"black\" stroke=\"black\" points=\"97.2,-46.89 95.65,-36.41 90.32,-45.56 97.2,-46.89\"/>\n</g>\n<!-- 15 -->\n<g id=\"node6\" class=\"node\">\n<title>15</title>\n<path fill=\"#c0c0c0\" stroke=\"black\" d=\"M220,-36C220,-36 190,-36 190,-36 184,-36 178,-30 178,-24 178,-24 178,-12 178,-12 178,-6 184,0 190,0 190,0 220,0 220,0 226,0 232,-6 232,-12 232,-12 232,-24 232,-24 232,-30 226,-36 220,-36\"/>\n<text text-anchor=\"middle\" x=\"205\" y=\"-14.3\" font-family=\"Helvetica,sans-Serif\" font-size=\"14.00\">(...)</text>\n</g>\n<!-- 14&#45;&gt;15 -->\n<g id=\"edge5\" class=\"edge\">\n<title>14&#45;&gt;15</title>\n<path fill=\"none\" stroke=\"black\" d=\"M214.59,-71.76C213.03,-63.14 211.41,-54.24 209.96,-46.26\"/>\n<polygon fill=\"black\" stroke=\"black\" points=\"213.4,-45.62 208.16,-36.41 206.51,-46.87 213.4,-45.62\"/>\n</g>\n<!-- 20 -->\n<g id=\"node7\" class=\"node\">\n<title>20</title>\n<path fill=\"#c0c0c0\" stroke=\"black\" d=\"M292,-36C292,-36 262,-36 262,-36 256,-36 250,-30 250,-24 250,-24 250,-12 250,-12 250,-6 256,0 262,0 262,0 292,0 292,0 298,0 304,-6 304,-12 304,-12 304,-24 304,-24 304,-30 298,-36 292,-36\"/>\n<text text-anchor=\"middle\" x=\"277\" y=\"-14.3\" font-family=\"Helvetica,sans-Serif\" font-size=\"14.00\">(...)</text>\n</g>\n<!-- 14&#45;&gt;20 -->\n<g id=\"edge6\" class=\"edge\">\n<title>14&#45;&gt;20</title>\n<path fill=\"none\" stroke=\"black\" d=\"M245.96,-71.76C251.26,-62.75 256.74,-53.44 261.59,-45.19\"/>\n<polygon fill=\"black\" stroke=\"black\" points=\"264.71,-46.8 266.76,-36.41 258.67,-43.25 264.71,-46.8\"/>\n</g>\n</g>\n</svg>\n",
            "text/plain": [
              "<graphviz.sources.Source at 0x7ed72ff26ec0>"
            ]
          },
          "metadata": {},
          "execution_count": 23
        }
      ]
    },
    {
      "cell_type": "markdown",
      "source": [
        "С использованием выражений, рассмотренных в лекции 6, вычислить прирост информации для вопроса, который был выбран в корневом узле."
      ],
      "metadata": {
        "id": "dU_UE3Q6p-_t"
      }
    },
    {
      "cell_type": "code",
      "source": [
        "# Получение признака, выбранного в корневом узле\n",
        "root_feature = tree.tree_.feature[0]  # Индекс признака в корневом узле\n",
        "print(f\"Признак, выбранный в корневом узле: Feature_{root_feature + 1}\")\n",
        "\n",
        "# Вычисление энтропии\n",
        "def entropy(y):\n",
        "    _, counts = np.unique(y, return_counts=True)\n",
        "    probabilities = counts / len(y)\n",
        "    return -np.sum(probabilities * np.log2(probabilities))\n",
        "\n",
        "# Энтропия исходного набора данных\n",
        "H_S = entropy(y_train)\n",
        "print(f\"Энтропия исходного набора данных: {H_S:.4f}\")\n",
        "\n",
        "# Разделение данных по значениям признака, выбранного в корневом узле\n",
        "feature_values = X_train[:, root_feature]\n",
        "threshold = tree.tree_.threshold[0]  # Порог разделения в корневом узле\n",
        "left_mask = feature_values <= threshold\n",
        "right_mask = feature_values > threshold\n",
        "\n",
        "# Энтропия левого и правого подмножеств\n",
        "H_left = entropy(y_train[left_mask])\n",
        "H_right = entropy(y_train[right_mask])\n",
        "print(f\"Энтропия левого подмножества: {H_left:.4f}\")\n",
        "print(f\"Энтропия правого подмножества: {H_right:.4f}\")\n",
        "\n",
        "# Вычисление прироста информации\n",
        "weight_left = np.sum(left_mask) / len(y_train)\n",
        "weight_right = np.sum(right_mask) / len(y_train)\n",
        "information_gain = H_S - (weight_left * H_left + weight_right * H_right)\n",
        "print(f\"Прирост информации для признака Feature_{root_feature + 1}: {information_gain:.4f}\")"
      ],
      "metadata": {
        "id": "Bz5uUzpt1jXe",
        "colab": {
          "base_uri": "https://localhost:8080/"
        },
        "outputId": "96f74cf9-2f5e-4812-8ccd-1057a305960d"
      },
      "execution_count": 24,
      "outputs": [
        {
          "output_type": "stream",
          "name": "stdout",
          "text": [
            "Признак, выбранный в корневом узле: Feature_3\n",
            "Энтропия исходного набора данных: 1.0000\n",
            "Энтропия левого подмножества: 0.4306\n",
            "Энтропия правого подмножества: 0.2108\n",
            "Прирост информации для признака Feature_3: 0.6724\n"
          ]
        }
      ]
    },
    {
      "cell_type": "markdown",
      "source": [
        "С использованием выражений, рассмотренных в лекции 6, вычислить прирост информации для любого альтернативного вопроса в корневом узле и сравнить полученные значения."
      ],
      "metadata": {
        "id": "hxVtC17Ysi7n"
      }
    },
    {
      "cell_type": "code",
      "source": [
        "# Вычисление энтропии\n",
        "def entropy(y):\n",
        "    _, counts = np.unique(y, return_counts=True)\n",
        "    probabilities = counts / len(y)\n",
        "    return -np.sum(probabilities * np.log2(probabilities))\n",
        "\n",
        "# Энтропия исходного набора данных\n",
        "H_S = entropy(y_train)\n",
        "print(f\"Энтропия исходного набора данных: {H_S:.4f}\")\n",
        "\n",
        "# Функция для вычисления прироста информации для заданного признака\n",
        "def information_gain(X_train, y_train, feature_index):\n",
        "    feature_values = X_train[:, feature_index]\n",
        "    thresholds = np.unique(feature_values)  # Уникальные значения признака\n",
        "    max_gain = 0\n",
        "    best_threshold = None\n",
        "\n",
        "    for threshold in thresholds:\n",
        "        # Разделение данных на подмножества\n",
        "        left_mask = feature_values <= threshold\n",
        "        right_mask = feature_values > threshold\n",
        "\n",
        "        # Энтропия левого и правого подмножеств\n",
        "        H_left = entropy(y_train[left_mask])\n",
        "        H_right = entropy(y_train[right_mask])\n",
        "\n",
        "        # Веса подмножеств\n",
        "        weight_left = np.sum(left_mask) / len(y_train)\n",
        "        weight_right = np.sum(right_mask) / len(y_train)\n",
        "\n",
        "        # Прирост информации\n",
        "        gain = H_S - (weight_left * H_left + weight_right * H_right)\n",
        "\n",
        "        # Выбор лучшего порога\n",
        "        if gain > max_gain:\n",
        "            max_gain = gain\n",
        "            best_threshold = threshold\n",
        "\n",
        "    return max_gain, best_threshold\n",
        "\n",
        "# Вычисление прироста информации для всех признаков\n",
        "feature_gains = {}\n",
        "for feature_index in range(X_train.shape[1]):\n",
        "    gain, threshold = information_gain(X_train, y_train, feature_index)\n",
        "    feature_gains[f\"Feature_{feature_index + 1}\"] = (gain, threshold)\n",
        "\n",
        "# Вывод результатов\n",
        "print(\"\\nПрирост информации для каждого признака:\")\n",
        "for feature, (gain, threshold) in feature_gains.items():\n",
        "    print(f\"{feature}: Прирост информации = {gain:.4f}, Порог = {threshold:.4f}\")\n",
        "\n",
        "# Сравнение прироста информации\n",
        "best_feature = max(feature_gains, key=lambda k: feature_gains[k][0])\n",
        "print(f\"\\nЛучший признак для разделения: {best_feature} с приростом информации {feature_gains[best_feature][0]:.4f}\")\n"
      ],
      "metadata": {
        "id": "uxJjMvOU1vvm",
        "colab": {
          "base_uri": "https://localhost:8080/"
        },
        "outputId": "b7f65ba1-60aa-4ff2-82b8-b9dc7f9ce8c2"
      },
      "execution_count": 25,
      "outputs": [
        {
          "output_type": "stream",
          "name": "stdout",
          "text": [
            "Энтропия исходного набора данных: 1.0000\n",
            "\n",
            "Прирост информации для каждого признака:\n",
            "Feature_1: Прирост информации = 0.2521, Порог = 0.3276\n",
            "Feature_2: Прирост информации = 0.0238, Порог = 1.8665\n",
            "Feature_3: Прирост информации = 0.6724, Порог = -0.0889\n",
            "\n",
            "Лучший признак для разделения: Feature_3 с приростом информации 0.6724\n"
          ]
        }
      ]
    },
    {
      "cell_type": "markdown",
      "source": [
        "# **3. Оценивание качества модели**"
      ],
      "metadata": {
        "id": "vkzyFiSMWdm7"
      }
    },
    {
      "cell_type": "markdown",
      "source": [
        "**Для задачи классификации**:"
      ],
      "metadata": {
        "id": "6rZXr_a9PCzw"
      }
    },
    {
      "cell_type": "markdown",
      "source": [
        "Построить матрицу ошибок для обучающей и тестовой выборок."
      ],
      "metadata": {
        "id": "HV958NOCfGov"
      }
    },
    {
      "cell_type": "code",
      "source": [
        "# Предсказания на обучающей и тестовой выборках\n",
        "y_train_pred = tree.predict(X_train)\n",
        "y_test_pred = tree.predict(X_test)\n",
        "y_train_pred"
      ],
      "metadata": {
        "id": "E3vn6FcddfHB",
        "colab": {
          "base_uri": "https://localhost:8080/"
        },
        "outputId": "4b1a7add-16c9-4f24-bdba-d0509171e1ff"
      },
      "execution_count": 29,
      "outputs": [
        {
          "output_type": "execute_result",
          "data": {
            "text/plain": [
              "array([0, 1, 0, 0, 0, 1, 0, 1, 0, 0, 0, 0, 1, 0, 0, 0, 0, 0, 1, 1, 1, 1,\n",
              "       0, 0, 1, 1, 0, 0, 0, 1, 0, 1, 1, 1, 1, 0, 1, 1, 1, 1, 0, 0, 1, 1,\n",
              "       0, 1, 0, 0, 1, 1, 1, 1, 1, 1, 1, 0, 1, 1, 0, 0, 1, 1, 0, 0, 0, 0,\n",
              "       1, 0, 0, 0, 1, 0, 0, 1, 0, 1, 0, 1, 1, 0, 0, 0, 0, 1, 0, 1, 1, 1,\n",
              "       0, 1, 0, 0, 1, 0, 0, 1, 1, 0, 0, 0, 1, 1, 1, 1, 1, 0, 1, 1, 1, 1,\n",
              "       1, 0, 1, 0, 1, 1, 1, 0, 1, 0, 1, 0, 0, 0, 0, 0, 1, 0])"
            ]
          },
          "metadata": {},
          "execution_count": 29
        }
      ]
    },
    {
      "cell_type": "code",
      "source": [
        "y_test_pred"
      ],
      "metadata": {
        "colab": {
          "base_uri": "https://localhost:8080/"
        },
        "id": "k2W5DpUtIMhm",
        "outputId": "dc0429a0-4731-4827-a4b1-0589c5caef63"
      },
      "execution_count": 30,
      "outputs": [
        {
          "output_type": "execute_result",
          "data": {
            "text/plain": [
              "array([0, 1, 0, 1, 0, 1, 1, 0, 0, 0, 1, 0, 1, 0, 0, 1, 1, 0, 1, 1, 1, 0,\n",
              "       0, 0, 1, 1, 1, 0, 0, 1, 1, 0, 0, 0, 1, 1, 1, 0, 1, 1, 0, 0, 0, 0,\n",
              "       1, 1, 0, 1, 0, 0, 1, 1, 1, 1, 0, 0])"
            ]
          },
          "metadata": {},
          "execution_count": 30
        }
      ]
    },
    {
      "cell_type": "code",
      "source": [
        "# Построение матрицы ошибок для обучающей выборки\n",
        "cm_train = confusion_matrix(y_train, y_train_pred)\n",
        "# Визуализация матрицы ошибок для обучающей выборки\n",
        "disp_train = ConfusionMatrixDisplay(confusion_matrix=cm_train, display_labels=tree.classes_)\n",
        "disp_train.plot(cmap=plt.cm.Blues)\n",
        "plt.title(\"Confusion Matrix (Training Set)\")\n",
        "plt.show()"
      ],
      "metadata": {
        "colab": {
          "base_uri": "https://localhost:8080/",
          "height": 472
        },
        "id": "izs_x_K8IO5N",
        "outputId": "a480be6e-7d0c-4dc0-d591-6c67efd5101d"
      },
      "execution_count": 33,
      "outputs": [
        {
          "output_type": "display_data",
          "data": {
            "text/plain": [
              "<Figure size 640x480 with 2 Axes>"
            ],
            "image/png": "[encoded data removed]"
          },
          "metadata": {}
        }
      ]
    },
    {
      "cell_type": "code",
      "source": [
        "# Построение матрицы ошибок для тестовой выборки\n",
        "cm_test = confusion_matrix(y_test, y_test_pred)\n",
        "# Визуализация матрицы ошибок для тестовой выборки\n",
        "disp_test = ConfusionMatrixDisplay(confusion_matrix=cm_test, display_labels=tree.classes_)\n",
        "disp_test.plot(cmap=plt.cm.Oranges)\n",
        "plt.title(\"Confusion Matrix (Test Set)\")\n",
        "plt.show()"
      ],
      "metadata": {
        "colab": {
          "base_uri": "https://localhost:8080/",
          "height": 472
        },
        "id": "vgqA5y6GIg1d",
        "outputId": "d85680a9-44f2-4eae-ba9f-1e1d824f0f62"
      },
      "execution_count": 35,
      "outputs": [
        {
          "output_type": "display_data",
          "data": {
            "text/plain": [
              "<Figure size 640x480 with 2 Axes>"
            ],
            "image/png": "[encoded data removed]"
          },
          "metadata": {}
        }
      ]
    },
    {
      "cell_type": "markdown",
      "source": [
        "Сделать вывод о качестве модели."
      ],
      "metadata": {
        "id": "if41STyUNm8M"
      }
    },
    {
      "cell_type": "markdown",
      "source": [
        "Вычислить метрику accuracy для обучающей и тестовой выборок."
      ],
      "metadata": {
        "id": "7aZuowjtymBR"
      }
    },
    {
      "cell_type": "code",
      "source": [
        "# Вычисление точности для обучающей выборки\n",
        "accuracy_train = accuracy_score(y_train, y_train_pred)\n",
        "print(f\"Точность на обучающей выборке: {accuracy_train:.4f}\")\n",
        "\n",
        "# Вычисление точности для тестовой выборки\n",
        "accuracy_test = accuracy_score(y_test, y_test_pred)\n",
        "print(f\"Точность на тестовой выборке: {accuracy_test:.4f}\")"
      ],
      "metadata": {
        "id": "q6xYKNXWyij8",
        "colab": {
          "base_uri": "https://localhost:8080/"
        },
        "outputId": "bae0905a-c407-4d01-baab-650321f68873"
      },
      "execution_count": 38,
      "outputs": [
        {
          "output_type": "stream",
          "name": "stdout",
          "text": [
            "Точность на обучающей выборке: 1.0000\n",
            "Точность на тестовой выборке: 0.8214\n"
          ]
        }
      ]
    },
    {
      "cell_type": "markdown",
      "source": [
        "Сделать вывод о качестве модели."
      ],
      "metadata": {
        "id": "Dyzqp4N0NsTk"
      }
    },
    {
      "cell_type": "markdown",
      "source": [
        "# **4. Подбор оптимальных гиперпараметров модели дерева решений**"
      ],
      "metadata": {
        "id": "g2zLvicpUe6c"
      }
    },
    {
      "cell_type": "markdown",
      "source": [
        "Осуществить подбор гиперараметров модели дерева решений:\n",
        "-  `max_depth`;\n",
        "- `min_samples_leaf`;\n",
        "- `max_features`."
      ],
      "metadata": {
        "id": "8aqibaCihBmE"
      }
    },
    {
      "cell_type": "markdown",
      "source": [
        "## Использование валидационных кривых"
      ],
      "metadata": {
        "id": "hNLd2us_2Dm1"
      }
    },
    {
      "cell_type": "markdown",
      "source": [
        "Построить валидационные кривые для оценивания оптимального диапазона изменения гиперпараметров.\n",
        "\n",
        "Параметр кросс-валидации - 5.\n",
        "\n",
        "Метрика качества модели дерева решений:\n",
        "- для классификации - accuracy;\n",
        "- для регрессии - R2."
      ],
      "metadata": {
        "id": "P72gxA_ZaRnf"
      }
    },
    {
      "cell_type": "markdown",
      "source": [
        "Построить валидационные кривые для гиперпараметра `max_depth`."
      ],
      "metadata": {
        "id": "4xz-9jecN6Dk"
      }
    },
    {
      "cell_type": "code",
      "execution_count": 40,
      "metadata": {
        "id": "ZzEQHQC8hQ1w",
        "colab": {
          "base_uri": "https://localhost:8080/",
          "height": 564
        },
        "outputId": "83586d1f-8def-4ce3-c724-38edfc4d159c"
      },
      "outputs": [
        {
          "output_type": "display_data",
          "data": {
            "text/plain": [
              "<Figure size 1000x600 with 1 Axes>"
            ],
            "image/png": "[encoded data removed]"
          },
          "metadata": {}
        }
      ],
      "source": [
        "# Определение диапазона значений для max_depth\n",
        "param_range = np.arange(1, 21)  # Проверяем значения от 1 до 20\n",
        "\n",
        "# Построение валидационной кривой для max_depth\n",
        "train_scores, test_scores = validation_curve(\n",
        "    DecisionTreeClassifier(random_state=1),\n",
        "    X_train, y_train,\n",
        "    param_name=\"max_depth\",\n",
        "    param_range=param_range,\n",
        "    cv=5,  # 5-кратная кросс-валидация\n",
        "    scoring=\"accuracy\"  # Метрика качества\n",
        ")\n",
        "\n",
        "# Вычисление средних значений и стандартных отклонений\n",
        "train_scores_mean = np.mean(train_scores, axis=1)\n",
        "train_scores_std = np.std(train_scores, axis=1)\n",
        "test_scores_mean = np.mean(test_scores, axis=1)\n",
        "test_scores_std = np.std(test_scores, axis=1)\n",
        "\n",
        "# Построение валидационной кривой\n",
        "plt.figure(figsize=(10, 6))\n",
        "plt.title(\"Validation Curve for max_depth\")\n",
        "plt.xlabel(\"max_depth\")\n",
        "plt.ylabel(\"Accuracy\")\n",
        "plt.ylim(0.5, 1.1)\n",
        "\n",
        "# График для обучающей выборки\n",
        "plt.plot(param_range, train_scores_mean, label=\"Training score\", color=\"blue\")\n",
        "plt.fill_between(param_range, train_scores_mean - train_scores_std,\n",
        "                 train_scores_mean + train_scores_std, color=\"blue\", alpha=0.2)\n",
        "\n",
        "# График для тестовой выборки\n",
        "plt.plot(param_range, test_scores_mean, label=\"Cross-validation score\", color=\"green\")\n",
        "plt.fill_between(param_range, test_scores_mean - test_scores_std,\n",
        "                 test_scores_mean + test_scores_std, color=\"green\", alpha=0.2)\n",
        "\n",
        "plt.legend(loc=\"best\")\n",
        "plt.grid()\n",
        "plt.show()"
      ]
    },
    {
      "cell_type": "markdown",
      "source": [
        "Обучить модель дерева решений с произвольным значением гиперпараметра `max_depth` из найденного диапазона и оценить качество модели на обучающей и тестовой выборках по соответствующей метрике."
      ],
      "metadata": {
        "id": "MTLQ8_TjDoBw"
      }
    },
    {
      "cell_type": "code",
      "source": [
        "# Определение гиперпараметра max_depth\n",
        "max_depth = 4\n",
        "\n",
        "# Создание и обучение модели дерева решений\n",
        "tree = DecisionTreeClassifier(max_depth=max_depth, random_state=1)\n",
        "tree.fit(X_train, y_train)\n",
        "\n",
        "# Предсказания на обучающей и тестовой выборках\n",
        "y_train_pred = tree.predict(X_train)\n",
        "y_test_pred = tree.predict(X_test)\n",
        "\n",
        "# Вычисление точности для обучающей выборки\n",
        "accuracy_train = accuracy_score(y_train, y_train_pred)\n",
        "print(f\"Точность на обучающей выборке (max_depth={max_depth}): {accuracy_train:.4f}\")\n",
        "\n",
        "# Вычисление точности для тестовой выборки\n",
        "accuracy_test = accuracy_score(y_test, y_test_pred)\n",
        "print(f\"Точность на тестовой выборке (max_depth={max_depth}): {accuracy_test:.4f}\")"
      ],
      "metadata": {
        "id": "Ibltd7GuDZcv",
        "colab": {
          "base_uri": "https://localhost:8080/"
        },
        "outputId": "e4de6057-6121-4b6c-bd84-31e398b3dd66"
      },
      "execution_count": 46,
      "outputs": [
        {
          "output_type": "stream",
          "name": "stdout",
          "text": [
            "Точность на обучающей выборке (max_depth=4): 0.9844\n",
            "Точность на тестовой выборке (max_depth=4): 0.8393\n"
          ]
        }
      ]
    },
    {
      "cell_type": "markdown",
      "source": [
        "Построить валидационные кривые для гиперпараметра `min_samples_leaf`."
      ],
      "metadata": {
        "id": "mQoyIIxEFoCn"
      }
    },
    {
      "cell_type": "code",
      "source": [
        "# Определение диапазона значений для min_samples_leaf\n",
        "param_range = np.arange(1, 51)  # Проверяем значения от 1 до 50\n",
        "\n",
        "# Построение валидационной кривой для min_samples_leaf\n",
        "train_scores, test_scores = validation_curve(\n",
        "    DecisionTreeClassifier(random_state=1),\n",
        "    X_train, y_train,\n",
        "    param_name=\"min_samples_leaf\",\n",
        "    param_range=param_range,\n",
        "    cv=5,  # 5-кратная кросс-валидация\n",
        "    scoring=\"accuracy\"  # Метрика качества\n",
        ")\n",
        "\n",
        "# Вычисление средних значений и стандартных отклонений\n",
        "train_scores_mean = np.mean(train_scores, axis=1)\n",
        "train_scores_std = np.std(train_scores, axis=1)\n",
        "test_scores_mean = np.mean(test_scores, axis=1)\n",
        "test_scores_std = np.std(test_scores, axis=1)\n",
        "\n",
        "# Построение валидационной кривой\n",
        "plt.figure(figsize=(10, 6))\n",
        "plt.title(\"Validation Curve for min_samples_leaf\")\n",
        "plt.xlabel(\"min_samples_leaf\")\n",
        "plt.ylabel(\"Accuracy\")\n",
        "plt.ylim(0.5, 1.1)\n",
        "\n",
        "# График для обучающей выборки\n",
        "plt.plot(param_range, train_scores_mean, label=\"Training score\", color=\"blue\")\n",
        "plt.fill_between(param_range, train_scores_mean - train_scores_std,\n",
        "                 train_scores_mean + train_scores_std, color=\"blue\", alpha=0.2)\n",
        "\n",
        "# График для тестовой выборки\n",
        "plt.plot(param_range, test_scores_mean, label=\"Cross-validation score\", color=\"green\")\n",
        "plt.fill_between(param_range, test_scores_mean - test_scores_std,\n",
        "                 test_scores_mean + test_scores_std, color=\"green\", alpha=0.2)\n",
        "\n",
        "plt.legend(loc=\"best\")\n",
        "plt.grid()\n",
        "plt.show()"
      ],
      "metadata": {
        "id": "IQYPo7A1KzVa",
        "colab": {
          "base_uri": "https://localhost:8080/",
          "height": 564
        },
        "outputId": "528dec4b-74e3-4cf4-ad1c-5c5f8eb57fae"
      },
      "execution_count": 49,
      "outputs": [
        {
          "output_type": "display_data",
          "data": {
            "text/plain": [
              "<Figure size 1000x600 with 1 Axes>"
            ],
            "image/png": "[encoded data removed]"
          },
          "metadata": {}
        }
      ]
    },
    {
      "cell_type": "code",
      "source": [
        "train_scores_mean"
      ],
      "metadata": {
        "colab": {
          "base_uri": "https://localhost:8080/"
        },
        "id": "r0LTztuCMSS-",
        "outputId": "9ecf5a9c-7183-4d3d-8fd8-211ea8a437da"
      },
      "execution_count": 52,
      "outputs": [
        {
          "output_type": "execute_result",
          "data": {
            "text/plain": [
              "array([1.        , 0.96483914, 0.96483914, 0.94920998, 0.94334666,\n",
              "       0.93748334, 0.93748334, 0.93748334, 0.93748334, 0.93748334,\n",
              "       0.93748334, 0.93748334, 0.93748334, 0.93748334, 0.93748334,\n",
              "       0.93748334, 0.93748334, 0.93748334, 0.93748334, 0.93748334,\n",
              "       0.93748334, 0.93748334, 0.93748334, 0.93748334, 0.93748334,\n",
              "       0.93748334, 0.93748334, 0.93748334, 0.93748334, 0.93748334,\n",
              "       0.93748334, 0.93748334, 0.93748334, 0.93748334, 0.93748334,\n",
              "       0.93748334, 0.93748334, 0.93748334, 0.93748334, 0.93748334,\n",
              "       0.93748334, 0.93748334, 0.93748334, 0.93748334, 0.93748334,\n",
              "       0.93748334, 0.93552256, 0.93160099, 0.92769846, 0.92381496])"
            ]
          },
          "metadata": {},
          "execution_count": 52
        }
      ]
    },
    {
      "cell_type": "code",
      "source": [
        "train_scores_std\n"
      ],
      "metadata": {
        "colab": {
          "base_uri": "https://localhost:8080/"
        },
        "id": "oTlUSB2DMgDP",
        "outputId": "91367fff-3928-48e3-a33f-fb575ec49791"
      },
      "execution_count": 53,
      "outputs": [
        {
          "output_type": "execute_result",
          "data": {
            "text/plain": [
              "array([0.        , 0.01170575, 0.00992864, 0.01292265, 0.01141687,\n",
              "       0.01181251, 0.01181251, 0.01181251, 0.01181251, 0.01181251,\n",
              "       0.01181251, 0.01181251, 0.01181251, 0.01181251, 0.01181251,\n",
              "       0.01181251, 0.01181251, 0.01181251, 0.01181251, 0.01181251,\n",
              "       0.01181251, 0.01181251, 0.01181251, 0.01181251, 0.01181251,\n",
              "       0.01181251, 0.01181251, 0.01181251, 0.01181251, 0.01181251,\n",
              "       0.01181251, 0.01181251, 0.01181251, 0.01181251, 0.01181251,\n",
              "       0.01181251, 0.01181251, 0.01181251, 0.01181251, 0.01181251,\n",
              "       0.01181251, 0.01181251, 0.01181251, 0.01181251, 0.01181251,\n",
              "       0.01181251, 0.01337453, 0.01764621, 0.02025643, 0.01901394])"
            ]
          },
          "metadata": {},
          "execution_count": 53
        }
      ]
    },
    {
      "cell_type": "code",
      "source": [
        "test_scores_mean\n"
      ],
      "metadata": {
        "colab": {
          "base_uri": "https://localhost:8080/"
        },
        "id": "do9hyVEQMit4",
        "outputId": "cba6e24b-a44c-4217-a2d1-855169fddaa6"
      },
      "execution_count": 54,
      "outputs": [
        {
          "output_type": "execute_result",
          "data": {
            "text/plain": [
              "array([0.90615385, 0.90646154, 0.91415385, 0.92184615, 0.92184615,\n",
              "       0.91415385, 0.92953846, 0.92953846, 0.92953846, 0.92953846,\n",
              "       0.92953846, 0.92953846, 0.92953846, 0.92953846, 0.92953846,\n",
              "       0.92953846, 0.92953846, 0.92953846, 0.92953846, 0.92953846,\n",
              "       0.92953846, 0.92953846, 0.92953846, 0.92953846, 0.92953846,\n",
              "       0.92953846, 0.92953846, 0.92953846, 0.92953846, 0.92953846,\n",
              "       0.92953846, 0.92953846, 0.92953846, 0.92953846, 0.92953846,\n",
              "       0.92953846, 0.92953846, 0.92953846, 0.92953846, 0.92953846,\n",
              "       0.92953846, 0.92953846, 0.92953846, 0.92953846, 0.92953846,\n",
              "       0.92953846, 0.93723077, 0.92953846, 0.91384615, 0.91384615])"
            ]
          },
          "metadata": {},
          "execution_count": 54
        }
      ]
    },
    {
      "cell_type": "code",
      "source": [
        "test_scores_std"
      ],
      "metadata": {
        "colab": {
          "base_uri": "https://localhost:8080/"
        },
        "id": "o_-O1ZzeMnX3",
        "outputId": "5054074b-cd0e-480f-9f5f-a9388df3c904"
      },
      "execution_count": 55,
      "outputs": [
        {
          "output_type": "execute_result",
          "data": {
            "text/plain": [
              "array([0.03957167, 0.05767405, 0.06179485, 0.03512817, 0.04916727,\n",
              "       0.0568057 , 0.04562155, 0.04562155, 0.04562155, 0.04562155,\n",
              "       0.04562155, 0.04562155, 0.04562155, 0.04562155, 0.04562155,\n",
              "       0.04562155, 0.04562155, 0.04562155, 0.04562155, 0.04562155,\n",
              "       0.04562155, 0.04562155, 0.04562155, 0.04562155, 0.04562155,\n",
              "       0.04562155, 0.04562155, 0.04562155, 0.04562155, 0.04562155,\n",
              "       0.04562155, 0.04562155, 0.04562155, 0.04562155, 0.04562155,\n",
              "       0.04562155, 0.04562155, 0.04562155, 0.04562155, 0.04562155,\n",
              "       0.04562155, 0.04562155, 0.04562155, 0.04562155, 0.04562155,\n",
              "       0.04562155, 0.04710205, 0.03859546, 0.02965681, 0.02965681])"
            ]
          },
          "metadata": {},
          "execution_count": 55
        }
      ]
    },
    {
      "cell_type": "markdown",
      "source": [
        "Обучить модель дерева решений с произвольным значением гиперпараметра `min_samples_leaf` из найденного диапазона и зафиксированном на предыдущем шаге значением гиперпараметра `max_depth`.\n",
        "\n",
        "Оценить качество модели на обучающей и тестовой выборках по соответствующей метрике."
      ],
      "metadata": {
        "id": "L44IyZguF1uu"
      }
    },
    {
      "cell_type": "code",
      "source": [
        "# Определение гиперпараметров\n",
        "max_depth = 4  # Зафиксированное значение из предыдущего шага\n",
        "min_samples_leaf = 10  # Выберите значение из найденного диапазона\n",
        "\n",
        "# Создание и обучение модели дерева решений\n",
        "tree = DecisionTreeClassifier(max_depth=max_depth, min_samples_leaf=min_samples_leaf, random_state=1)\n",
        "tree.fit(X_train, y_train)\n",
        "\n",
        "# Предсказания на обучающей и тестовой выборках\n",
        "y_train_pred = tree.predict(X_train)\n",
        "y_test_pred = tree.predict(X_test)\n",
        "\n",
        "# Вычисление точности для обучающей выборки\n",
        "accuracy_train = accuracy_score(y_train, y_train_pred)\n",
        "print(f\"Точность на обучающей выборке (max_depth={max_depth}, min_samples_leaf={min_samples_leaf}): {accuracy_train:.4f}\")\n",
        "\n",
        "# Вычисление точности для тестовой выборки\n",
        "accuracy_test = accuracy_score(y_test, y_test_pred)\n",
        "print(f\"Точность на тестовой выборке (max_depth={max_depth}, min_samples_leaf={min_samples_leaf}): {accuracy_test:.4f}\")\n"
      ],
      "metadata": {
        "id": "KNgPi_KBF1uv",
        "colab": {
          "base_uri": "https://localhost:8080/"
        },
        "outputId": "658f658c-9c06-44f7-fc87-3f7b854a0575"
      },
      "execution_count": 56,
      "outputs": [
        {
          "output_type": "stream",
          "name": "stdout",
          "text": [
            "Точность на обучающей выборке (max_depth=4, min_samples_leaf=10): 0.9375\n",
            "Точность на тестовой выборке (max_depth=4, min_samples_leaf=10): 0.8393\n"
          ]
        }
      ]
    },
    {
      "cell_type": "markdown",
      "source": [
        "Построить валидационные кривые для гиперпараметра `max_features`."
      ],
      "metadata": {
        "id": "sXxzOcODHczG"
      }
    },
    {
      "cell_type": "code",
      "source": [
        "# Определение диапазона значений для max_features\n",
        "param_range = np.arange(1, X.shape[1] + 1)  # Проверяем значения от 1 до количества признаков (3)\n",
        "\n",
        "# Построение валидационной кривой для max_features\n",
        "train_scores, test_scores = validation_curve(\n",
        "    DecisionTreeClassifier(random_state=1),\n",
        "    X_train, y_train,\n",
        "    param_name=\"max_features\",\n",
        "    param_range=param_range,\n",
        "    cv=5,  # 5-кратная кросс-валидация\n",
        "    scoring=\"accuracy\"  # Метрика качества\n",
        ")\n",
        "\n",
        "# Вычисление средних значений и стандартных отклонений\n",
        "train_scores_mean = np.mean(train_scores, axis=1)\n",
        "train_scores_std = np.std(train_scores, axis=1)\n",
        "test_scores_mean = np.mean(test_scores, axis=1)\n",
        "test_scores_std = np.std(test_scores, axis=1)\n",
        "\n",
        "# Построение валидационной кривой\n",
        "plt.figure(figsize=(10, 6))\n",
        "plt.title(\"Validation Curve for max_features\")\n",
        "plt.xlabel(\"max_features\")\n",
        "plt.ylabel(\"Accuracy\")\n",
        "plt.ylim(0.5, 1.1)\n",
        "\n",
        "# График для обучающей выборки\n",
        "plt.plot(param_range, train_scores_mean, label=\"Training score\", color=\"blue\")\n",
        "plt.fill_between(param_range, train_scores_mean - train_scores_std,\n",
        "                 train_scores_mean + train_scores_std, color=\"blue\", alpha=0.2)\n",
        "\n",
        "# График для тестовой выборки\n",
        "plt.plot(param_range, test_scores_mean, label=\"Cross-validation score\", color=\"green\")\n",
        "plt.fill_between(param_range, test_scores_mean - test_scores_std,\n",
        "                 test_scores_mean + test_scores_std, color=\"green\", alpha=0.2)\n",
        "\n",
        "plt.legend(loc=\"best\")\n",
        "plt.grid()\n",
        "plt.show()"
      ],
      "metadata": {
        "id": "nnkPeEoEHczZ",
        "colab": {
          "base_uri": "https://localhost:8080/",
          "height": 564
        },
        "outputId": "cfa29c1e-8336-48ee-d3f2-12a8f8c6d1c5"
      },
      "execution_count": 57,
      "outputs": [
        {
          "output_type": "display_data",
          "data": {
            "text/plain": [
              "<Figure size 1000x600 with 1 Axes>"
            ],
            "image/png": "[encoded data removed]"
          },
          "metadata": {}
        }
      ]
    },
    {
      "cell_type": "markdown",
      "source": [
        "Обучить модель дерева решений с произвольным значением гиперпараметра `max_features` из найденного диапазона и зафиксированными на предыдущих шагах значениями гиперпараметров `max_depth` и `min_samples_leaf` .\n",
        "\n",
        "Оценить качество модели на обучающей и тестовой выборках по соответствующей метрике."
      ],
      "metadata": {
        "id": "DhFohEt5HwWY"
      }
    },
    {
      "cell_type": "code",
      "source": [
        "# Определение гиперпараметров\n",
        "max_depth = 4  # Зафиксированное значение из предыдущего шага\n",
        "min_samples_leaf = 10  # Зафиксированное значение из предыдущего шага\n",
        "max_features = 2  # Выберите значение из найденного диапазона\n",
        "\n",
        "# Создание и обучение модели дерева решений\n",
        "tree = DecisionTreeClassifier(max_depth=max_depth, min_samples_leaf=min_samples_leaf, max_features=max_features, random_state=1)\n",
        "tree.fit(X_train, y_train)\n",
        "\n",
        "# Предсказания на обучающей и тестовой выборках\n",
        "y_train_pred = tree.predict(X_train)\n",
        "y_test_pred = tree.predict(X_test)\n",
        "\n",
        "# Вычисление точности для обучающей выборки\n",
        "accuracy_train = accuracy_score(y_train, y_train_pred)\n",
        "print(f\"Точность на обучающей выборке (max_depth={max_depth}, min_samples_leaf={min_samples_leaf}, max_features={max_features}): {accuracy_train:.4f}\")\n",
        "\n",
        "# Вычисление точности для тестовой выборки\n",
        "accuracy_test = accuracy_score(y_test, y_test_pred)\n",
        "print(f\"Точность на тестовой выборке (max_depth={max_depth}, min_samples_leaf={min_samples_leaf}, max_features={max_features}): {accuracy_test:.4f}\")"
      ],
      "metadata": {
        "id": "OmQK7ix7HwWr",
        "colab": {
          "base_uri": "https://localhost:8080/"
        },
        "outputId": "a2448e1f-72a5-4551-80d4-13055f7e8283"
      },
      "execution_count": 58,
      "outputs": [
        {
          "output_type": "stream",
          "name": "stdout",
          "text": [
            "Точность на обучающей выборке (max_depth=4, min_samples_leaf=10, max_features=2): 0.9375\n",
            "Точность на тестовой выборке (max_depth=4, min_samples_leaf=10, max_features=2): 0.8393\n"
          ]
        }
      ]
    },
    {
      "cell_type": "markdown",
      "source": [
        "Визуализировать полученное дерево решений."
      ],
      "metadata": {
        "id": "pjyhgxruIzuy"
      }
    },
    {
      "cell_type": "code",
      "source": [
        "# Экспорт дерева в формате .dot\n",
        "dot_data = export_graphviz(tree,\n",
        "                           out_file=None,\n",
        "                           feature_names=[f\"Feature_{i+1}\" for i in range(X.shape[1])],  # Имена признаков\n",
        "                           class_names=[\"Class 0\", \"Class 1\"],  # Имена классов\n",
        "                           filled=True,  # Заливка узлов\n",
        "                           rounded=True,  # Закругленные углы\n",
        "                           special_characters=True)  # Специальные символы\n",
        "\n",
        "# Визуализация дерева в блокноте\n",
        "graph = graphviz.Source(dot_data)\n",
        "graph"
      ],
      "metadata": {
        "id": "0WTASkJ7R1Kj",
        "colab": {
          "base_uri": "https://localhost:8080/",
          "height": 757
        },
        "outputId": "a3f6cd4b-f0e0-4dc0-d7d1-af21899e30e9"
      },
      "execution_count": 59,
      "outputs": [
        {
          "output_type": "execute_result",
          "data": {
            "image/svg+xml": "<?xml version=\"1.0\" encoding=\"UTF-8\" standalone=\"no\"?>\n<!DOCTYPE svg PUBLIC \"-//W3C//DTD SVG 1.1//EN\"\n \"http://www.w3.org/Graphics/SVG/1.1/DTD/svg11.dtd\">\n<!-- Generated by graphviz version 2.43.0 (0)\n -->\n<!-- Title: Tree Pages: 1 -->\n<svg width=\"593pt\" height=\"552pt\"\n viewBox=\"0.00 0.00 593.00 552.00\" xmlns=\"http://www.w3.org/2000/svg\" xmlns:xlink=\"http://www.w3.org/1999/xlink\">\n<g id=\"graph0\" class=\"graph\" transform=\"scale(1 1) rotate(0) translate(4 548)\">\n<title>Tree</title>\n<polygon fill=\"white\" stroke=\"transparent\" points=\"-4,4 -4,-548 589,-548 589,4 -4,4\"/>\n<!-- 0 -->\n<g id=\"node1\" class=\"node\">\n<title>0</title>\n<path fill=\"#ffffff\" stroke=\"black\" d=\"M375.5,-544C375.5,-544 268.5,-544 268.5,-544 262.5,-544 256.5,-538 256.5,-532 256.5,-532 256.5,-473 256.5,-473 256.5,-467 262.5,-461 268.5,-461 268.5,-461 375.5,-461 375.5,-461 381.5,-461 387.5,-467 387.5,-473 387.5,-473 387.5,-532 387.5,-532 387.5,-538 381.5,-544 375.5,-544\"/>\n<text text-anchor=\"start\" x=\"264.5\" y=\"-528.8\" font-family=\"Helvetica,sans-Serif\" font-size=\"14.00\">Feature_3 ≤ &#45;0.059</text>\n<text text-anchor=\"start\" x=\"294\" y=\"-513.8\" font-family=\"Helvetica,sans-Serif\" font-size=\"14.00\">gini = 0.5</text>\n<text text-anchor=\"start\" x=\"277\" y=\"-498.8\" font-family=\"Helvetica,sans-Serif\" font-size=\"14.00\">samples = 128</text>\n<text text-anchor=\"start\" x=\"275\" y=\"-483.8\" font-family=\"Helvetica,sans-Serif\" font-size=\"14.00\">value = [64, 64]</text>\n<text text-anchor=\"start\" x=\"276\" y=\"-468.8\" font-family=\"Helvetica,sans-Serif\" font-size=\"14.00\">class = Class 0</text>\n</g>\n<!-- 1 -->\n<g id=\"node2\" class=\"node\">\n<title>1</title>\n<path fill=\"#4ca6e8\" stroke=\"black\" d=\"M301.5,-425C301.5,-425 198.5,-425 198.5,-425 192.5,-425 186.5,-419 186.5,-413 186.5,-413 186.5,-354 186.5,-354 186.5,-348 192.5,-342 198.5,-342 198.5,-342 301.5,-342 301.5,-342 307.5,-342 313.5,-348 313.5,-354 313.5,-354 313.5,-413 313.5,-413 313.5,-419 307.5,-425 301.5,-425\"/>\n<text text-anchor=\"start\" x=\"194.5\" y=\"-409.8\" font-family=\"Helvetica,sans-Serif\" font-size=\"14.00\">Feature_1 ≤ 0.533</text>\n<text text-anchor=\"start\" x=\"214.5\" y=\"-394.8\" font-family=\"Helvetica,sans-Serif\" font-size=\"14.00\">gini = 0.161</text>\n<text text-anchor=\"start\" x=\"209\" y=\"-379.8\" font-family=\"Helvetica,sans-Serif\" font-size=\"14.00\">samples = 68</text>\n<text text-anchor=\"start\" x=\"207\" y=\"-364.8\" font-family=\"Helvetica,sans-Serif\" font-size=\"14.00\">value = [6, 62]</text>\n<text text-anchor=\"start\" x=\"204\" y=\"-349.8\" font-family=\"Helvetica,sans-Serif\" font-size=\"14.00\">class = Class 1</text>\n</g>\n<!-- 0&#45;&gt;1 -->\n<g id=\"edge1\" class=\"edge\">\n<title>0&#45;&gt;1</title>\n<path fill=\"none\" stroke=\"black\" d=\"M297.02,-460.91C291.6,-452.1 285.82,-442.7 280.22,-433.61\"/>\n<polygon fill=\"black\" stroke=\"black\" points=\"283.16,-431.7 274.94,-425.02 277.2,-435.37 283.16,-431.7\"/>\n<text text-anchor=\"middle\" x=\"269.15\" y=\"-445.64\" font-family=\"Helvetica,sans-Serif\" font-size=\"14.00\">True</text>\n</g>\n<!-- 8 -->\n<g id=\"node9\" class=\"node\">\n<title>8</title>\n<path fill=\"#e68540\" stroke=\"black\" d=\"M446.5,-425C446.5,-425 343.5,-425 343.5,-425 337.5,-425 331.5,-419 331.5,-413 331.5,-413 331.5,-354 331.5,-354 331.5,-348 337.5,-342 343.5,-342 343.5,-342 446.5,-342 446.5,-342 452.5,-342 458.5,-348 458.5,-354 458.5,-354 458.5,-413 458.5,-413 458.5,-419 452.5,-425 446.5,-425\"/>\n<text text-anchor=\"start\" x=\"339.5\" y=\"-409.8\" font-family=\"Helvetica,sans-Serif\" font-size=\"14.00\">Feature_3 ≤ 0.656</text>\n<text text-anchor=\"start\" x=\"359.5\" y=\"-394.8\" font-family=\"Helvetica,sans-Serif\" font-size=\"14.00\">gini = 0.064</text>\n<text text-anchor=\"start\" x=\"354\" y=\"-379.8\" font-family=\"Helvetica,sans-Serif\" font-size=\"14.00\">samples = 60</text>\n<text text-anchor=\"start\" x=\"352\" y=\"-364.8\" font-family=\"Helvetica,sans-Serif\" font-size=\"14.00\">value = [58, 2]</text>\n<text text-anchor=\"start\" x=\"349\" y=\"-349.8\" font-family=\"Helvetica,sans-Serif\" font-size=\"14.00\">class = Class 0</text>\n</g>\n<!-- 0&#45;&gt;8 -->\n<g id=\"edge8\" class=\"edge\">\n<title>0&#45;&gt;8</title>\n<path fill=\"none\" stroke=\"black\" d=\"M347.33,-460.91C352.82,-452.1 358.69,-442.7 364.36,-433.61\"/>\n<polygon fill=\"black\" stroke=\"black\" points=\"367.39,-435.36 369.72,-425.02 361.45,-431.65 367.39,-435.36\"/>\n<text text-anchor=\"middle\" x=\"375.36\" y=\"-445.68\" font-family=\"Helvetica,sans-Serif\" font-size=\"14.00\">False</text>\n</g>\n<!-- 2 -->\n<g id=\"node3\" class=\"node\">\n<title>2</title>\n<path fill=\"#8ec7f0\" stroke=\"black\" d=\"M156,-298.5C156,-298.5 72,-298.5 72,-298.5 66,-298.5 60,-292.5 60,-286.5 60,-286.5 60,-242.5 60,-242.5 60,-236.5 66,-230.5 72,-230.5 72,-230.5 156,-230.5 156,-230.5 162,-230.5 168,-236.5 168,-242.5 168,-242.5 168,-286.5 168,-286.5 168,-292.5 162,-298.5 156,-298.5\"/>\n<text text-anchor=\"start\" x=\"82\" y=\"-283.3\" font-family=\"Helvetica,sans-Serif\" font-size=\"14.00\">gini = 0.42</text>\n<text text-anchor=\"start\" x=\"73\" y=\"-268.3\" font-family=\"Helvetica,sans-Serif\" font-size=\"14.00\">samples = 10</text>\n<text text-anchor=\"start\" x=\"74.5\" y=\"-253.3\" font-family=\"Helvetica,sans-Serif\" font-size=\"14.00\">value = [3, 7]</text>\n<text text-anchor=\"start\" x=\"68\" y=\"-238.3\" font-family=\"Helvetica,sans-Serif\" font-size=\"14.00\">class = Class 1</text>\n</g>\n<!-- 1&#45;&gt;2 -->\n<g id=\"edge2\" class=\"edge\">\n<title>1&#45;&gt;2</title>\n<path fill=\"none\" stroke=\"black\" d=\"M202.82,-341.91C189.09,-330.1 174.11,-317.22 160.44,-305.45\"/>\n<polygon fill=\"black\" stroke=\"black\" points=\"162.42,-302.54 152.55,-298.67 157.85,-307.84 162.42,-302.54\"/>\n</g>\n<!-- 3 -->\n<g id=\"node4\" class=\"node\">\n<title>3</title>\n<path fill=\"#44a2e6\" stroke=\"black\" d=\"M301.5,-306C301.5,-306 198.5,-306 198.5,-306 192.5,-306 186.5,-300 186.5,-294 186.5,-294 186.5,-235 186.5,-235 186.5,-229 192.5,-223 198.5,-223 198.5,-223 301.5,-223 301.5,-223 307.5,-223 313.5,-229 313.5,-235 313.5,-235 313.5,-294 313.5,-294 313.5,-300 307.5,-306 301.5,-306\"/>\n<text text-anchor=\"start\" x=\"194.5\" y=\"-290.8\" font-family=\"Helvetica,sans-Serif\" font-size=\"14.00\">Feature_1 ≤ 0.834</text>\n<text text-anchor=\"start\" x=\"214.5\" y=\"-275.8\" font-family=\"Helvetica,sans-Serif\" font-size=\"14.00\">gini = 0.098</text>\n<text text-anchor=\"start\" x=\"209\" y=\"-260.8\" font-family=\"Helvetica,sans-Serif\" font-size=\"14.00\">samples = 58</text>\n<text text-anchor=\"start\" x=\"207\" y=\"-245.8\" font-family=\"Helvetica,sans-Serif\" font-size=\"14.00\">value = [3, 55]</text>\n<text text-anchor=\"start\" x=\"204\" y=\"-230.8\" font-family=\"Helvetica,sans-Serif\" font-size=\"14.00\">class = Class 1</text>\n</g>\n<!-- 1&#45;&gt;3 -->\n<g id=\"edge3\" class=\"edge\">\n<title>1&#45;&gt;3</title>\n<path fill=\"none\" stroke=\"black\" d=\"M250,-341.91C250,-333.65 250,-324.86 250,-316.3\"/>\n<polygon fill=\"black\" stroke=\"black\" points=\"253.5,-316.02 250,-306.02 246.5,-316.02 253.5,-316.02\"/>\n</g>\n<!-- 4 -->\n<g id=\"node5\" class=\"node\">\n<title>4</title>\n<path fill=\"#3d9fe6\" stroke=\"black\" d=\"M170.5,-187C170.5,-187 63.5,-187 63.5,-187 57.5,-187 51.5,-181 51.5,-175 51.5,-175 51.5,-116 51.5,-116 51.5,-110 57.5,-104 63.5,-104 63.5,-104 170.5,-104 170.5,-104 176.5,-104 182.5,-110 182.5,-116 182.5,-116 182.5,-175 182.5,-175 182.5,-181 176.5,-187 170.5,-187\"/>\n<text text-anchor=\"start\" x=\"59.5\" y=\"-171.8\" font-family=\"Helvetica,sans-Serif\" font-size=\"14.00\">Feature_3 ≤ &#45;0.904</text>\n<text text-anchor=\"start\" x=\"81.5\" y=\"-156.8\" font-family=\"Helvetica,sans-Serif\" font-size=\"14.00\">gini = 0.043</text>\n<text text-anchor=\"start\" x=\"76\" y=\"-141.8\" font-family=\"Helvetica,sans-Serif\" font-size=\"14.00\">samples = 46</text>\n<text text-anchor=\"start\" x=\"74\" y=\"-126.8\" font-family=\"Helvetica,sans-Serif\" font-size=\"14.00\">value = [1, 45]</text>\n<text text-anchor=\"start\" x=\"71\" y=\"-111.8\" font-family=\"Helvetica,sans-Serif\" font-size=\"14.00\">class = Class 1</text>\n</g>\n<!-- 3&#45;&gt;4 -->\n<g id=\"edge4\" class=\"edge\">\n<title>3&#45;&gt;4</title>\n<path fill=\"none\" stroke=\"black\" d=\"M203.86,-222.91C193.13,-213.47 181.62,-203.34 170.6,-193.65\"/>\n<polygon fill=\"black\" stroke=\"black\" points=\"172.88,-191 163.06,-187.02 168.26,-196.25 172.88,-191\"/>\n</g>\n<!-- 7 -->\n<g id=\"node8\" class=\"node\">\n<title>7</title>\n<path fill=\"#61b1ea\" stroke=\"black\" d=\"M297,-179.5C297,-179.5 213,-179.5 213,-179.5 207,-179.5 201,-173.5 201,-167.5 201,-167.5 201,-123.5 201,-123.5 201,-117.5 207,-111.5 213,-111.5 213,-111.5 297,-111.5 297,-111.5 303,-111.5 309,-117.5 309,-123.5 309,-123.5 309,-167.5 309,-167.5 309,-173.5 303,-179.5 297,-179.5\"/>\n<text text-anchor=\"start\" x=\"219.5\" y=\"-164.3\" font-family=\"Helvetica,sans-Serif\" font-size=\"14.00\">gini = 0.278</text>\n<text text-anchor=\"start\" x=\"214\" y=\"-149.3\" font-family=\"Helvetica,sans-Serif\" font-size=\"14.00\">samples = 12</text>\n<text text-anchor=\"start\" x=\"212\" y=\"-134.3\" font-family=\"Helvetica,sans-Serif\" font-size=\"14.00\">value = [2, 10]</text>\n<text text-anchor=\"start\" x=\"209\" y=\"-119.3\" font-family=\"Helvetica,sans-Serif\" font-size=\"14.00\">class = Class 1</text>\n</g>\n<!-- 3&#45;&gt;7 -->\n<g id=\"edge7\" class=\"edge\">\n<title>3&#45;&gt;7</title>\n<path fill=\"none\" stroke=\"black\" d=\"M251.73,-222.91C252.19,-212.2 252.69,-200.62 253.15,-189.78\"/>\n<polygon fill=\"black\" stroke=\"black\" points=\"256.65,-189.81 253.58,-179.67 249.66,-189.51 256.65,-189.81\"/>\n</g>\n<!-- 5 -->\n<g id=\"node6\" class=\"node\">\n<title>5</title>\n<path fill=\"#4da7e8\" stroke=\"black\" d=\"M96,-68C96,-68 12,-68 12,-68 6,-68 0,-62 0,-56 0,-56 0,-12 0,-12 0,-6 6,0 12,0 12,0 96,0 96,0 102,0 108,-6 108,-12 108,-12 108,-56 108,-56 108,-62 102,-68 96,-68\"/>\n<text text-anchor=\"start\" x=\"18.5\" y=\"-52.8\" font-family=\"Helvetica,sans-Serif\" font-size=\"14.00\">gini = 0.165</text>\n<text text-anchor=\"start\" x=\"13\" y=\"-37.8\" font-family=\"Helvetica,sans-Serif\" font-size=\"14.00\">samples = 11</text>\n<text text-anchor=\"start\" x=\"11\" y=\"-22.8\" font-family=\"Helvetica,sans-Serif\" font-size=\"14.00\">value = [1, 10]</text>\n<text text-anchor=\"start\" x=\"8\" y=\"-7.8\" font-family=\"Helvetica,sans-Serif\" font-size=\"14.00\">class = Class 1</text>\n</g>\n<!-- 4&#45;&gt;5 -->\n<g id=\"edge5\" class=\"edge\">\n<title>4&#45;&gt;5</title>\n<path fill=\"none\" stroke=\"black\" d=\"M93.54,-103.73C88.56,-95.06 83.28,-85.9 78.27,-77.18\"/>\n<polygon fill=\"black\" stroke=\"black\" points=\"81.18,-75.22 73.16,-68.3 75.11,-78.71 81.18,-75.22\"/>\n</g>\n<!-- 6 -->\n<g id=\"node7\" class=\"node\">\n<title>6</title>\n<path fill=\"#399de5\" stroke=\"black\" d=\"M222,-68C222,-68 138,-68 138,-68 132,-68 126,-62 126,-56 126,-56 126,-12 126,-12 126,-6 132,0 138,0 138,0 222,0 222,0 228,0 234,-6 234,-12 234,-12 234,-56 234,-56 234,-62 228,-68 222,-68\"/>\n<text text-anchor=\"start\" x=\"152\" y=\"-52.8\" font-family=\"Helvetica,sans-Serif\" font-size=\"14.00\">gini = 0.0</text>\n<text text-anchor=\"start\" x=\"139\" y=\"-37.8\" font-family=\"Helvetica,sans-Serif\" font-size=\"14.00\">samples = 35</text>\n<text text-anchor=\"start\" x=\"137\" y=\"-22.8\" font-family=\"Helvetica,sans-Serif\" font-size=\"14.00\">value = [0, 35]</text>\n<text text-anchor=\"start\" x=\"134\" y=\"-7.8\" font-family=\"Helvetica,sans-Serif\" font-size=\"14.00\">class = Class 1</text>\n</g>\n<!-- 4&#45;&gt;6 -->\n<g id=\"edge6\" class=\"edge\">\n<title>4&#45;&gt;6</title>\n<path fill=\"none\" stroke=\"black\" d=\"M140.46,-103.73C145.44,-95.06 150.72,-85.9 155.73,-77.18\"/>\n<polygon fill=\"black\" stroke=\"black\" points=\"158.89,-78.71 160.84,-68.3 152.82,-75.22 158.89,-78.71\"/>\n</g>\n<!-- 9 -->\n<g id=\"node10\" class=\"node\">\n<title>9</title>\n<path fill=\"#e78c4b\" stroke=\"black\" d=\"M446.5,-306C446.5,-306 343.5,-306 343.5,-306 337.5,-306 331.5,-300 331.5,-294 331.5,-294 331.5,-235 331.5,-235 331.5,-229 337.5,-223 343.5,-223 343.5,-223 446.5,-223 446.5,-223 452.5,-223 458.5,-229 458.5,-235 458.5,-235 458.5,-294 458.5,-294 458.5,-300 452.5,-306 446.5,-306\"/>\n<text text-anchor=\"start\" x=\"339.5\" y=\"-290.8\" font-family=\"Helvetica,sans-Serif\" font-size=\"14.00\">Feature_1 ≤ 0.788</text>\n<text text-anchor=\"start\" x=\"359.5\" y=\"-275.8\" font-family=\"Helvetica,sans-Serif\" font-size=\"14.00\">gini = 0.153</text>\n<text text-anchor=\"start\" x=\"354\" y=\"-260.8\" font-family=\"Helvetica,sans-Serif\" font-size=\"14.00\">samples = 24</text>\n<text text-anchor=\"start\" x=\"352\" y=\"-245.8\" font-family=\"Helvetica,sans-Serif\" font-size=\"14.00\">value = [22, 2]</text>\n<text text-anchor=\"start\" x=\"349\" y=\"-230.8\" font-family=\"Helvetica,sans-Serif\" font-size=\"14.00\">class = Class 0</text>\n</g>\n<!-- 8&#45;&gt;9 -->\n<g id=\"edge9\" class=\"edge\">\n<title>8&#45;&gt;9</title>\n<path fill=\"none\" stroke=\"black\" d=\"M395,-341.91C395,-333.65 395,-324.86 395,-316.3\"/>\n<polygon fill=\"black\" stroke=\"black\" points=\"398.5,-316.02 395,-306.02 391.5,-316.02 398.5,-316.02\"/>\n</g>\n<!-- 12 -->\n<g id=\"node13\" class=\"node\">\n<title>12</title>\n<path fill=\"#e58139\" stroke=\"black\" d=\"M573,-298.5C573,-298.5 489,-298.5 489,-298.5 483,-298.5 477,-292.5 477,-286.5 477,-286.5 477,-242.5 477,-242.5 477,-236.5 483,-230.5 489,-230.5 489,-230.5 573,-230.5 573,-230.5 579,-230.5 585,-236.5 585,-242.5 585,-242.5 585,-286.5 585,-286.5 585,-292.5 579,-298.5 573,-298.5\"/>\n<text text-anchor=\"start\" x=\"503\" y=\"-283.3\" font-family=\"Helvetica,sans-Serif\" font-size=\"14.00\">gini = 0.0</text>\n<text text-anchor=\"start\" x=\"490\" y=\"-268.3\" font-family=\"Helvetica,sans-Serif\" font-size=\"14.00\">samples = 36</text>\n<text text-anchor=\"start\" x=\"488\" y=\"-253.3\" font-family=\"Helvetica,sans-Serif\" font-size=\"14.00\">value = [36, 0]</text>\n<text text-anchor=\"start\" x=\"485\" y=\"-238.3\" font-family=\"Helvetica,sans-Serif\" font-size=\"14.00\">class = Class 0</text>\n</g>\n<!-- 8&#45;&gt;12 -->\n<g id=\"edge12\" class=\"edge\">\n<title>8&#45;&gt;12</title>\n<path fill=\"none\" stroke=\"black\" d=\"M442.18,-341.91C455.91,-330.1 470.89,-317.22 484.56,-305.45\"/>\n<polygon fill=\"black\" stroke=\"black\" points=\"487.15,-307.84 492.45,-298.67 482.58,-302.54 487.15,-307.84\"/>\n</g>\n<!-- 10 -->\n<g id=\"node11\" class=\"node\">\n<title>10</title>\n<path fill=\"#e58139\" stroke=\"black\" d=\"M432,-179.5C432,-179.5 348,-179.5 348,-179.5 342,-179.5 336,-173.5 336,-167.5 336,-167.5 336,-123.5 336,-123.5 336,-117.5 342,-111.5 348,-111.5 348,-111.5 432,-111.5 432,-111.5 438,-111.5 444,-117.5 444,-123.5 444,-123.5 444,-167.5 444,-167.5 444,-173.5 438,-179.5 432,-179.5\"/>\n<text text-anchor=\"start\" x=\"362\" y=\"-164.3\" font-family=\"Helvetica,sans-Serif\" font-size=\"14.00\">gini = 0.0</text>\n<text text-anchor=\"start\" x=\"349\" y=\"-149.3\" font-family=\"Helvetica,sans-Serif\" font-size=\"14.00\">samples = 10</text>\n<text text-anchor=\"start\" x=\"347\" y=\"-134.3\" font-family=\"Helvetica,sans-Serif\" font-size=\"14.00\">value = [10, 0]</text>\n<text text-anchor=\"start\" x=\"344\" y=\"-119.3\" font-family=\"Helvetica,sans-Serif\" font-size=\"14.00\">class = Class 0</text>\n</g>\n<!-- 9&#45;&gt;10 -->\n<g id=\"edge10\" class=\"edge\">\n<title>9&#45;&gt;10</title>\n<path fill=\"none\" stroke=\"black\" d=\"M393.27,-222.91C392.81,-212.2 392.31,-200.62 391.85,-189.78\"/>\n<polygon fill=\"black\" stroke=\"black\" points=\"395.34,-189.51 391.42,-179.67 388.35,-189.81 395.34,-189.51\"/>\n</g>\n<!-- 11 -->\n<g id=\"node12\" class=\"node\">\n<title>11</title>\n<path fill=\"#e9965a\" stroke=\"black\" d=\"M558,-179.5C558,-179.5 474,-179.5 474,-179.5 468,-179.5 462,-173.5 462,-167.5 462,-167.5 462,-123.5 462,-123.5 462,-117.5 468,-111.5 474,-111.5 474,-111.5 558,-111.5 558,-111.5 564,-111.5 570,-117.5 570,-123.5 570,-123.5 570,-167.5 570,-167.5 570,-173.5 564,-179.5 558,-179.5\"/>\n<text text-anchor=\"start\" x=\"480.5\" y=\"-164.3\" font-family=\"Helvetica,sans-Serif\" font-size=\"14.00\">gini = 0.245</text>\n<text text-anchor=\"start\" x=\"475\" y=\"-149.3\" font-family=\"Helvetica,sans-Serif\" font-size=\"14.00\">samples = 14</text>\n<text text-anchor=\"start\" x=\"473\" y=\"-134.3\" font-family=\"Helvetica,sans-Serif\" font-size=\"14.00\">value = [12, 2]</text>\n<text text-anchor=\"start\" x=\"470\" y=\"-119.3\" font-family=\"Helvetica,sans-Serif\" font-size=\"14.00\">class = Class 0</text>\n</g>\n<!-- 9&#45;&gt;11 -->\n<g id=\"edge11\" class=\"edge\">\n<title>9&#45;&gt;11</title>\n<path fill=\"none\" stroke=\"black\" d=\"M436.98,-222.91C449.08,-211.21 462.27,-198.46 474.34,-186.78\"/>\n<polygon fill=\"black\" stroke=\"black\" points=\"476.94,-189.13 481.7,-179.67 472.08,-184.1 476.94,-189.13\"/>\n</g>\n</g>\n</svg>\n",
            "text/plain": [
              "<graphviz.sources.Source at 0x7ed72b4c5b10>"
            ]
          },
          "metadata": {},
          "execution_count": 59
        }
      ]
    },
    {
      "cell_type": "markdown",
      "source": [
        "## Поиск на сетке"
      ],
      "metadata": {
        "id": "sD6XrYSQ5hKD"
      }
    },
    {
      "cell_type": "markdown",
      "metadata": {
        "id": "FHzsGidLqM6G"
      },
      "source": [
        "Определить оптимальные значения гиперпараметров модели дерева решений с использованием поиска на сетке.\n",
        "\n",
        "Использовать `random_state` - номер варианта."
      ]
    },
    {
      "cell_type": "code",
      "execution_count": 64,
      "metadata": {
        "id": "PeFWl7jHWy1y"
      },
      "outputs": [],
      "source": [
        "# Определение сетки гиперпараметров\n",
        "param_grid = {\n",
        "    'max_depth': [3, 5, 7, 10],  # Возможные значения для max_depth\n",
        "    'min_samples_leaf': [1, 5, 10, 20],  # Возможные значения для min_samples_leaf\n",
        "    'max_features': [1, 2, 3]  # Возможные значения для max_features\n",
        "}"
      ]
    },
    {
      "cell_type": "markdown",
      "metadata": {
        "id": "uWNtc7OmyC5u"
      },
      "source": [
        "Вывести оптимальные значения гиперпараметров."
      ]
    },
    {
      "cell_type": "code",
      "execution_count": 65,
      "metadata": {
        "id": "iHxG70kEyB8B",
        "colab": {
          "base_uri": "https://localhost:8080/"
        },
        "outputId": "7b96454e-6391-46d7-abc5-10f7fb93ee46"
      },
      "outputs": [
        {
          "output_type": "stream",
          "name": "stdout",
          "text": [
            "Оптимальные гиперпараметры:\n",
            "{'max_depth': 3, 'max_features': 3, 'min_samples_leaf': 1}\n"
          ]
        }
      ],
      "source": [
        "# Вывод оптимальных гиперпараметров\n",
        "print(\"Оптимальные гиперпараметры:\")\n",
        "print(grid_search.best_params_)"
      ]
    },
    {
      "cell_type": "markdown",
      "source": [
        "Обучить модель дерева решений с найденными оптимальными значениями гиперпараметров."
      ],
      "metadata": {
        "id": "2yRVz5dMYoWP"
      }
    },
    {
      "cell_type": "code",
      "source": [
        "# Обучение модели с оптимальными гиперпараметрами\n",
        "best_tree = grid_search.best_estimator_\n"
      ],
      "metadata": {
        "id": "6YSqmDKIX_Ln"
      },
      "execution_count": 68,
      "outputs": []
    },
    {
      "cell_type": "markdown",
      "source": [
        "Вычислить метрику качества модели дерева решений на обучающей и тестовой выборках:\n",
        "- для задачи классификации - accuracy;"
      ],
      "metadata": {
        "id": "PRgR7XUCMrCc"
      }
    },
    {
      "cell_type": "code",
      "source": [
        "# Предсказания на обучающей и тестовой выборках\n",
        "y_train_pred = best_tree.predict(X_train)\n",
        "y_test_pred = best_tree.predict(X_test)\n",
        "\n",
        "# Вычисление точности для обучающей выборки\n",
        "accuracy_train = accuracy_score(y_train, y_train_pred)\n",
        "print(f\"Точность на обучающей выборке: {accuracy_train:.4f}\")\n",
        "\n",
        "# Вычисление точности для тестовой выборки\n",
        "accuracy_test = accuracy_score(y_test, y_test_pred)\n",
        "print(f\"Точность на тестовой выборке: {accuracy_test:.4f}\")"
      ],
      "metadata": {
        "id": "4TvRGm5WXwrE",
        "colab": {
          "base_uri": "https://localhost:8080/"
        },
        "outputId": "31488237-363a-45c3-8209-e1938861ed90"
      },
      "execution_count": 69,
      "outputs": [
        {
          "output_type": "stream",
          "name": "stdout",
          "text": [
            "Точность на обучающей выборке: 0.9766\n",
            "Точность на тестовой выборке: 0.8571\n"
          ]
        }
      ]
    },
    {
      "cell_type": "markdown",
      "source": [
        "## Отсечение дерева решений"
      ],
      "metadata": {
        "id": "4qQ01okn6i9F"
      }
    },
    {
      "cell_type": "markdown",
      "source": [
        "Вычислить значения параметра регуляризации $\\alpha$ и соответствующие им совокупные ошибки листьев в поддеревьях."
      ],
      "metadata": {
        "id": "qaCxP_D7wmDU"
      }
    },
    {
      "cell_type": "code",
      "execution_count": 71,
      "metadata": {
        "id": "CIUdM6T8J95V",
        "colab": {
          "base_uri": "https://localhost:8080/",
          "height": 686
        },
        "outputId": "3287f0fb-9ac9-46d0-aa79-66883b4a382b"
      },
      "outputs": [
        {
          "output_type": "stream",
          "name": "stdout",
          "text": [
            "Значения alpha:\n",
            "[0.         0.00732422 0.00755208 0.0078125  0.0144381  0.0407664\n",
            " 0.38431373]\n",
            "\n",
            "Совокупные ошибки листьев:\n",
            "[0.         0.01464844 0.04485677 0.06048177 0.07491987 0.11568627\n",
            " 0.5       ]\n"
          ]
        },
        {
          "output_type": "display_data",
          "data": {
            "text/plain": [
              "<Figure size 1000x600 with 1 Axes>"
            ],
            "image/png": "[encoded data removed]"
          },
          "metadata": {}
        }
      ],
      "source": [
        "tree = DecisionTreeClassifier(random_state=1)\n",
        "path = tree.cost_complexity_pruning_path(X_train, y_train)\n",
        "# Получение значений alpha и соответствующих им совокупных ошибок листьев\n",
        "ccp_alphas, impurities = path.ccp_alphas, path.impurities\n",
        "\n",
        "# Вывод значений alpha и совокупных ошибок листьев\n",
        "print(\"Значения alpha:\")\n",
        "print(ccp_alphas)\n",
        "print(\"\\nСовокупные ошибки листьев:\")\n",
        "print(impurities)\n",
        "\n",
        "# Построение графика зависимости совокупной ошибки от alpha\n",
        "plt.figure(figsize=(10, 6))\n",
        "plt.plot(ccp_alphas, impurities, marker='o', drawstyle=\"steps-post\")\n",
        "plt.title(\"Зависимость совокупной ошибки листьев от alpha\")\n",
        "plt.xlabel(\"alpha\")\n",
        "plt.ylabel(\"Совокупная ошибка листьев\")\n",
        "plt.grid()\n",
        "plt.show()"
      ]
    },
    {
      "cell_type": "markdown",
      "metadata": {
        "id": "E_ufPpjAJ95X"
      },
      "source": [
        "Обучить модель дерева решений с найденными значениями параметра $\\alpha$."
      ]
    },
    {
      "cell_type": "code",
      "execution_count": 72,
      "metadata": {
        "id": "7Vgfj5o2J95Y",
        "colab": {
          "base_uri": "https://localhost:8080/",
          "height": 81
        },
        "outputId": "9a684a52-1e67-4bee-abaf-80df8bf5af57"
      },
      "outputs": [
        {
          "output_type": "execute_result",
          "data": {
            "text/plain": [
              "DecisionTreeClassifier(ccp_alpha=0.02, random_state=1)"
            ],
            "text/html": [
              "<style>#sk-container-id-1 {\n",
              "  /* Definition of color scheme common for light and dark mode */\n",
              "  --sklearn-color-text: black;\n",
              "  --sklearn-color-line: gray;\n",
              "  /* Definition of color scheme for unfitted estimators */\n",
              "  --sklearn-color-unfitted-level-0: #fff5e6;\n",
              "  --sklearn-color-unfitted-level-1: #f6e4d2;\n",
              "  --sklearn-color-unfitted-level-2: #ffe0b3;\n",
              "  --sklearn-color-unfitted-level-3: chocolate;\n",
              "  /* Definition of color scheme for fitted estimators */\n",
              "  --sklearn-color-fitted-level-0: #f0f8ff;\n",
              "  --sklearn-color-fitted-level-1: #d4ebff;\n",
              "  --sklearn-color-fitted-level-2: #b3dbfd;\n",
              "  --sklearn-color-fitted-level-3: cornflowerblue;\n",
              "\n",
              "  /* Specific color for light theme */\n",
              "  --sklearn-color-text-on-default-background: var(--sg-text-color, var(--theme-code-foreground, var(--jp-content-font-color1, black)));\n",
              "  --sklearn-color-background: var(--sg-background-color, var(--theme-background, var(--jp-layout-color0, white)));\n",
              "  --sklearn-color-border-box: var(--sg-text-color, var(--theme-code-foreground, var(--jp-content-font-color1, black)));\n",
              "  --sklearn-color-icon: #696969;\n",
              "\n",
              "  @media (prefers-color-scheme: dark) {\n",
              "    /* Redefinition of color scheme for dark theme */\n",
              "    --sklearn-color-text-on-default-background: var(--sg-text-color, var(--theme-code-foreground, var(--jp-content-font-color1, white)));\n",
              "    --sklearn-color-background: var(--sg-background-color, var(--theme-background, var(--jp-layout-color0, #111)));\n",
              "    --sklearn-color-border-box: var(--sg-text-color, var(--theme-code-foreground, var(--jp-content-font-color1, white)));\n",
              "    --sklearn-color-icon: #878787;\n",
              "  }\n",
              "}\n",
              "\n",
              "#sk-container-id-1 {\n",
              "  color: var(--sklearn-color-text);\n",
              "}\n",
              "\n",
              "#sk-container-id-1 pre {\n",
              "  padding: 0;\n",
              "}\n",
              "\n",
              "#sk-container-id-1 input.sk-hidden--visually {\n",
              "  border: 0;\n",
              "  clip: rect(1px 1px 1px 1px);\n",
              "  clip: rect(1px, 1px, 1px, 1px);\n",
              "  height: 1px;\n",
              "  margin: -1px;\n",
              "  overflow: hidden;\n",
              "  padding: 0;\n",
              "  position: absolute;\n",
              "  width: 1px;\n",
              "}\n",
              "\n",
              "#sk-container-id-1 div.sk-dashed-wrapped {\n",
              "  border: 1px dashed var(--sklearn-color-line);\n",
              "  margin: 0 0.4em 0.5em 0.4em;\n",
              "  box-sizing: border-box;\n",
              "  padding-bottom: 0.4em;\n",
              "  background-color: var(--sklearn-color-background);\n",
              "}\n",
              "\n",
              "#sk-container-id-1 div.sk-container {\n",
              "  /* jupyter's `normalize.less` sets `[hidden] { display: none; }`\n",
              "     but bootstrap.min.css set `[hidden] { display: none !important; }`\n",
              "     so we also need the `!important` here to be able to override the\n",
              "     default hidden behavior on the sphinx rendered scikit-learn.org.\n",
              "     See: https://github.com/scikit-learn/scikit-learn/issues/21755 */\n",
              "  display: inline-block !important;\n",
              "  position: relative;\n",
              "}\n",
              "\n",
              "#sk-container-id-1 div.sk-text-repr-fallback {\n",
              "  display: none;\n",
              "}\n",
              "\n",
              "div.sk-parallel-item,\n",
              "div.sk-serial,\n",
              "div.sk-item {\n",
              "  /* draw centered vertical line to link estimators */\n",
              "  background-image: linear-gradient(var(--sklearn-color-text-on-default-background), var(--sklearn-color-text-on-default-background));\n",
              "  background-size: 2px 100%;\n",
              "  background-repeat: no-repeat;\n",
              "  background-position: center center;\n",
              "}\n",
              "\n",
              "/* Parallel-specific style estimator block */\n",
              "\n",
              "#sk-container-id-1 div.sk-parallel-item::after {\n",
              "  content: \"\";\n",
              "  width: 100%;\n",
              "  border-bottom: 2px solid var(--sklearn-color-text-on-default-background);\n",
              "  flex-grow: 1;\n",
              "}\n",
              "\n",
              "#sk-container-id-1 div.sk-parallel {\n",
              "  display: flex;\n",
              "  align-items: stretch;\n",
              "  justify-content: center;\n",
              "  background-color: var(--sklearn-color-background);\n",
              "  position: relative;\n",
              "}\n",
              "\n",
              "#sk-container-id-1 div.sk-parallel-item {\n",
              "  display: flex;\n",
              "  flex-direction: column;\n",
              "}\n",
              "\n",
              "#sk-container-id-1 div.sk-parallel-item:first-child::after {\n",
              "  align-self: flex-end;\n",
              "  width: 50%;\n",
              "}\n",
              "\n",
              "#sk-container-id-1 div.sk-parallel-item:last-child::after {\n",
              "  align-self: flex-start;\n",
              "  width: 50%;\n",
              "}\n",
              "\n",
              "#sk-container-id-1 div.sk-parallel-item:only-child::after {\n",
              "  width: 0;\n",
              "}\n",
              "\n",
              "/* Serial-specific style estimator block */\n",
              "\n",
              "#sk-container-id-1 div.sk-serial {\n",
              "  display: flex;\n",
              "  flex-direction: column;\n",
              "  align-items: center;\n",
              "  background-color: var(--sklearn-color-background);\n",
              "  padding-right: 1em;\n",
              "  padding-left: 1em;\n",
              "}\n",
              "\n",
              "\n",
              "/* Toggleable style: style used for estimator/Pipeline/ColumnTransformer box that is\n",
              "clickable and can be expanded/collapsed.\n",
              "- Pipeline and ColumnTransformer use this feature and define the default style\n",
              "- Estimators will overwrite some part of the style using the `sk-estimator` class\n",
              "*/\n",
              "\n",
              "/* Pipeline and ColumnTransformer style (default) */\n",
              "\n",
              "#sk-container-id-1 div.sk-toggleable {\n",
              "  /* Default theme specific background. It is overwritten whether we have a\n",
              "  specific estimator or a Pipeline/ColumnTransformer */\n",
              "  background-color: var(--sklearn-color-background);\n",
              "}\n",
              "\n",
              "/* Toggleable label */\n",
              "#sk-container-id-1 label.sk-toggleable__label {\n",
              "  cursor: pointer;\n",
              "  display: block;\n",
              "  width: 100%;\n",
              "  margin-bottom: 0;\n",
              "  padding: 0.5em;\n",
              "  box-sizing: border-box;\n",
              "  text-align: center;\n",
              "}\n",
              "\n",
              "#sk-container-id-1 label.sk-toggleable__label-arrow:before {\n",
              "  /* Arrow on the left of the label */\n",
              "  content: \"▸\";\n",
              "  float: left;\n",
              "  margin-right: 0.25em;\n",
              "  color: var(--sklearn-color-icon);\n",
              "}\n",
              "\n",
              "#sk-container-id-1 label.sk-toggleable__label-arrow:hover:before {\n",
              "  color: var(--sklearn-color-text);\n",
              "}\n",
              "\n",
              "/* Toggleable content - dropdown */\n",
              "\n",
              "#sk-container-id-1 div.sk-toggleable__content {\n",
              "  max-height: 0;\n",
              "  max-width: 0;\n",
              "  overflow: hidden;\n",
              "  text-align: left;\n",
              "  /* unfitted */\n",
              "  background-color: var(--sklearn-color-unfitted-level-0);\n",
              "}\n",
              "\n",
              "#sk-container-id-1 div.sk-toggleable__content.fitted {\n",
              "  /* fitted */\n",
              "  background-color: var(--sklearn-color-fitted-level-0);\n",
              "}\n",
              "\n",
              "#sk-container-id-1 div.sk-toggleable__content pre {\n",
              "  margin: 0.2em;\n",
              "  border-radius: 0.25em;\n",
              "  color: var(--sklearn-color-text);\n",
              "  /* unfitted */\n",
              "  background-color: var(--sklearn-color-unfitted-level-0);\n",
              "}\n",
              "\n",
              "#sk-container-id-1 div.sk-toggleable__content.fitted pre {\n",
              "  /* unfitted */\n",
              "  background-color: var(--sklearn-color-fitted-level-0);\n",
              "}\n",
              "\n",
              "#sk-container-id-1 input.sk-toggleable__control:checked~div.sk-toggleable__content {\n",
              "  /* Expand drop-down */\n",
              "  max-height: 200px;\n",
              "  max-width: 100%;\n",
              "  overflow: auto;\n",
              "}\n",
              "\n",
              "#sk-container-id-1 input.sk-toggleable__control:checked~label.sk-toggleable__label-arrow:before {\n",
              "  content: \"▾\";\n",
              "}\n",
              "\n",
              "/* Pipeline/ColumnTransformer-specific style */\n",
              "\n",
              "#sk-container-id-1 div.sk-label input.sk-toggleable__control:checked~label.sk-toggleable__label {\n",
              "  color: var(--sklearn-color-text);\n",
              "  background-color: var(--sklearn-color-unfitted-level-2);\n",
              "}\n",
              "\n",
              "#sk-container-id-1 div.sk-label.fitted input.sk-toggleable__control:checked~label.sk-toggleable__label {\n",
              "  background-color: var(--sklearn-color-fitted-level-2);\n",
              "}\n",
              "\n",
              "/* Estimator-specific style */\n",
              "\n",
              "/* Colorize estimator box */\n",
              "#sk-container-id-1 div.sk-estimator input.sk-toggleable__control:checked~label.sk-toggleable__label {\n",
              "  /* unfitted */\n",
              "  background-color: var(--sklearn-color-unfitted-level-2);\n",
              "}\n",
              "\n",
              "#sk-container-id-1 div.sk-estimator.fitted input.sk-toggleable__control:checked~label.sk-toggleable__label {\n",
              "  /* fitted */\n",
              "  background-color: var(--sklearn-color-fitted-level-2);\n",
              "}\n",
              "\n",
              "#sk-container-id-1 div.sk-label label.sk-toggleable__label,\n",
              "#sk-container-id-1 div.sk-label label {\n",
              "  /* The background is the default theme color */\n",
              "  color: var(--sklearn-color-text-on-default-background);\n",
              "}\n",
              "\n",
              "/* On hover, darken the color of the background */\n",
              "#sk-container-id-1 div.sk-label:hover label.sk-toggleable__label {\n",
              "  color: var(--sklearn-color-text);\n",
              "  background-color: var(--sklearn-color-unfitted-level-2);\n",
              "}\n",
              "\n",
              "/* Label box, darken color on hover, fitted */\n",
              "#sk-container-id-1 div.sk-label.fitted:hover label.sk-toggleable__label.fitted {\n",
              "  color: var(--sklearn-color-text);\n",
              "  background-color: var(--sklearn-color-fitted-level-2);\n",
              "}\n",
              "\n",
              "/* Estimator label */\n",
              "\n",
              "#sk-container-id-1 div.sk-label label {\n",
              "  font-family: monospace;\n",
              "  font-weight: bold;\n",
              "  display: inline-block;\n",
              "  line-height: 1.2em;\n",
              "}\n",
              "\n",
              "#sk-container-id-1 div.sk-label-container {\n",
              "  text-align: center;\n",
              "}\n",
              "\n",
              "/* Estimator-specific */\n",
              "#sk-container-id-1 div.sk-estimator {\n",
              "  font-family: monospace;\n",
              "  border: 1px dotted var(--sklearn-color-border-box);\n",
              "  border-radius: 0.25em;\n",
              "  box-sizing: border-box;\n",
              "  margin-bottom: 0.5em;\n",
              "  /* unfitted */\n",
              "  background-color: var(--sklearn-color-unfitted-level-0);\n",
              "}\n",
              "\n",
              "#sk-container-id-1 div.sk-estimator.fitted {\n",
              "  /* fitted */\n",
              "  background-color: var(--sklearn-color-fitted-level-0);\n",
              "}\n",
              "\n",
              "/* on hover */\n",
              "#sk-container-id-1 div.sk-estimator:hover {\n",
              "  /* unfitted */\n",
              "  background-color: var(--sklearn-color-unfitted-level-2);\n",
              "}\n",
              "\n",
              "#sk-container-id-1 div.sk-estimator.fitted:hover {\n",
              "  /* fitted */\n",
              "  background-color: var(--sklearn-color-fitted-level-2);\n",
              "}\n",
              "\n",
              "/* Specification for estimator info (e.g. \"i\" and \"?\") */\n",
              "\n",
              "/* Common style for \"i\" and \"?\" */\n",
              "\n",
              ".sk-estimator-doc-link,\n",
              "a:link.sk-estimator-doc-link,\n",
              "a:visited.sk-estimator-doc-link {\n",
              "  float: right;\n",
              "  font-size: smaller;\n",
              "  line-height: 1em;\n",
              "  font-family: monospace;\n",
              "  background-color: var(--sklearn-color-background);\n",
              "  border-radius: 1em;\n",
              "  height: 1em;\n",
              "  width: 1em;\n",
              "  text-decoration: none !important;\n",
              "  margin-left: 1ex;\n",
              "  /* unfitted */\n",
              "  border: var(--sklearn-color-unfitted-level-1) 1pt solid;\n",
              "  color: var(--sklearn-color-unfitted-level-1);\n",
              "}\n",
              "\n",
              ".sk-estimator-doc-link.fitted,\n",
              "a:link.sk-estimator-doc-link.fitted,\n",
              "a:visited.sk-estimator-doc-link.fitted {\n",
              "  /* fitted */\n",
              "  border: var(--sklearn-color-fitted-level-1) 1pt solid;\n",
              "  color: var(--sklearn-color-fitted-level-1);\n",
              "}\n",
              "\n",
              "/* On hover */\n",
              "div.sk-estimator:hover .sk-estimator-doc-link:hover,\n",
              ".sk-estimator-doc-link:hover,\n",
              "div.sk-label-container:hover .sk-estimator-doc-link:hover,\n",
              ".sk-estimator-doc-link:hover {\n",
              "  /* unfitted */\n",
              "  background-color: var(--sklearn-color-unfitted-level-3);\n",
              "  color: var(--sklearn-color-background);\n",
              "  text-decoration: none;\n",
              "}\n",
              "\n",
              "div.sk-estimator.fitted:hover .sk-estimator-doc-link.fitted:hover,\n",
              ".sk-estimator-doc-link.fitted:hover,\n",
              "div.sk-label-container:hover .sk-estimator-doc-link.fitted:hover,\n",
              ".sk-estimator-doc-link.fitted:hover {\n",
              "  /* fitted */\n",
              "  background-color: var(--sklearn-color-fitted-level-3);\n",
              "  color: var(--sklearn-color-background);\n",
              "  text-decoration: none;\n",
              "}\n",
              "\n",
              "/* Span, style for the box shown on hovering the info icon */\n",
              ".sk-estimator-doc-link span {\n",
              "  display: none;\n",
              "  z-index: 9999;\n",
              "  position: relative;\n",
              "  font-weight: normal;\n",
              "  right: .2ex;\n",
              "  padding: .5ex;\n",
              "  margin: .5ex;\n",
              "  width: min-content;\n",
              "  min-width: 20ex;\n",
              "  max-width: 50ex;\n",
              "  color: var(--sklearn-color-text);\n",
              "  box-shadow: 2pt 2pt 4pt #999;\n",
              "  /* unfitted */\n",
              "  background: var(--sklearn-color-unfitted-level-0);\n",
              "  border: .5pt solid var(--sklearn-color-unfitted-level-3);\n",
              "}\n",
              "\n",
              ".sk-estimator-doc-link.fitted span {\n",
              "  /* fitted */\n",
              "  background: var(--sklearn-color-fitted-level-0);\n",
              "  border: var(--sklearn-color-fitted-level-3);\n",
              "}\n",
              "\n",
              ".sk-estimator-doc-link:hover span {\n",
              "  display: block;\n",
              "}\n",
              "\n",
              "/* \"?\"-specific style due to the `<a>` HTML tag */\n",
              "\n",
              "#sk-container-id-1 a.estimator_doc_link {\n",
              "  float: right;\n",
              "  font-size: 1rem;\n",
              "  line-height: 1em;\n",
              "  font-family: monospace;\n",
              "  background-color: var(--sklearn-color-background);\n",
              "  border-radius: 1rem;\n",
              "  height: 1rem;\n",
              "  width: 1rem;\n",
              "  text-decoration: none;\n",
              "  /* unfitted */\n",
              "  color: var(--sklearn-color-unfitted-level-1);\n",
              "  border: var(--sklearn-color-unfitted-level-1) 1pt solid;\n",
              "}\n",
              "\n",
              "#sk-container-id-1 a.estimator_doc_link.fitted {\n",
              "  /* fitted */\n",
              "  border: var(--sklearn-color-fitted-level-1) 1pt solid;\n",
              "  color: var(--sklearn-color-fitted-level-1);\n",
              "}\n",
              "\n",
              "/* On hover */\n",
              "#sk-container-id-1 a.estimator_doc_link:hover {\n",
              "  /* unfitted */\n",
              "  background-color: var(--sklearn-color-unfitted-level-3);\n",
              "  color: var(--sklearn-color-background);\n",
              "  text-decoration: none;\n",
              "}\n",
              "\n",
              "#sk-container-id-1 a.estimator_doc_link.fitted:hover {\n",
              "  /* fitted */\n",
              "  background-color: var(--sklearn-color-fitted-level-3);\n",
              "}\n",
              "</style><div id=\"sk-container-id-1\" class=\"sk-top-container\"><div class=\"sk-text-repr-fallback\"><pre>DecisionTreeClassifier(ccp_alpha=0.02, random_state=1)</pre><b>In a Jupyter environment, please rerun this cell to show the HTML representation or trust the notebook. <br />On GitHub, the HTML representation is unable to render, please try loading this page with nbviewer.org.</b></div><div class=\"sk-container\" hidden><div class=\"sk-item\"><div class=\"sk-estimator fitted sk-toggleable\"><input class=\"sk-toggleable__control sk-hidden--visually\" id=\"sk-estimator-id-1\" type=\"checkbox\" checked><label for=\"sk-estimator-id-1\" class=\"sk-toggleable__label fitted sk-toggleable__label-arrow fitted\">&nbsp;&nbsp;DecisionTreeClassifier<a class=\"sk-estimator-doc-link fitted\" rel=\"noreferrer\" target=\"_blank\" href=\"https://scikit-learn.org/1.5/modules/generated/sklearn.tree.DecisionTreeClassifier.html\">?<span>Documentation for DecisionTreeClassifier</span></a><span class=\"sk-estimator-doc-link fitted\">i<span>Fitted</span></span></label><div class=\"sk-toggleable__content fitted\"><pre>DecisionTreeClassifier(ccp_alpha=0.02, random_state=1)</pre></div> </div></div></div></div>"
            ]
          },
          "metadata": {},
          "execution_count": 72
        }
      ],
      "source": [
        "# Оптимальное значение alpha (выберите из предыдущего шага)\n",
        "optimal_alpha = 0.02  # Пример значения, замените на найденное оптимальное значение\n",
        "\n",
        "# Обучение модели дерева решений с оптимальным значением alpha\n",
        "tree = DecisionTreeClassifier(ccp_alpha=optimal_alpha, random_state=1)\n",
        "tree.fit(X_train, y_train)"
      ]
    },
    {
      "cell_type": "markdown",
      "source": [
        "Для каждой обученной модели дерева решений вычислить метрики качества для обучающей и тестовой выборок:\n",
        "- для задачи классификации - accuracy;\n"
      ],
      "metadata": {
        "id": "eShvO2JWYNS5"
      }
    },
    {
      "cell_type": "code",
      "source": [
        "# Предсказания на обучающей и тестовой выборках\n",
        "y_train_pred = tree.predict(X_train)\n",
        "y_test_pred = tree.predict(X_test)\n",
        "\n",
        "# Вычисление точности для обучающей выборки\n",
        "accuracy_train = accuracy_score(y_train, y_train_pred)\n",
        "print(f\"Точность на обучающей выборке (alpha={optimal_alpha}): {accuracy_train:.4f}\")\n",
        "\n",
        "# Вычисление точности для тестовой выборки\n",
        "accuracy_test = accuracy_score(y_test, y_test_pred)\n",
        "print(f\"Точность на тестовой выборке (alpha={optimal_alpha}): {accuracy_test:.4f}\")"
      ],
      "metadata": {
        "id": "FfyL1-IRYOCZ",
        "colab": {
          "base_uri": "https://localhost:8080/"
        },
        "outputId": "9e2bbcc9-e34a-44e5-bea2-bd9027fa3e9e"
      },
      "execution_count": 73,
      "outputs": [
        {
          "output_type": "stream",
          "name": "stdout",
          "text": [
            "Точность на обучающей выборке (alpha=0.02): 0.9609\n",
            "Точность на тестовой выборке (alpha=0.02): 0.8393\n"
          ]
        }
      ]
    },
    {
      "cell_type": "markdown",
      "metadata": {
        "id": "um4XO_UvJ95a"
      },
      "source": [
        "Построить график зависимости метрик качества для обучающей и тестовой выборок от параметра $\\alpha$.\n",
        "\n",
        "Оценить оптимальное значение параметра регуляризации $\\alpha$."
      ]
    },
    {
      "cell_type": "code",
      "execution_count": 76,
      "metadata": {
        "id": "QsaaAUsTJ95b",
        "colab": {
          "base_uri": "https://localhost:8080/",
          "height": 599
        },
        "outputId": "92895c33-9124-482e-c801-78f396fdc048"
      },
      "outputs": [
        {
          "output_type": "display_data",
          "data": {
            "text/plain": [
              "<Figure size 1000x600 with 1 Axes>"
            ],
            "image/png": "[encoded data removed]"
          },
          "metadata": {}
        },
        {
          "output_type": "stream",
          "name": "stdout",
          "text": [
            "Оптимальное значение alpha: 0.0076\n",
            "Максимальная точность на тестовой выборке: 0.8571\n"
          ]
        }
      ],
      "source": [
        "# Обучение дерева решений с использованием Cost Complexity Pruning\n",
        "tree = DecisionTreeClassifier(random_state=1)\n",
        "path = tree.cost_complexity_pruning_path(X_train, y_train)\n",
        "ccp_alphas, impurities = path.ccp_alphas, path.impurities\n",
        "\n",
        "# Списки для хранения точности на обучающей и тестовой выборках\n",
        "train_scores = []\n",
        "test_scores = []\n",
        "\n",
        "# Обучение модели для каждого значения alpha\n",
        "for alpha in ccp_alphas:\n",
        "    tree = DecisionTreeClassifier(ccp_alpha=alpha, random_state=1)\n",
        "    tree.fit(X_train, y_train)\n",
        "\n",
        "    # Точность на обучающей выборке\n",
        "    y_train_pred = tree.predict(X_train)\n",
        "    train_accuracy = accuracy_score(y_train, y_train_pred)\n",
        "    train_scores.append(train_accuracy)\n",
        "\n",
        "    # Точность на тестовой выборке\n",
        "    y_test_pred = tree.predict(X_test)\n",
        "    test_accuracy = accuracy_score(y_test, y_test_pred)\n",
        "    test_scores.append(test_accuracy)\n",
        "\n",
        "# Построение графика зависимости точности от alpha\n",
        "plt.figure(figsize=(10, 6))\n",
        "plt.plot(ccp_alphas, train_scores, marker='o', label=\"Training accuracy\", drawstyle=\"steps-post\")\n",
        "plt.plot(ccp_alphas, test_scores, marker='o', label=\"Test accuracy\", drawstyle=\"steps-post\")\n",
        "plt.title(\"Зависимость точности от параметра регуляризации alpha\")\n",
        "plt.xlabel(\"alpha\")\n",
        "plt.ylabel(\"Accuracy\")\n",
        "plt.legend()\n",
        "plt.grid()\n",
        "plt.show()\n",
        "\n",
        "# Оценка оптимального значения alpha\n",
        "optimal_alpha_index = test_scores.index(max(test_scores))\n",
        "optimal_alpha = ccp_alphas[optimal_alpha_index]\n",
        "print(f\"Оптимальное значение alpha: {optimal_alpha:.4f}\")\n",
        "print(f\"Максимальная точность на тестовой выборке: {max(test_scores):.4f}\")\n"
      ]
    },
    {
      "cell_type": "markdown",
      "source": [
        "Обучить модель дерева решений с найденным значением параметра регуляризации $\\alpha$, задав его значение в гиперпараметре `ccp_alpha`. Остальные гиперпараметры модели оставить по умолчанию."
      ],
      "metadata": {
        "id": "KXi9k6pwZC7F"
      }
    },
    {
      "cell_type": "code",
      "source": [
        "# Найденное оптимальное значение alpha\n",
        "optimal_alpha = 0.0076  # Замените на найденное оптимальное значение\n",
        "\n",
        "# Обучение модели дерева решений с оптимальным значением alpha\n",
        "tree = DecisionTreeClassifier(ccp_alpha=optimal_alpha, random_state=1)\n",
        "tree.fit(X_train, y_train)"
      ],
      "metadata": {
        "id": "im_o2I4FZzk-",
        "colab": {
          "base_uri": "https://localhost:8080/",
          "height": 81
        },
        "outputId": "25beb6f1-f88b-4638-f0eb-5a823e4f404f"
      },
      "execution_count": 77,
      "outputs": [
        {
          "output_type": "execute_result",
          "data": {
            "text/plain": [
              "DecisionTreeClassifier(ccp_alpha=0.0076, random_state=1)"
            ],
            "text/html": [
              "<style>#sk-container-id-2 {\n",
              "  /* Definition of color scheme common for light and dark mode */\n",
              "  --sklearn-color-text: black;\n",
              "  --sklearn-color-line: gray;\n",
              "  /* Definition of color scheme for unfitted estimators */\n",
              "  --sklearn-color-unfitted-level-0: #fff5e6;\n",
              "  --sklearn-color-unfitted-level-1: #f6e4d2;\n",
              "  --sklearn-color-unfitted-level-2: #ffe0b3;\n",
              "  --sklearn-color-unfitted-level-3: chocolate;\n",
              "  /* Definition of color scheme for fitted estimators */\n",
              "  --sklearn-color-fitted-level-0: #f0f8ff;\n",
              "  --sklearn-color-fitted-level-1: #d4ebff;\n",
              "  --sklearn-color-fitted-level-2: #b3dbfd;\n",
              "  --sklearn-color-fitted-level-3: cornflowerblue;\n",
              "\n",
              "  /* Specific color for light theme */\n",
              "  --sklearn-color-text-on-default-background: var(--sg-text-color, var(--theme-code-foreground, var(--jp-content-font-color1, black)));\n",
              "  --sklearn-color-background: var(--sg-background-color, var(--theme-background, var(--jp-layout-color0, white)));\n",
              "  --sklearn-color-border-box: var(--sg-text-color, var(--theme-code-foreground, var(--jp-content-font-color1, black)));\n",
              "  --sklearn-color-icon: #696969;\n",
              "\n",
              "  @media (prefers-color-scheme: dark) {\n",
              "    /* Redefinition of color scheme for dark theme */\n",
              "    --sklearn-color-text-on-default-background: var(--sg-text-color, var(--theme-code-foreground, var(--jp-content-font-color1, white)));\n",
              "    --sklearn-color-background: var(--sg-background-color, var(--theme-background, var(--jp-layout-color0, #111)));\n",
              "    --sklearn-color-border-box: var(--sg-text-color, var(--theme-code-foreground, var(--jp-content-font-color1, white)));\n",
              "    --sklearn-color-icon: #878787;\n",
              "  }\n",
              "}\n",
              "\n",
              "#sk-container-id-2 {\n",
              "  color: var(--sklearn-color-text);\n",
              "}\n",
              "\n",
              "#sk-container-id-2 pre {\n",
              "  padding: 0;\n",
              "}\n",
              "\n",
              "#sk-container-id-2 input.sk-hidden--visually {\n",
              "  border: 0;\n",
              "  clip: rect(1px 1px 1px 1px);\n",
              "  clip: rect(1px, 1px, 1px, 1px);\n",
              "  height: 1px;\n",
              "  margin: -1px;\n",
              "  overflow: hidden;\n",
              "  padding: 0;\n",
              "  position: absolute;\n",
              "  width: 1px;\n",
              "}\n",
              "\n",
              "#sk-container-id-2 div.sk-dashed-wrapped {\n",
              "  border: 1px dashed var(--sklearn-color-line);\n",
              "  margin: 0 0.4em 0.5em 0.4em;\n",
              "  box-sizing: border-box;\n",
              "  padding-bottom: 0.4em;\n",
              "  background-color: var(--sklearn-color-background);\n",
              "}\n",
              "\n",
              "#sk-container-id-2 div.sk-container {\n",
              "  /* jupyter's `normalize.less` sets `[hidden] { display: none; }`\n",
              "     but bootstrap.min.css set `[hidden] { display: none !important; }`\n",
              "     so we also need the `!important` here to be able to override the\n",
              "     default hidden behavior on the sphinx rendered scikit-learn.org.\n",
              "     See: https://github.com/scikit-learn/scikit-learn/issues/21755 */\n",
              "  display: inline-block !important;\n",
              "  position: relative;\n",
              "}\n",
              "\n",
              "#sk-container-id-2 div.sk-text-repr-fallback {\n",
              "  display: none;\n",
              "}\n",
              "\n",
              "div.sk-parallel-item,\n",
              "div.sk-serial,\n",
              "div.sk-item {\n",
              "  /* draw centered vertical line to link estimators */\n",
              "  background-image: linear-gradient(var(--sklearn-color-text-on-default-background), var(--sklearn-color-text-on-default-background));\n",
              "  background-size: 2px 100%;\n",
              "  background-repeat: no-repeat;\n",
              "  background-position: center center;\n",
              "}\n",
              "\n",
              "/* Parallel-specific style estimator block */\n",
              "\n",
              "#sk-container-id-2 div.sk-parallel-item::after {\n",
              "  content: \"\";\n",
              "  width: 100%;\n",
              "  border-bottom: 2px solid var(--sklearn-color-text-on-default-background);\n",
              "  flex-grow: 1;\n",
              "}\n",
              "\n",
              "#sk-container-id-2 div.sk-parallel {\n",
              "  display: flex;\n",
              "  align-items: stretch;\n",
              "  justify-content: center;\n",
              "  background-color: var(--sklearn-color-background);\n",
              "  position: relative;\n",
              "}\n",
              "\n",
              "#sk-container-id-2 div.sk-parallel-item {\n",
              "  display: flex;\n",
              "  flex-direction: column;\n",
              "}\n",
              "\n",
              "#sk-container-id-2 div.sk-parallel-item:first-child::after {\n",
              "  align-self: flex-end;\n",
              "  width: 50%;\n",
              "}\n",
              "\n",
              "#sk-container-id-2 div.sk-parallel-item:last-child::after {\n",
              "  align-self: flex-start;\n",
              "  width: 50%;\n",
              "}\n",
              "\n",
              "#sk-container-id-2 div.sk-parallel-item:only-child::after {\n",
              "  width: 0;\n",
              "}\n",
              "\n",
              "/* Serial-specific style estimator block */\n",
              "\n",
              "#sk-container-id-2 div.sk-serial {\n",
              "  display: flex;\n",
              "  flex-direction: column;\n",
              "  align-items: center;\n",
              "  background-color: var(--sklearn-color-background);\n",
              "  padding-right: 1em;\n",
              "  padding-left: 1em;\n",
              "}\n",
              "\n",
              "\n",
              "/* Toggleable style: style used for estimator/Pipeline/ColumnTransformer box that is\n",
              "clickable and can be expanded/collapsed.\n",
              "- Pipeline and ColumnTransformer use this feature and define the default style\n",
              "- Estimators will overwrite some part of the style using the `sk-estimator` class\n",
              "*/\n",
              "\n",
              "/* Pipeline and ColumnTransformer style (default) */\n",
              "\n",
              "#sk-container-id-2 div.sk-toggleable {\n",
              "  /* Default theme specific background. It is overwritten whether we have a\n",
              "  specific estimator or a Pipeline/ColumnTransformer */\n",
              "  background-color: var(--sklearn-color-background);\n",
              "}\n",
              "\n",
              "/* Toggleable label */\n",
              "#sk-container-id-2 label.sk-toggleable__label {\n",
              "  cursor: pointer;\n",
              "  display: block;\n",
              "  width: 100%;\n",
              "  margin-bottom: 0;\n",
              "  padding: 0.5em;\n",
              "  box-sizing: border-box;\n",
              "  text-align: center;\n",
              "}\n",
              "\n",
              "#sk-container-id-2 label.sk-toggleable__label-arrow:before {\n",
              "  /* Arrow on the left of the label */\n",
              "  content: \"▸\";\n",
              "  float: left;\n",
              "  margin-right: 0.25em;\n",
              "  color: var(--sklearn-color-icon);\n",
              "}\n",
              "\n",
              "#sk-container-id-2 label.sk-toggleable__label-arrow:hover:before {\n",
              "  color: var(--sklearn-color-text);\n",
              "}\n",
              "\n",
              "/* Toggleable content - dropdown */\n",
              "\n",
              "#sk-container-id-2 div.sk-toggleable__content {\n",
              "  max-height: 0;\n",
              "  max-width: 0;\n",
              "  overflow: hidden;\n",
              "  text-align: left;\n",
              "  /* unfitted */\n",
              "  background-color: var(--sklearn-color-unfitted-level-0);\n",
              "}\n",
              "\n",
              "#sk-container-id-2 div.sk-toggleable__content.fitted {\n",
              "  /* fitted */\n",
              "  background-color: var(--sklearn-color-fitted-level-0);\n",
              "}\n",
              "\n",
              "#sk-container-id-2 div.sk-toggleable__content pre {\n",
              "  margin: 0.2em;\n",
              "  border-radius: 0.25em;\n",
              "  color: var(--sklearn-color-text);\n",
              "  /* unfitted */\n",
              "  background-color: var(--sklearn-color-unfitted-level-0);\n",
              "}\n",
              "\n",
              "#sk-container-id-2 div.sk-toggleable__content.fitted pre {\n",
              "  /* unfitted */\n",
              "  background-color: var(--sklearn-color-fitted-level-0);\n",
              "}\n",
              "\n",
              "#sk-container-id-2 input.sk-toggleable__control:checked~div.sk-toggleable__content {\n",
              "  /* Expand drop-down */\n",
              "  max-height: 200px;\n",
              "  max-width: 100%;\n",
              "  overflow: auto;\n",
              "}\n",
              "\n",
              "#sk-container-id-2 input.sk-toggleable__control:checked~label.sk-toggleable__label-arrow:before {\n",
              "  content: \"▾\";\n",
              "}\n",
              "\n",
              "/* Pipeline/ColumnTransformer-specific style */\n",
              "\n",
              "#sk-container-id-2 div.sk-label input.sk-toggleable__control:checked~label.sk-toggleable__label {\n",
              "  color: var(--sklearn-color-text);\n",
              "  background-color: var(--sklearn-color-unfitted-level-2);\n",
              "}\n",
              "\n",
              "#sk-container-id-2 div.sk-label.fitted input.sk-toggleable__control:checked~label.sk-toggleable__label {\n",
              "  background-color: var(--sklearn-color-fitted-level-2);\n",
              "}\n",
              "\n",
              "/* Estimator-specific style */\n",
              "\n",
              "/* Colorize estimator box */\n",
              "#sk-container-id-2 div.sk-estimator input.sk-toggleable__control:checked~label.sk-toggleable__label {\n",
              "  /* unfitted */\n",
              "  background-color: var(--sklearn-color-unfitted-level-2);\n",
              "}\n",
              "\n",
              "#sk-container-id-2 div.sk-estimator.fitted input.sk-toggleable__control:checked~label.sk-toggleable__label {\n",
              "  /* fitted */\n",
              "  background-color: var(--sklearn-color-fitted-level-2);\n",
              "}\n",
              "\n",
              "#sk-container-id-2 div.sk-label label.sk-toggleable__label,\n",
              "#sk-container-id-2 div.sk-label label {\n",
              "  /* The background is the default theme color */\n",
              "  color: var(--sklearn-color-text-on-default-background);\n",
              "}\n",
              "\n",
              "/* On hover, darken the color of the background */\n",
              "#sk-container-id-2 div.sk-label:hover label.sk-toggleable__label {\n",
              "  color: var(--sklearn-color-text);\n",
              "  background-color: var(--sklearn-color-unfitted-level-2);\n",
              "}\n",
              "\n",
              "/* Label box, darken color on hover, fitted */\n",
              "#sk-container-id-2 div.sk-label.fitted:hover label.sk-toggleable__label.fitted {\n",
              "  color: var(--sklearn-color-text);\n",
              "  background-color: var(--sklearn-color-fitted-level-2);\n",
              "}\n",
              "\n",
              "/* Estimator label */\n",
              "\n",
              "#sk-container-id-2 div.sk-label label {\n",
              "  font-family: monospace;\n",
              "  font-weight: bold;\n",
              "  display: inline-block;\n",
              "  line-height: 1.2em;\n",
              "}\n",
              "\n",
              "#sk-container-id-2 div.sk-label-container {\n",
              "  text-align: center;\n",
              "}\n",
              "\n",
              "/* Estimator-specific */\n",
              "#sk-container-id-2 div.sk-estimator {\n",
              "  font-family: monospace;\n",
              "  border: 1px dotted var(--sklearn-color-border-box);\n",
              "  border-radius: 0.25em;\n",
              "  box-sizing: border-box;\n",
              "  margin-bottom: 0.5em;\n",
              "  /* unfitted */\n",
              "  background-color: var(--sklearn-color-unfitted-level-0);\n",
              "}\n",
              "\n",
              "#sk-container-id-2 div.sk-estimator.fitted {\n",
              "  /* fitted */\n",
              "  background-color: var(--sklearn-color-fitted-level-0);\n",
              "}\n",
              "\n",
              "/* on hover */\n",
              "#sk-container-id-2 div.sk-estimator:hover {\n",
              "  /* unfitted */\n",
              "  background-color: var(--sklearn-color-unfitted-level-2);\n",
              "}\n",
              "\n",
              "#sk-container-id-2 div.sk-estimator.fitted:hover {\n",
              "  /* fitted */\n",
              "  background-color: var(--sklearn-color-fitted-level-2);\n",
              "}\n",
              "\n",
              "/* Specification for estimator info (e.g. \"i\" and \"?\") */\n",
              "\n",
              "/* Common style for \"i\" and \"?\" */\n",
              "\n",
              ".sk-estimator-doc-link,\n",
              "a:link.sk-estimator-doc-link,\n",
              "a:visited.sk-estimator-doc-link {\n",
              "  float: right;\n",
              "  font-size: smaller;\n",
              "  line-height: 1em;\n",
              "  font-family: monospace;\n",
              "  background-color: var(--sklearn-color-background);\n",
              "  border-radius: 1em;\n",
              "  height: 1em;\n",
              "  width: 1em;\n",
              "  text-decoration: none !important;\n",
              "  margin-left: 1ex;\n",
              "  /* unfitted */\n",
              "  border: var(--sklearn-color-unfitted-level-1) 1pt solid;\n",
              "  color: var(--sklearn-color-unfitted-level-1);\n",
              "}\n",
              "\n",
              ".sk-estimator-doc-link.fitted,\n",
              "a:link.sk-estimator-doc-link.fitted,\n",
              "a:visited.sk-estimator-doc-link.fitted {\n",
              "  /* fitted */\n",
              "  border: var(--sklearn-color-fitted-level-1) 1pt solid;\n",
              "  color: var(--sklearn-color-fitted-level-1);\n",
              "}\n",
              "\n",
              "/* On hover */\n",
              "div.sk-estimator:hover .sk-estimator-doc-link:hover,\n",
              ".sk-estimator-doc-link:hover,\n",
              "div.sk-label-container:hover .sk-estimator-doc-link:hover,\n",
              ".sk-estimator-doc-link:hover {\n",
              "  /* unfitted */\n",
              "  background-color: var(--sklearn-color-unfitted-level-3);\n",
              "  color: var(--sklearn-color-background);\n",
              "  text-decoration: none;\n",
              "}\n",
              "\n",
              "div.sk-estimator.fitted:hover .sk-estimator-doc-link.fitted:hover,\n",
              ".sk-estimator-doc-link.fitted:hover,\n",
              "div.sk-label-container:hover .sk-estimator-doc-link.fitted:hover,\n",
              ".sk-estimator-doc-link.fitted:hover {\n",
              "  /* fitted */\n",
              "  background-color: var(--sklearn-color-fitted-level-3);\n",
              "  color: var(--sklearn-color-background);\n",
              "  text-decoration: none;\n",
              "}\n",
              "\n",
              "/* Span, style for the box shown on hovering the info icon */\n",
              ".sk-estimator-doc-link span {\n",
              "  display: none;\n",
              "  z-index: 9999;\n",
              "  position: relative;\n",
              "  font-weight: normal;\n",
              "  right: .2ex;\n",
              "  padding: .5ex;\n",
              "  margin: .5ex;\n",
              "  width: min-content;\n",
              "  min-width: 20ex;\n",
              "  max-width: 50ex;\n",
              "  color: var(--sklearn-color-text);\n",
              "  box-shadow: 2pt 2pt 4pt #999;\n",
              "  /* unfitted */\n",
              "  background: var(--sklearn-color-unfitted-level-0);\n",
              "  border: .5pt solid var(--sklearn-color-unfitted-level-3);\n",
              "}\n",
              "\n",
              ".sk-estimator-doc-link.fitted span {\n",
              "  /* fitted */\n",
              "  background: var(--sklearn-color-fitted-level-0);\n",
              "  border: var(--sklearn-color-fitted-level-3);\n",
              "}\n",
              "\n",
              ".sk-estimator-doc-link:hover span {\n",
              "  display: block;\n",
              "}\n",
              "\n",
              "/* \"?\"-specific style due to the `<a>` HTML tag */\n",
              "\n",
              "#sk-container-id-2 a.estimator_doc_link {\n",
              "  float: right;\n",
              "  font-size: 1rem;\n",
              "  line-height: 1em;\n",
              "  font-family: monospace;\n",
              "  background-color: var(--sklearn-color-background);\n",
              "  border-radius: 1rem;\n",
              "  height: 1rem;\n",
              "  width: 1rem;\n",
              "  text-decoration: none;\n",
              "  /* unfitted */\n",
              "  color: var(--sklearn-color-unfitted-level-1);\n",
              "  border: var(--sklearn-color-unfitted-level-1) 1pt solid;\n",
              "}\n",
              "\n",
              "#sk-container-id-2 a.estimator_doc_link.fitted {\n",
              "  /* fitted */\n",
              "  border: var(--sklearn-color-fitted-level-1) 1pt solid;\n",
              "  color: var(--sklearn-color-fitted-level-1);\n",
              "}\n",
              "\n",
              "/* On hover */\n",
              "#sk-container-id-2 a.estimator_doc_link:hover {\n",
              "  /* unfitted */\n",
              "  background-color: var(--sklearn-color-unfitted-level-3);\n",
              "  color: var(--sklearn-color-background);\n",
              "  text-decoration: none;\n",
              "}\n",
              "\n",
              "#sk-container-id-2 a.estimator_doc_link.fitted:hover {\n",
              "  /* fitted */\n",
              "  background-color: var(--sklearn-color-fitted-level-3);\n",
              "}\n",
              "</style><div id=\"sk-container-id-2\" class=\"sk-top-container\"><div class=\"sk-text-repr-fallback\"><pre>DecisionTreeClassifier(ccp_alpha=0.0076, random_state=1)</pre><b>In a Jupyter environment, please rerun this cell to show the HTML representation or trust the notebook. <br />On GitHub, the HTML representation is unable to render, please try loading this page with nbviewer.org.</b></div><div class=\"sk-container\" hidden><div class=\"sk-item\"><div class=\"sk-estimator fitted sk-toggleable\"><input class=\"sk-toggleable__control sk-hidden--visually\" id=\"sk-estimator-id-2\" type=\"checkbox\" checked><label for=\"sk-estimator-id-2\" class=\"sk-toggleable__label fitted sk-toggleable__label-arrow fitted\">&nbsp;&nbsp;DecisionTreeClassifier<a class=\"sk-estimator-doc-link fitted\" rel=\"noreferrer\" target=\"_blank\" href=\"https://scikit-learn.org/1.5/modules/generated/sklearn.tree.DecisionTreeClassifier.html\">?<span>Documentation for DecisionTreeClassifier</span></a><span class=\"sk-estimator-doc-link fitted\">i<span>Fitted</span></span></label><div class=\"sk-toggleable__content fitted\"><pre>DecisionTreeClassifier(ccp_alpha=0.0076, random_state=1)</pre></div> </div></div></div></div>"
            ]
          },
          "metadata": {},
          "execution_count": 77
        }
      ]
    },
    {
      "cell_type": "markdown",
      "source": [
        "Вычислить метрику качества модели дерева решений на обучающей и тестовой выборках:\n",
        "- для задачи классификации - accuracy;\n"
      ],
      "metadata": {
        "id": "CnhVx9QOZ6Kv"
      }
    },
    {
      "cell_type": "code",
      "source": [
        "# # Предсказания на обучающей и тестовой выборках\n",
        "y_train_pred = tree.predict(X_train)\n",
        "y_test_pred = tree.predict(X_test)\n",
        "\n",
        "# Вычисление точности для обучающей выборки\n",
        "accuracy_train = accuracy_score(y_train, y_train_pred)\n",
        "print(f\"Точность на обучающей выборке (alpha={optimal_alpha}): {accuracy_train:.4f}\")\n",
        "\n",
        "# Вычисление точности для тестовой выборки\n",
        "accuracy_test = accuracy_score(y_test, y_test_pred)\n",
        "print(f\"Точность на тестовой выборке (alpha={optimal_alpha}): {accuracy_test:.4f}\")"
      ],
      "metadata": {
        "id": "l347nPY2Z6gv",
        "colab": {
          "base_uri": "https://localhost:8080/"
        },
        "outputId": "76e7a677-1bd6-4d70-bc9b-bf6e121e82fd"
      },
      "execution_count": 78,
      "outputs": [
        {
          "output_type": "stream",
          "name": "stdout",
          "text": [
            "Точность на обучающей выборке (alpha=0.0076): 0.9766\n",
            "Точность на тестовой выборке (alpha=0.0076): 0.8571\n"
          ]
        }
      ]
    },
    {
      "cell_type": "markdown",
      "source": [
        "# **5. Использование модели для предсказания**"
      ],
      "metadata": {
        "id": "rn2tVYKo6abk"
      }
    },
    {
      "cell_type": "markdown",
      "source": [
        "Задать произвольный объект и определить:\n",
        "- для задачи классификации - какому классу он будет принадлежать и вероятности принадлежности к каждому классу;\n"
      ],
      "metadata": {
        "id": "Z6pmueLT6p06"
      }
    },
    {
      "cell_type": "code",
      "source": [
        "# Задание произвольного объекта\n",
        "new_object = [[0.5, 1.2, -0.8]]  # Пример значений признаков\n",
        "\n",
        "# Определение класса объекта\n",
        "predicted_class = tree.predict(new_object)\n",
        "print(f\"Предсказанный класс объекта: {predicted_class[0]}\")\n",
        "\n",
        "# Определение вероятностей принадлежности к каждому классу\n",
        "class_probabilities = tree.predict_proba(new_object)\n",
        "print(f\"Вероятности принадлежности к классам: {class_probabilities[0]}\")"
      ],
      "metadata": {
        "id": "dksGK9Pmu1aq",
        "colab": {
          "base_uri": "https://localhost:8080/"
        },
        "outputId": "d27da0e0-69b3-4e91-a079-8edff8cfcb11"
      },
      "execution_count": 83,
      "outputs": [
        {
          "output_type": "stream",
          "name": "stdout",
          "text": [
            "Предсказанный класс объекта: 1\n",
            "Вероятности принадлежности к классам: [0.0625 0.9375]\n"
          ]
        }
      ]
    },
    {
      "cell_type": "markdown",
      "source": [
        "# **6. Оценивание важности признаков**"
      ],
      "metadata": {
        "id": "9WWG1LySX9RI"
      }
    },
    {
      "cell_type": "markdown",
      "source": [
        "Оценить степень важности признаков методом Mean decrease impurity (MDI).\n",
        "\n",
        "Использовать атрибут `feature_importances_` классов `DecisionTreeClassifier` или `DecisionTreeRegressor` ."
      ],
      "metadata": {
        "id": "kUPK6ULBx60f"
      }
    },
    {
      "cell_type": "code",
      "source": [
        "# Получение важности признаков\n",
        "feature_importances = tree.feature_importances_\n",
        "\n",
        "# Вывод важности признаков\n",
        "print(\"Важность признаков:\")\n",
        "for feature, importance in zip([f\"Feature_{i+1}\" for i in range(X.shape[1])], feature_importances):\n",
        "    print(f\"{feature}: {importance:.4f}\")\n"
      ],
      "metadata": {
        "id": "rhhVosoi8HGV",
        "colab": {
          "base_uri": "https://localhost:8080/"
        },
        "outputId": "dfef7af8-f2cb-46dd-c131-527a9453d9fb"
      },
      "execution_count": 85,
      "outputs": [
        {
          "output_type": "stream",
          "name": "stdout",
          "text": [
            "Важность признаков:\n",
            "Feature_1: 0.1213\n",
            "Feature_2: 0.0343\n",
            "Feature_3: 0.8444\n"
          ]
        }
      ]
    },
    {
      "cell_type": "markdown",
      "source": [
        "Построить диаграмму `bar` для визуализации степени важности признаков."
      ],
      "metadata": {
        "id": "dMZ4frXHYec3"
      }
    },
    {
      "cell_type": "code",
      "source": [
        "# Визуализация важности признаков с помощью диаграммы bar\n",
        "plt.figure(figsize=(10, 6))\n",
        "plt.bar([f\"Feature_{i+1}\" for i in range(X.shape[1])], feature_importances, color='skyblue')\n",
        "plt.title(\"Важность признаков (Mean Decrease Impurity)\")\n",
        "plt.xlabel(\"Признаки\")\n",
        "plt.ylabel(\"Важность\")\n",
        "plt.grid(axis='y')\n",
        "plt.show()"
      ],
      "metadata": {
        "id": "r3xfrPRbrJ31",
        "colab": {
          "base_uri": "https://localhost:8080/",
          "height": 564
        },
        "outputId": "dc3b9de5-a8bc-45ba-9a37-ae0af15e68ec"
      },
      "execution_count": 86,
      "outputs": [
        {
          "output_type": "display_data",
          "data": {
            "text/plain": [
              "<Figure size 1000x600 with 1 Axes>"
            ],
            "image/png": "[encoded data removed]"
          },
          "metadata": {}
        }
      ]
    },
    {
      "cell_type": "markdown",
      "source": [
        "Оценить степень важности признаков методом Permutation feature importance.\n",
        "\n",
        "Использовать лласс `permutation_importance` модуля `inspection` библиотеки `sklearn`.\n"
      ],
      "metadata": {
        "id": "DE_SZks35hoY"
      }
    },
    {
      "cell_type": "code",
      "source": [
        "# Оценка важности признаков методом Permutation Feature Importance\n",
        "result = permutation_importance(tree, X_test, y_test, n_repeats=10, random_state=1)\n",
        "\n",
        "# Получение важности признаков\n",
        "feature_importances = result.importances_mean\n",
        "\n",
        "# Вывод важности признаков\n",
        "print(\"Важность признаков (Permutation Feature Importance):\")\n",
        "for feature, importance in zip([f\"Feature_{i+1}\" for i in range(X.shape[1])], feature_importances):\n",
        "    print(f\"{feature}: {importance:.4f}\")"
      ],
      "metadata": {
        "id": "QOVBrHf9b5PC",
        "colab": {
          "base_uri": "https://localhost:8080/"
        },
        "outputId": "854eca66-50a1-4509-df69-93d83e198b12"
      },
      "execution_count": 90,
      "outputs": [
        {
          "output_type": "stream",
          "name": "stdout",
          "text": [
            "Важность признаков (Permutation Feature Importance):\n",
            "Feature_1: 0.0964\n",
            "Feature_2: 0.0000\n",
            "Feature_3: 0.2571\n"
          ]
        }
      ]
    },
    {
      "cell_type": "markdown",
      "source": [
        "Построить диаграмму `bar` для визуализации степени важности признаков."
      ],
      "metadata": {
        "id": "_Za_j6Myb7eh"
      }
    },
    {
      "cell_type": "code",
      "source": [
        "# # Визуализация важности признаков\n",
        "plt.figure(figsize=(10, 6))\n",
        "plt.bar([f\"Feature_{i+1}\" for i in range(X.shape[1])], feature_importances, color='skyblue')\n",
        "plt.title(\"Важность признаков (Permutation Feature Importance)\")\n",
        "plt.xlabel(\"Признаки\")\n",
        "plt.ylabel(\"Важность\")\n",
        "plt.grid(axis='y')\n",
        "plt.show()"
      ],
      "metadata": {
        "id": "PGhF1ovNb7e3",
        "colab": {
          "base_uri": "https://localhost:8080/",
          "height": 564
        },
        "outputId": "dace5519-fba4-433c-94cc-5ffc5b72ae4a"
      },
      "execution_count": 91,
      "outputs": [
        {
          "output_type": "display_data",
          "data": {
            "text/plain": [
              "<Figure size 1000x600 with 1 Axes>"
            ],
            "image/png": "[encoded data removed]"
          },
          "metadata": {}
        }
      ]
    }
  ]
}